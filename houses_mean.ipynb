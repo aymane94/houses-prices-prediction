{
 "cells": [
  {
   "cell_type": "markdown",
   "id": "96bb1395-fde1-4855-b14b-a772314d30bd",
   "metadata": {
    "jp-MarkdownHeadingCollapsed": true,
    "tags": []
   },
   "source": [
    "# tests"
   ]
  },
  {
   "cell_type": "code",
   "execution_count": null,
   "id": "49f3f445-fd38-4689-ac70-fedc460d731b",
   "metadata": {
    "tags": []
   },
   "outputs": [],
   "source": [
    "import numpy as np\n",
    "import pandas as pd"
   ]
  },
  {
   "cell_type": "code",
   "execution_count": null,
   "id": "1b82341e-27b9-4390-baaf-7013d7089dae",
   "metadata": {
    "tags": []
   },
   "outputs": [],
   "source": [
    "df = pd.DataFrame({\n",
    "    \"vp\": [6,3,6,5,10], \n",
    "    \"p\": [4,4,2,12,23], \n",
    "    'n': [5,14,1,32,12],\n",
    "    'r': [3,7,3,27,5],\n",
    "    'vr': [2,6,0,18,14],\n",
    "})"
   ]
  },
  {
   "cell_type": "code",
   "execution_count": null,
   "id": "676dabd5-008b-4781-8057-fa1fc4c4c44e",
   "metadata": {
    "tags": []
   },
   "outputs": [],
   "source": [
    "df"
   ]
  },
  {
   "cell_type": "code",
   "execution_count": null,
   "id": "36d826fc-c7e8-4024-9304-4a49385c3054",
   "metadata": {
    "tags": []
   },
   "outputs": [],
   "source": [
    "df.apply(lambda x:x/x.sum(),axis=1)"
   ]
  },
  {
   "cell_type": "markdown",
   "id": "2fa5b91a-d269-459e-9ed7-ac57ea9b1cca",
   "metadata": {},
   "source": [
    "# Introduction"
   ]
  },
  {
   "cell_type": "markdown",
   "id": "7bbb7659-f6db-46da-bed1-30a838fc3a27",
   "metadata": {},
   "source": [
    "- outliers regularisation method = mean\n",
    "- mean regularisation columns = [\n",
    "    \"PPDCategoryType\",\n",
    "    \"PropertyType\",\n",
    "    \"Duration\",\n",
    "    'County',\n",
    "    'TownCity'\n",
    "]\n",
    "- outlier_deletion = (isLog = False) then (isLog = True)\n",
    "\n",
    "--> r2 = 0.69 - 0.70"
   ]
  },
  {
   "cell_type": "code",
   "execution_count": 1,
   "id": "1531b677-768a-42ae-9de6-65e110d2487b",
   "metadata": {},
   "outputs": [],
   "source": [
    "config_processing = {\n",
    "    # ----- default\n",
    "    # \"\"\"\n",
    "    #     r2 = 0.6827\n",
    "    #     inputs = [\n",
    "    #         'OldNew' ,  \n",
    "    #         'Duration' , \n",
    "    #         'PPDCategoryType',\n",
    "    #         # Month\n",
    "    #         *[k for k in data.columns if ('Month' in k)],\n",
    "    #         # Weights\n",
    "    #         *[k for k in data.columns if ('Weights' in k) and (not (\"Transf\" in k))],\n",
    "    #         # # zscore\n",
    "    #         *[k for k in data.columns if ('WeightsTransf' in k)],\n",
    "    #         # PropertyType\n",
    "    #         *[k for k in data.columns if ('PropertyType' in k)],\n",
    "    #         # target\n",
    "    #         target\n",
    "    #     ]\n",
    "    # \"\"\"\n",
    "    \"default\" : {\n",
    "        \"method\" : \"mean\",\n",
    "        \"groupby\" : [\n",
    "            \"PPDCategoryType\",\n",
    "            \"PropertyType\",\n",
    "            \"Duration\",\n",
    "            'District',\n",
    "            'TownCity',\n",
    "        ],\n",
    "        \"isLog\" : False,\n",
    "        'classify_outliers_cycle': 2\n",
    "    },\n",
    "    # ----- v1\n",
    "    # \"\"\"\n",
    "    #     r2 = 0.6813    \n",
    "    #     inputs = [\n",
    "    #         'OldNew' ,  \n",
    "    #         'Duration' , \n",
    "    #         'PPDCategoryType',\n",
    "    #         # Month\n",
    "    #         *[k for k in data.columns if ('Month' in k)],\n",
    "    #         # Weights\n",
    "    #         *[k for k in data.columns if ('Weights' in k) and (not (\"Transf\" in k))],\n",
    "    #         # PropertyType\n",
    "    #         *[k for k in data.columns if ('PropertyType' in k)],\n",
    "    #         # target\n",
    "    #         target\n",
    "    #     ]\n",
    "    # \"\"\"\n",
    "    \"version 1\" : {\n",
    "        \"method\" : \"mean\",\n",
    "        \"groupby\" : [\n",
    "            \"PropertyType\",\n",
    "            \"Duration\",\n",
    "            'County',\n",
    "            'District',\n",
    "            'TownCity',\n",
    "        ],\n",
    "        \"isLog\" : False,\n",
    "        'classify_outliers_cycle': 2\n",
    "    },\n",
    "    # ----- v2 \n",
    "    # \"\"\"\n",
    "    #     r2 = 0.6964    \n",
    "    #     inputs = [\n",
    "    #         'OldNew' ,  \n",
    "    #         'Duration' , \n",
    "    #         'PPDCategoryType',\n",
    "    #         # Month\n",
    "    #         *[k for k in data.columns if ('Month' in k)],\n",
    "    #         # Weights\n",
    "    #         *[k for k in data.columns if ('Weights' in k) and (not (\"Transf\" in k))],\n",
    "    #         # PropertyType\n",
    "    #         *[k for k in data.columns if ('PropertyType' in k)],\n",
    "    #         # target\n",
    "    #         target\n",
    "    #     ]\n",
    "    # \"\"\"\n",
    "    \"version 2\" : {\n",
    "        \"method\" : \"mean\",\n",
    "        \"groupby\" : [\n",
    "            \"PropertyType\",\n",
    "            'County',\n",
    "            \"PostcodeArea\",\n",
    "            'District',\n",
    "            'TownCity',\n",
    "        ],\n",
    "        \"isLog\" : True,\n",
    "        'classify_outliers_cycle': 2\n",
    "    },\n",
    "    # ----- v3 \n",
    "    # \"\"\"\n",
    "    #     r2 = ??    \n",
    "    #     inputs = [\n",
    "    #         'OldNew' ,  \n",
    "    #         'Duration' , \n",
    "    #         'PPDCategoryType',\n",
    "    #         # Month\n",
    "    #         *[k for k in data.columns if ('Month' in k)],\n",
    "    #         # Weights\n",
    "    #         *[k for k in data.columns if ('Weights' in k) and (not (\"Transf\" in k))],\n",
    "    #         # PropertyType\n",
    "    #         *[k for k in data.columns if ('PropertyType' in k)],\n",
    "    #         # target\n",
    "    #         target\n",
    "    #     ]\n",
    "    # \"\"\"\n",
    "    \"version 3\" : {\n",
    "        \"method\" : \"mean\",\n",
    "        \"groupby\" : [\n",
    "            \"PropertyType\",\n",
    "            \"Duration\",\n",
    "            'County',\n",
    "            \"PostcodeArea\",\n",
    "            'District',\n",
    "            'TownCity',\n",
    "            \n",
    "        ],\n",
    "        \"isLog\" : False,\n",
    "        'classify_outliers_cycle': 2\n",
    "    },\n",
    "}"
   ]
  },
  {
   "cell_type": "code",
   "execution_count": 2,
   "id": "9cd5733b-30f9-47ea-8c3d-a66187595dc4",
   "metadata": {
    "tags": []
   },
   "outputs": [],
   "source": [
    "choosed_version = \"version 2\"\n",
    "# ----- define elements\n",
    "outliers_regularisation_method = config_processing[choosed_version][\"method\"]\n",
    "groupbycolumns = config_processing[choosed_version][\"groupby\"]\n",
    "logoutlierfence= config_processing[choosed_version][\"isLog\"]\n",
    "classify_outliers_cycle= config_processing[choosed_version][\"classify_outliers_cycle\"]"
   ]
  },
  {
   "cell_type": "markdown",
   "id": "5cd3b72c-d9b9-4068-8f43-960a9d84aee2",
   "metadata": {
    "tags": []
   },
   "source": [
    "# Load data"
   ]
  },
  {
   "cell_type": "code",
   "execution_count": 3,
   "id": "0df41ba9-0432-43aa-be59-2befc40bd25e",
   "metadata": {
    "tags": []
   },
   "outputs": [],
   "source": [
    "import pandas as pd\n",
    "import numpy as np\n",
    "import matplotlib.pyplot as plt\n",
    "%matplotlib inline\n",
    "import seaborn as sns\n",
    "import re\n",
    "import scipy as sp\n",
    "pd.set_option('float_format', '{:f}'.format)\n",
    "plt.style.use('ggplot')\n"
   ]
  },
  {
   "cell_type": "code",
   "execution_count": 4,
   "id": "a4df7170-ee2d-45e6-94ce-ee140d9431ef",
   "metadata": {
    "tags": []
   },
   "outputs": [
    {
     "name": "stdout",
     "output_type": "stream",
     "text": [
      "['Solarize_Light2', '_classic_test_patch', '_mpl-gallery', '_mpl-gallery-nogrid', 'bmh', 'classic', 'dark_background', 'fast', 'fivethirtyeight', 'ggplot', 'grayscale', 'seaborn-v0_8', 'seaborn-v0_8-bright', 'seaborn-v0_8-colorblind', 'seaborn-v0_8-dark', 'seaborn-v0_8-dark-palette', 'seaborn-v0_8-darkgrid', 'seaborn-v0_8-deep', 'seaborn-v0_8-muted', 'seaborn-v0_8-notebook', 'seaborn-v0_8-paper', 'seaborn-v0_8-pastel', 'seaborn-v0_8-poster', 'seaborn-v0_8-talk', 'seaborn-v0_8-ticks', 'seaborn-v0_8-white', 'seaborn-v0_8-whitegrid', 'tableau-colorblind10']\n"
     ]
    }
   ],
   "source": [
    "from matplotlib import style \n",
    "\n",
    "print(plt.style.available)"
   ]
  },
  {
   "cell_type": "code",
   "execution_count": 5,
   "id": "eb5f6789-c246-400e-a71a-b53f41910cbe",
   "metadata": {
    "tags": []
   },
   "outputs": [],
   "source": [
    "columns = [\n",
    "    'Id',\n",
    "    'Price',\n",
    "    'TransferDate',\n",
    "    'Postcode',\n",
    "    'PropertyType',\n",
    "    'OldNew',\n",
    "    'Duration',\n",
    "    'PAON',\n",
    "    'SAON',\n",
    "    'Street',\n",
    "    'Locality' ,\n",
    "    'TownCity',\n",
    "    'District',\n",
    "    'County',\n",
    "    'PPDCategoryType',\n",
    "    'RecordStatus',\n",
    "]\n",
    "houses_loaded = pd.read_csv('data/pp-2021.csv',names=columns)"
   ]
  },
  {
   "cell_type": "code",
   "execution_count": null,
   "id": "4ba4fcb6-f021-4bde-bdba-fe6c3625c8c7",
   "metadata": {
    "tags": []
   },
   "outputs": [],
   "source": [
    "houses_loaded.head()"
   ]
  },
  {
   "cell_type": "markdown",
   "id": "aa368f72-7cab-498c-87fc-8a2766001350",
   "metadata": {
    "tags": []
   },
   "source": [
    "# Functions"
   ]
  },
  {
   "cell_type": "markdown",
   "id": "2008b986-8fa1-4763-b788-997aacd65b86",
   "metadata": {
    "tags": []
   },
   "source": [
    "## visualization"
   ]
  },
  {
   "cell_type": "code",
   "execution_count": 6,
   "id": "662cebe0-991f-4eee-8561-5bf542031f42",
   "metadata": {
    "tags": []
   },
   "outputs": [],
   "source": [
    "def find_df_name(df):\n",
    "   name = [name for name, obj in globals().items() if id(obj) == id(df)]\n",
    "   return name[0] if name else None"
   ]
  },
  {
   "cell_type": "code",
   "execution_count": 7,
   "id": "493f890e-a3e1-4fd8-8912-e7d111a02ad7",
   "metadata": {
    "tags": []
   },
   "outputs": [],
   "source": [
    "def bar_catg_feature(col_name,df_data):\n",
    "    fig, axes = plt.subplots(nrows=1, ncols=2, figsize=(20, 6))\n",
    "    # data\n",
    "    df_feature = df_data.loc[:,[col_name,\"Price\"]]\n",
    "\n",
    "    df_grouped = df_feature.groupby(col_name)[\"Price\"].mean()\n",
    "    # first plot\n",
    "    sns.barplot(\n",
    "        x=df_grouped.index, \n",
    "        y=df_grouped.values, \n",
    "        ax=axes[0]\n",
    "    )\n",
    "    # second plot\n",
    "    values = df_feature[col_name].value_counts(dropna=False)\n",
    "    sns.barplot(\n",
    "        x=values.index, \n",
    "        y=values.values,\n",
    "        ax=axes[1]\n",
    "    )\n",
    "    # Add titles\n",
    "    axes[0].set_title(f'Average Price by {col_name} (data={find_df_name(df_data)})')\n",
    "    axes[1].set_title(f'distribution of {col_name} (data={find_df_name(df_data)})')\n",
    "    # show\n",
    "    plt.tight_layout()\n",
    "    plt.show()"
   ]
  },
  {
   "cell_type": "code",
   "execution_count": 8,
   "id": "279dd927-b9e2-43fa-8979-4303120380f4",
   "metadata": {
    "tags": []
   },
   "outputs": [],
   "source": [
    "def bar_catg_pairfeature(colname1,colname2,colname3='Price',df_data=None):\n",
    "    fig, axes = plt.subplots(nrows=1, ncols=1, figsize=(20, 6))\n",
    "    # data\n",
    "    df_feature = df_data.loc[:,[colname1,colname2,colname3]]\n",
    "    sns.barplot(\n",
    "        data = df_feature,\n",
    "        x=colname2, \n",
    "        y=colname3,\n",
    "        hue=colname1,\n",
    "        ax=axes\n",
    "    )\n",
    "    # Add titles\n",
    "    axes.set_title(f'Average Price by {colname1}, {colname2} (data={find_df_name(df_data)})')\n",
    "    # show\n",
    "    plt.tight_layout()\n",
    "    plt.show()\n"
   ]
  },
  {
   "cell_type": "code",
   "execution_count": 9,
   "id": "368dac30-991b-469e-9d8b-7f619a791c0f",
   "metadata": {
    "tags": []
   },
   "outputs": [],
   "source": [
    "def bar_geo_feature(colname1,colname2='Price',df_data = None,ascending=False,method='mean'):\n",
    "    fig, axes = plt.subplots(nrows=1, ncols=1, figsize=(20, 12))\n",
    "    # data\n",
    "    if method=='mean':\n",
    "        df_feature = df_data.groupby(colname1)[colname2].mean().sort_values(ascending=ascending)[:50]\n",
    "    elif method=='median':\n",
    "        df_feature = df_data.groupby(colname1)[colname2].median().sort_values(ascending=ascending)[:50]\n",
    "    sns.barplot(\n",
    "        x=df_feature.index, \n",
    "        y=df_feature.values,\n",
    "        ax=axes\n",
    "    )\n",
    "    # Add titles\n",
    "    axes.tick_params(axis='x', rotation=90)\n",
    "    axes.set_title(f'{method} of {colname2} by {colname1} (data={find_df_name(df_data)})')\n",
    "    # show\n",
    "    # plt.tight_layout()\n",
    "    plt.show()"
   ]
  },
  {
   "cell_type": "code",
   "execution_count": 10,
   "id": "ba1adda6-cb09-421c-b498-48094bd9ea89",
   "metadata": {
    "tags": []
   },
   "outputs": [],
   "source": [
    "def box_geo_feature(colname1,colname2='Price',df_data = None,method='mean'):\n",
    "    fig, axes = plt.subplots(nrows=1, ncols=1, figsize=(10, 6))\n",
    "    if method=='mean':\n",
    "        df_grouped_mean = df_data.groupby(colname1)[colname2].mean().sort_values(ascending=False)\n",
    "    elif method=='median':\n",
    "        df_grouped_mean = df_data.groupby(colname1)[colname2].median().sort_values(ascending=False)\n",
    "    sns.boxplot(df_grouped_mean)\n",
    "    plt.title(f'Distribution of {method} of {colname2} by {colname1} (data={find_df_name(df_data)})')\n",
    "    plt.show()"
   ]
  },
  {
   "cell_type": "code",
   "execution_count": 11,
   "id": "a5eb0783-2c64-479d-b152-79b1c1cc4e89",
   "metadata": {
    "tags": []
   },
   "outputs": [],
   "source": [
    "def price_distribution(df,bins=100,kind='bar'):\n",
    "    df['Price'].value_counts(bins=bins).sort_index().plot(kind=kind,figsize=(20,16))\n",
    "    # show\n",
    "    plt.tight_layout()\n",
    "    plt.show()"
   ]
  },
  {
   "cell_type": "code",
   "execution_count": 12,
   "id": "659f1e49-19b1-4b72-86bb-757102045f03",
   "metadata": {
    "tags": []
   },
   "outputs": [],
   "source": [
    "def price_boxplot(df,col_name=None,isLog=False):\n",
    "    kwargs = {\n",
    "        'y' : np.log(df['Price']) if isLog else df['Price']\n",
    "    }\n",
    "    if col_name: kwargs['x'] = df[col_name]  \n",
    "    ax = sns.boxplot(**kwargs)\n",
    "    title = f'Price by {col_name}' if col_name!= None else 'Price' \n",
    "    ax.set_title(title + f' :(log={isLog},data={find_df_name(df)})',fontsize=10)\n",
    "    plt.show()"
   ]
  },
  {
   "cell_type": "code",
   "execution_count": 13,
   "id": "201ee442-abe9-4244-8c10-2935e1908f5e",
   "metadata": {
    "tags": []
   },
   "outputs": [],
   "source": [
    "def price_scatterplot(df,col_name=None,isColDivided=False,isLog=False):\n",
    "    \n",
    "    if isColDivided:\n",
    "        # -- inputs\n",
    "        vv = df[col_name].value_counts().index\n",
    "        ncols = 2\n",
    "        nrows = len(vv)//ncols + len(vv)%ncols\n",
    "        # -- canvas\n",
    "        fig, ax = plt.subplots(\n",
    "            nrows = nrows,\n",
    "            ncols = ncols, \n",
    "            figsize=(10*ncols,8*nrows)\n",
    "        )\n",
    "        # -- draw\n",
    "        i=j=0\n",
    "        for ptype in vv:\n",
    "            dd = df.loc[df[col_name] == ptype,['Price',col_name]]\n",
    "            if nrows == 1:\n",
    "                sns.scatterplot(\n",
    "                    x = dd[col_name],\n",
    "                    y = np.log(dd.Price) if isLog else dd.Price,\n",
    "                    ax = ax[j]\n",
    "                ).set(title=f'{col_name} ({ptype})')\n",
    "                # ax[j].plot(dd)\n",
    "                # ax[j].title.set_text(f'{col_name}({ptype})')\n",
    "            else : \n",
    "                sns.scatterplot(\n",
    "                    x = dd[col_name],\n",
    "                    y = np.log(dd.Price) if isLog else dd.Price,\n",
    "                    ax=ax[i, j]\n",
    "                ).set(title=f'{col_name} ({ptype})')\n",
    "                # ax[i, j].plot(dd)\n",
    "                # ax[i, j].title.set_text(f'{col_name}({ptype})')\n",
    "            if j == 1:\n",
    "                i += 1\n",
    "                j=0\n",
    "            else: j+=1\n",
    "        fig.suptitle(f'Price by {col_name} :(log={isLog},data={find_df_name(df)})')\n",
    "    else:\n",
    "        kwargs = {\n",
    "            'y' : np.log(df['Price']) if isLog else df['Price']\n",
    "        }\n",
    "        if col_name: kwargs['x'] = df[col_name] \n",
    "        ax = sns.scatterplot(**kwargs)\n",
    "        title = f'Price by {col_name}' if col_name!= None else 'Price' \n",
    "        ax.set_title(title + f' :(log={isLog},data={find_df_name(df)})',fontsize=10)\n",
    "    plt.show()"
   ]
  },
  {
   "cell_type": "code",
   "execution_count": 14,
   "id": "250463c8-b696-4ab5-ac34-eb7cf5e9dbcd",
   "metadata": {
    "tags": []
   },
   "outputs": [],
   "source": [
    "def visualise_grps_bycol(df,col_name,ncols=2):\n",
    "    vv = df[col_name].value_counts().index\n",
    "    nrows = len(vv)//ncols + len(vv)%ncols\n",
    "    fig , ax = plt.subplots(\n",
    "        nrows = nrows,\n",
    "        ncols = ncols,\n",
    "        figsize=(10*ncols,8*nrows)\n",
    "    )\n",
    "    i = j = 0\n",
    "    for ptype in vv:\n",
    "        print(f\"{ptype} : ({i},{j})\")\n",
    "        dd = df.loc[df[col_name] == ptype,'Price']\n",
    "        if nrows == 1:\n",
    "            ax[j].plot(dd)\n",
    "            ax[j].title.set_text(f'{col_name}({ptype})')\n",
    "        else : \n",
    "            ax[i, j].plot(dd)\n",
    "            ax[i, j].title.set_text(f'{col_name}({ptype})')\n",
    "        if j == 1:\n",
    "            i += 1\n",
    "            j=0\n",
    "        else: j+=1\n",
    "    plt.show()"
   ]
  },
  {
   "cell_type": "code",
   "execution_count": 15,
   "id": "f7a0faad-6d85-441d-9b20-ca77b4e27468",
   "metadata": {
    "tags": []
   },
   "outputs": [],
   "source": [
    "def visualise_grps(df,col_name,ncols=2):\n",
    "    bar_catg_feature(col_name,df_data = df)\n",
    "    box_geo_feature(col_name,df_data = df)\n",
    "    price_boxplot(df,col_name=col_name,isLog=False)\n",
    "    price_boxplot(df,col_name=col_name,isLog=True)\n",
    "    visualise_grps_bycol(df,col_name,ncols=ncols)"
   ]
  },
  {
   "cell_type": "code",
   "execution_count": 16,
   "id": "3f904d0a-0a0b-4a01-a726-dd43d19fa697",
   "metadata": {
    "tags": []
   },
   "outputs": [],
   "source": [
    "def visualise_global(df,ncols=2,bins=100,grp_columns = [],geo_col = [],scatter_col=[]):\n",
    "    \"\"\"\n",
    "        grp_columns = [\"PropertyType\",\"Duration\",\"OldNew\"]\n",
    "        geo_col = [\"County\",\"District\",\"TownCity\"]\n",
    "    \"\"\"\n",
    "    # -- Price\n",
    "    print(\"###################################################### Price ######################################################\")\n",
    "    price_distribution(df,bins=bins,kind='bar')\n",
    "    price_boxplot(df,col_name=None,isLog=False)\n",
    "    price_boxplot(df,col_name=None,isLog=True)\n",
    "    \n",
    "    # -- grp_columns\n",
    "    for col in grp_columns:\n",
    "        print(f\"###################################################### {col} ######################################################\")\n",
    "        visualise_grps(df,col,ncols)\n",
    "    \n",
    "    # -- geo_col\n",
    "    for col in geo_col:\n",
    "        print(f\"###################################################### {col} ######################################################\")\n",
    "        box_geo_feature(col,df_data = df)\n",
    "        bar_geo_feature(col,colname2='Price',df_data = df,ascending=False,method='mean')\n",
    "    \n",
    "    # -- scatterplot\n",
    "    for col in scatter_col:\n",
    "        print(f\"###################################################### {col} ######################################################\")\n",
    "        price_scatterplot(df,col_name=col,isColDivided=False,isLog=False)"
   ]
  },
  {
   "cell_type": "markdown",
   "id": "9cca2d24-407d-4e69-8843-78a64dd855ab",
   "metadata": {
    "tags": []
   },
   "source": [
    "## aggs & transformation"
   ]
  },
  {
   "cell_type": "code",
   "execution_count": 17,
   "id": "4a22f764-f940-4724-a13c-741e7fe4fc6f",
   "metadata": {
    "tags": []
   },
   "outputs": [],
   "source": [
    "def fix_dfHouses(df):\n",
    "    # PropertyType : D = Detached, S = Semi-Detached, T = Terraced, F = Flats/Maisonettes, O = Other\n",
    "    df.loc[df['PropertyType']=='T','PropertyType'] = 'Terraced'\n",
    "    df.loc[df['PropertyType']=='S','PropertyType'] = 'SemiDetached'\n",
    "    df.loc[df['PropertyType']=='D','PropertyType'] = 'Detached'\n",
    "    df.loc[df['PropertyType']=='F','PropertyType'] = 'Flat'\n",
    "    df.loc[df['PropertyType']=='O','PropertyType'] = 'Other'\n",
    "    # OldNew : Y = New, N = Old\n",
    "    df.loc[df['OldNew']=='Y','OldNew'] = 'New'\n",
    "    df.loc[df['OldNew']=='N','OldNew'] = 'Old'\n",
    "    # Duration : F = Freehold, L= Leasehold\n",
    "    df.loc[df['Duration']=='F','Duration'] = 'Freehold'\n",
    "    df.loc[df['Duration']=='L','Duration'] = 'Leasehold'\n",
    "    # PPDCategoryType : A = StandardPrice (Standard Price Paid entry) ,  B = AdditionalPrice (Additional Price Paid)\n",
    "    df.loc[df['PPDCategoryType']=='A','PPDCategoryType'] = 'StandardPrice'\n",
    "    df.loc[df['PPDCategoryType']=='B','PPDCategoryType'] = 'AdditionalPrice'\n",
    "    # TransferDate --> Day, Month\n",
    "    df['TransferDate'] = pd.to_datetime(df['TransferDate'])\n",
    "    df['TransferMonth'] = df['TransferDate'].dt.month\n",
    "    df['TransferDay'] = df['TransferDate'].dt.day\n",
    "    return df"
   ]
  },
  {
   "cell_type": "code",
   "execution_count": 18,
   "id": "38595f44-3bc7-4db9-a400-7fbc7844e447",
   "metadata": {
    "tags": []
   },
   "outputs": [],
   "source": [
    "def categorise(col,df_data,weight_func = lambda x:x):\n",
    "    cat_col = df_data.groupby(col)['Price'].mean()\n",
    "    # Calculate the quartiles:\n",
    "    q25 = np.percentile(cat_col, 25)\n",
    "    q75 = np.percentile(cat_col, 75)\n",
    "    max_q = min(cat_col.max(),q75+1.5*(q75-q25))\n",
    "    min_q = max(cat_col.min(),q25-1.5*(q75-q25))\n",
    "    # caterg\n",
    "    def col_cat(x,min_q,q25,q75,max_q):\n",
    "        if x[\"Price\"] < min_q : return \"Very Poor\"\n",
    "        elif (x[\"Price\"] >= min_q) and (x[\"Price\"] <= q25) : return \"Poor\"\n",
    "        elif (x[\"Price\"] > q25) and (x[\"Price\"] <= q75) : return \"Normal\"\n",
    "        elif(x[\"Price\"] > q75) and (x[\"Price\"] <= max_q) : return \"Rich\"\n",
    "        else: return \"Very Rich\"\n",
    "    def coef_calc(x,coltype,coef):\n",
    "        return coef_types[x[coltype]]*x['counts']\n",
    "    # def cat_dfdata(df,col,weights):\n",
    "    #     df_cp = df.copy()\n",
    "    #     df_cp.loc[:,col+'Weights'] = df_cp.apply(lambda x:weights[x[col]],axis=1)\n",
    "    #     return df_cp\n",
    "    # caterg\n",
    "    coltype = col+'Type'\n",
    "    houses_categorised = pd.DataFrame(df_data.apply(lambda x: col_cat(x,min_q=min_q,q25=q25,q75=q75,max_q=max_q),axis=1),columns = [coltype])\n",
    "    houses_categorised = pd.concat([df_data,houses_categorised], axis=1)\n",
    "    houses_categorised_byType = houses_categorised.loc[:,[col,coltype]].groupby([col,coltype]).agg(\n",
    "        counts = pd.NamedAgg(column=coltype, aggfunc=lambda x:x.count()),\n",
    "    )\n",
    "    coef_types_weights = {\n",
    "        'Normal' : 0,\n",
    "        'Poor': -2,\n",
    "        'Rich': 2,\n",
    "        'Very Poor': -4,\n",
    "        'Very Rich': 4,\n",
    "    }\n",
    "    coef_types = {k:weight_func(v) for k,v in coef_types_weights.items()}\n",
    "    houses_categorised_byType = houses_categorised_byType.groupby(level=[col],group_keys=False).apply(lambda x:x/x.sum()).reset_index()\n",
    "    houses_categorised_byType['weights'] = houses_categorised_byType.apply(lambda x: coef_calc(x,coltype,coef_types),axis=1)\n",
    "    categories_weights = houses_categorised_byType.groupby(col)['weights'].sum()\n",
    "    \n",
    "    return {\n",
    "        'categories_weights':categories_weights,\n",
    "        col+'Weights': df_data.apply(lambda x:categories_weights[x[col]],axis=1)\n",
    "    }"
   ]
  },
  {
   "cell_type": "code",
   "execution_count": 19,
   "id": "f2798d4c-e23e-4873-85d3-ecf4774e42e0",
   "metadata": {
    "tags": []
   },
   "outputs": [],
   "source": [
    "def classify_outliers(df_data,colname='Price',by_log=False):\n",
    "    # target\n",
    "    if not by_log:\n",
    "        target_col = df_data[colname]\n",
    "        target_metrics = target_col.describe()\n",
    "    else:\n",
    "        target_col = np.log(df_data[colname])\n",
    "        target_metrics = target_col.describe()\n",
    "    # metrics \n",
    "    price_q25= target_metrics[\"25%\"]\n",
    "    price_q50= target_metrics[\"50%\"]\n",
    "    price_q75= target_metrics[\"75%\"]\n",
    "    price_IQR = price_q75 - price_q25\n",
    "    price_max= min(target_metrics[\"max\"],price_q75+1.5*price_IQR)\n",
    "    price_min= max(target_metrics[\"min\"],price_q25-1.5*price_IQR)\n",
    "    mask = np.logical_and((target_col <= price_max), (target_col >= price_min))\n",
    "    normal_PriceWise_df = df_data.loc[mask,:]\n",
    "    expensive_PriceWise_df = df_data.loc[~mask,:]\n",
    "    return {\n",
    "        \"q25\":price_q25,\n",
    "        \"q50\":price_q50,\n",
    "        \"q75\":price_q75,\n",
    "        \"IQR\":price_IQR,\n",
    "        \"max\":price_max,\n",
    "        \"min\":price_min,\n",
    "        \"normal_PriceWise_df\":normal_PriceWise_df,\n",
    "        \"expensive_PriceWise_df\":expensive_PriceWise_df\n",
    "    }"
   ]
  },
  {
   "cell_type": "code",
   "execution_count": 20,
   "id": "a0a6bffd-6eca-4e32-a5c1-a05fc442cbff",
   "metadata": {},
   "outputs": [
    {
     "data": {
      "text/plain": [
       "True"
      ]
     },
     "execution_count": 20,
     "metadata": {},
     "output_type": "execute_result"
    }
   ],
   "source": [
    "aa = pd.DataFrame()\n",
    "aa.empty"
   ]
  },
  {
   "cell_type": "code",
   "execution_count": 21,
   "id": "f5622f93-76a9-43bc-9d13-a7f1f9fe446e",
   "metadata": {
    "tags": []
   },
   "outputs": [],
   "source": [
    "def regulate_outliers(df_data, method='mean', groupby=None,bothsides=False,maxmin=False,df_reference=pd.DataFrame()):\n",
    "    \"\"\"\n",
    "        1- expl:\n",
    "            maxmin: \n",
    "                - x>outliser_bar_max ---> x=outliser_bar_max\n",
    "                - x<outliser_bar_min ---> x=outliser_bar_min\n",
    "            bothsides:\n",
    "                - (x>outliser_bar_max) or (x<outliser_bar_min) ---> x=groupby(method)\n",
    "            groupby:\n",
    "                - name of column of group by\n",
    "                - list or str\n",
    "            \n",
    "        2- Notes:\n",
    "            - \"maxmin\" is prioritised over \"bothsides\" \n",
    "    \"\"\"\n",
    "    data = df_data.copy()\n",
    "    df_data_reference = df_reference.copy() if not df_reference.empty else data\n",
    "    if groupby != None:\n",
    "        df_data_grps = df_data_reference.groupby(groupby).agg(\n",
    "            min = pd.NamedAgg(column='Price',aggfunc='min'),\n",
    "            outlier_bar_Min = pd.NamedAgg(column='Price',aggfunc=lambda x:max(min(x),np.percentile(x,25) - 1.5*(np.percentile(x,75)-np.percentile(x,25)))),\n",
    "            q25 = pd.NamedAgg(column='Price',aggfunc=lambda x:np.percentile(x,25)),\n",
    "            q50 = pd.NamedAgg(column='Price',aggfunc=lambda x:np.percentile(x,50)),\n",
    "            q75 = pd.NamedAgg(column='Price',aggfunc=lambda x:np.percentile(x,75)),\n",
    "            outlier_bar_Max = pd.NamedAgg(column='Price',aggfunc=lambda x:min(max(x),np.percentile(x,75) + 1.5*(np.percentile(x,75)-np.percentile(x,25)))),\n",
    "            max = pd.NamedAgg(column='Price',aggfunc='max'),\n",
    "            median = pd.NamedAgg(column='Price',aggfunc='median'),\n",
    "            mean = pd.NamedAgg(column='Price',aggfunc='mean'),\n",
    "        )\n",
    "        def fix_outliers(x,df_data_grps,method,groupby,bothsides):\n",
    "            # print(x)\n",
    "            if not (tuple(x[groupby]) in df_data_grps.index): return np.nan \n",
    "            s_x = df_data_grps.loc[tuple(x[groupby]),:]\n",
    "            if x['Price']<s_x['outlier_bar_Min']: \n",
    "                if maxmin or (not bothsides): return s_x['outlier_bar_Min'] \n",
    "                else: return s_x[method]\n",
    "            elif x['Price']>s_x['outlier_bar_Max']: \n",
    "                if maxmin: return s_x['outlier_bar_Max'] \n",
    "                else: return s_x[method]\n",
    "            else : return x['Price']\n",
    "        kwargs = {\n",
    "            'df_data_grps':df_data_grps,\n",
    "            'method':method,\n",
    "            'groupby':groupby,\n",
    "            'bothsides':bothsides,\n",
    "        } \n",
    "    else:\n",
    "        metric_method = df_data_reference.Price.agg(method)\n",
    "        df_data_grps = df_data_reference.Price.describe()\n",
    "        \n",
    "        def fix_outliers(x,df_data_grps,metric_method,bothsides):\n",
    "            # -- metrics\n",
    "            min_p = df_data_grps['min']\n",
    "            max_p = df_data_grps['max']\n",
    "            q25_p = df_data_grps['25%']\n",
    "            q75_p = df_data_grps['75%']\n",
    "            bar_max = min(max_p,q75_p + 1.5*(q75_p-q25_p))\n",
    "            bar_min = max(min_p,q25_p - 1.5*(q75_p-q25_p))\n",
    "            # -- regulate\n",
    "            if x['Price']<bar_min:\n",
    "                if maxmin or (not bothsides): return bar_min \n",
    "                else: return metric_method\n",
    "            elif x['Price']>bar_max: \n",
    "                if maxmin: return bar_max \n",
    "                else: return metric_method\n",
    "            else : return x['Price']\n",
    "        kwargs = {\n",
    "            'df_data_grps':df_data_grps,\n",
    "            'metric_method':metric_method,\n",
    "            'bothsides':bothsides\n",
    "        }\n",
    "    return data.apply(lambda x:fix_outliers(x,**kwargs),axis=1)\n",
    "        "
   ]
  },
  {
   "cell_type": "code",
   "execution_count": 22,
   "id": "7f887036-d609-4572-bd90-510a445b9208",
   "metadata": {
    "tags": []
   },
   "outputs": [],
   "source": [
    "def stratified_sampling(df,colname,frac,random_state=None):\n",
    "    sampling_options = {\n",
    "        \"frac\":frac\n",
    "    }\n",
    "    if random_state!= None : sampling_options['random_state']=random_state\n",
    "    return df.groupby(colname, group_keys=False).apply(lambda x: x.sample(**sampling_options))"
   ]
  },
  {
   "cell_type": "code",
   "execution_count": 23,
   "id": "5ddc5867-caa6-4f8a-8c1a-21f7032c97d5",
   "metadata": {
    "tags": []
   },
   "outputs": [],
   "source": [
    "def transform_feat(df,cols=[],func_transform=lambda x:x):\n",
    "    df_cp = df.copy()\n",
    "    for col in cols:\n",
    "        df_cp[col+\"Transf\"] = df_cp[col].apply(func_transform)\n",
    "    return df_cp"
   ]
  },
  {
   "cell_type": "markdown",
   "id": "6272ccc1-8b67-4605-bc80-dc8a94d9a1f9",
   "metadata": {
    "tags": []
   },
   "source": [
    "# Discovery"
   ]
  },
  {
   "cell_type": "markdown",
   "id": "b843242e-1cc8-4b43-a41a-d3161a6826d1",
   "metadata": {
    "tags": []
   },
   "source": [
    "## Exploration"
   ]
  },
  {
   "cell_type": "code",
   "execution_count": null,
   "id": "acff1929-f1a5-46ef-a975-65bca15daa66",
   "metadata": {
    "tags": []
   },
   "outputs": [],
   "source": [
    "houses_loaded.info()"
   ]
  },
  {
   "cell_type": "code",
   "execution_count": null,
   "id": "50b1d6bc-f14b-4033-a706-783cfeb44d52",
   "metadata": {
    "tags": []
   },
   "outputs": [],
   "source": [
    "houses_loaded.describe()"
   ]
  },
  {
   "cell_type": "markdown",
   "id": "389e7548-fd6f-447f-b202-613a00e09d93",
   "metadata": {},
   "source": [
    "## Cleaning"
   ]
  },
  {
   "cell_type": "code",
   "execution_count": null,
   "id": "fc126d83-bd64-42ea-9831-e4e310bd0ae9",
   "metadata": {
    "tags": []
   },
   "outputs": [],
   "source": [
    "cat_features = [\n",
    "    'PropertyType',\n",
    "    'OldNew',\n",
    "    'Duration',\n",
    "    'TownCity',\n",
    "    'District',\n",
    "    'County',\n",
    "    'PPDCategoryType',\n",
    "    'RecordStatus',\n",
    "]\n",
    "for col in cat_features:\n",
    "    print(\"Number of categories of Feature '{0}' is : {1} \".format(col, len(houses_loaded[col].unique())))\n",
    "    print(houses_loaded[col].value_counts(dropna=False).index.tolist())\n",
    "    print('--------------------------------------------------------------------------------------------')"
   ]
  },
  {
   "cell_type": "code",
   "execution_count": 24,
   "id": "aeb30fa6-e565-44fc-9267-0be31784091b",
   "metadata": {
    "tags": []
   },
   "outputs": [],
   "source": [
    "houses_loaded = fix_dfHouses(houses_loaded)"
   ]
  },
  {
   "cell_type": "code",
   "execution_count": null,
   "id": "216d1ed5-a74d-423e-af31-0a09f774e36f",
   "metadata": {
    "tags": []
   },
   "outputs": [],
   "source": [
    "houses_loaded.head()"
   ]
  },
  {
   "cell_type": "markdown",
   "id": "e5bb54e2-9a34-4eac-8aa6-521804e73d99",
   "metadata": {
    "jp-MarkdownHeadingCollapsed": true,
    "tags": []
   },
   "source": [
    "## Explore outliers"
   ]
  },
  {
   "cell_type": "code",
   "execution_count": null,
   "id": "0e2200b5-e438-4c19-a06d-42c1cc2d1107",
   "metadata": {
    "tags": []
   },
   "outputs": [],
   "source": [
    "housesLoaded_metrics = houses_loaded.Price.describe()\n",
    "max_fence = housesLoaded_metrics['75%'] + 1.5*(housesLoaded_metrics['75%']-housesLoaded_metrics['25%'])\n",
    "min_fence = housesLoaded_metrics['25%'] - 1.5*(housesLoaded_metrics['75%']-housesLoaded_metrics['25%'])\n",
    "min_fence,max_fence"
   ]
  },
  {
   "cell_type": "code",
   "execution_count": null,
   "id": "80376c7a-103f-46d0-8977-089f63e68375",
   "metadata": {
    "tags": []
   },
   "outputs": [],
   "source": [
    "outliers_houses = houses_loaded.loc[(houses_loaded.Price>max_fence) | (houses_loaded.Price<min_fence),:].reset_index()"
   ]
  },
  {
   "cell_type": "code",
   "execution_count": null,
   "id": "f67f7678-2185-4f27-8625-fc6fd5db811a",
   "metadata": {
    "tags": []
   },
   "outputs": [],
   "source": [
    "mask = (outliers_houses.OldNew == \"Old\") & (outliers_houses.TownCity == \"LONDON\") & (outliers_houses.PPDCategoryType == \"AdditionalPrice\")\n",
    "hyper_exp = outliers_houses.loc[mask,:]\n",
    "reas_exp = outliers_houses.loc[~mask,:]"
   ]
  },
  {
   "cell_type": "code",
   "execution_count": null,
   "id": "3a80f7df-cb48-44b1-a7ae-d477a1df83df",
   "metadata": {
    "tags": []
   },
   "outputs": [],
   "source": [
    "visualise_global(reas_exp)"
   ]
  },
  {
   "cell_type": "code",
   "execution_count": null,
   "id": "34a7c221-fc04-4034-b410-5c8f476d9307",
   "metadata": {
    "tags": []
   },
   "outputs": [],
   "source": [
    "price_scatterplot(outliers_houses,col_name='OldNew',isColDivided=False,isLog=False)"
   ]
  },
  {
   "cell_type": "code",
   "execution_count": null,
   "id": "5c93cb09-ad7a-47fa-902e-7488bae77a1d",
   "metadata": {},
   "outputs": [],
   "source": []
  },
  {
   "cell_type": "code",
   "execution_count": null,
   "id": "457afd01-5701-4af5-b25f-98213bbc3aff",
   "metadata": {},
   "outputs": [],
   "source": []
  },
  {
   "cell_type": "markdown",
   "id": "21b9cbb6-4fe4-42a2-a2e1-71c4c847154f",
   "metadata": {
    "tags": []
   },
   "source": [
    "## Visualisation"
   ]
  },
  {
   "cell_type": "code",
   "execution_count": null,
   "id": "d03fa7f5-2d86-45f7-baaf-98d52f9edc07",
   "metadata": {
    "tags": []
   },
   "outputs": [],
   "source": [
    "visualise_global(\n",
    "    houses_loaded,\n",
    "    grp_columns = [\"PropertyType\",\"Duration\",\"OldNew\"],\n",
    "    geo_col = [\"County\",\"District\",\"TownCity\"]\n",
    ")"
   ]
  },
  {
   "cell_type": "markdown",
   "id": "e9f81b22-3ea3-40d9-a670-82cfc13f06c4",
   "metadata": {},
   "source": [
    "# Preprocessing"
   ]
  },
  {
   "cell_type": "markdown",
   "id": "fcad2bae-42ef-450b-8ae4-a9258a66e67a",
   "metadata": {},
   "source": [
    "### PostcodeArea"
   ]
  },
  {
   "cell_type": "code",
   "execution_count": 25,
   "id": "7e97bf40-e147-401f-9958-d00fbc471a82",
   "metadata": {
    "tags": []
   },
   "outputs": [],
   "source": [
    "houses_loaded['PostcodeArea'] = houses_loaded.Postcode.str.extract(r'([a-z]+)',flags=re.I)"
   ]
  },
  {
   "cell_type": "code",
   "execution_count": 26,
   "id": "d46afa14-3a32-43c2-a88d-900446cf34bc",
   "metadata": {
    "tags": []
   },
   "outputs": [],
   "source": [
    "mask_pc = houses_loaded.PostcodeArea.isna()\n",
    "town_city_PostCodesArea = houses_loaded.groupby('TownCity')[\"PostcodeArea\"].apply(lambda x:pd.Series(list(set(x))).dropna().tolist()[0])\n",
    "houses_loaded.loc[mask_pc,'PostcodeArea']= houses_loaded.loc[(mask_pc),['PostcodeArea',\"TownCity\"]].apply(lambda x:town_city_PostCodesArea[x[\"TownCity\"]],axis=1)"
   ]
  },
  {
   "cell_type": "code",
   "execution_count": null,
   "id": "d4348935-c265-4902-9411-310add1e2d8a",
   "metadata": {
    "tags": []
   },
   "outputs": [],
   "source": [
    "houses_loaded.PostcodeArea.value_counts(dropna=True)"
   ]
  },
  {
   "cell_type": "markdown",
   "id": "ce5153dc-976d-4c6e-b6e6-a3d626ae4630",
   "metadata": {
    "tags": []
   },
   "source": [
    "### normal_PriceWise_houses && expensive_PriceWise_houses"
   ]
  },
  {
   "cell_type": "markdown",
   "id": "b1e67da0-2740-43ca-b834-f9df2229c75a",
   "metadata": {},
   "source": [
    "- 'logoutlierfence' is declared in \"introduction\" section"
   ]
  },
  {
   "cell_type": "markdown",
   "id": "54bf6a0c-467d-4405-a0f2-987e685664d2",
   "metadata": {
    "jp-MarkdownHeadingCollapsed": true
   },
   "source": [
    "#### iteratif"
   ]
  },
  {
   "cell_type": "code",
   "execution_count": null,
   "id": "79062e63-5d03-45a3-b300-5f8998ea6715",
   "metadata": {
    "tags": []
   },
   "outputs": [],
   "source": [
    "pre_classified_houses = classify_outliers(\n",
    "    df_data=houses_loaded,\n",
    "    colname='Price',\n",
    "    by_log = logoutlierfence\n",
    ")\n",
    "pre_expensive_PriceWise_houses = pre_classified_houses[\"expensive_PriceWise_df\"]\n",
    "pre_normal_PriceWise_houses = pre_classified_houses[\"normal_PriceWise_df\"]"
   ]
  },
  {
   "cell_type": "code",
   "execution_count": null,
   "id": "dcd38784-95a8-47fd-9542-20a7450b4d4f",
   "metadata": {},
   "outputs": [],
   "source": [
    "classified_houses = classify_outliers(\n",
    "    df_data=pre_normal_PriceWise_houses,\n",
    "    colname='Price',\n",
    "    by_log = not logoutlierfence\n",
    ")\n",
    "expensive_PriceWise_houses = classified_houses[\"expensive_PriceWise_df\"]\n",
    "normal_PriceWise_houses = classified_houses[\"normal_PriceWise_df\"]"
   ]
  },
  {
   "cell_type": "markdown",
   "id": "f2640926-b169-4e39-b023-d3eda108257e",
   "metadata": {},
   "source": [
    "#### recursif"
   ]
  },
  {
   "cell_type": "code",
   "execution_count": 27,
   "id": "5e01421b-3d39-45c1-a0ad-866e782ac925",
   "metadata": {},
   "outputs": [],
   "source": [
    "normal_PriceWise_houses = houses_loaded.copy()\n",
    "for i in range(classify_outliers_cycle):\n",
    "    classified_houses = classify_outliers(\n",
    "        df_data=normal_PriceWise_houses,\n",
    "        colname='Price',\n",
    "        by_log = logoutlierfence\n",
    "    )\n",
    "    expensive_PriceWise_houses = classified_houses[\"expensive_PriceWise_df\"]\n",
    "    normal_PriceWise_houses = classified_houses[\"normal_PriceWise_df\"]\n",
    "    logoutlierfence = not logoutlierfence"
   ]
  },
  {
   "cell_type": "markdown",
   "id": "13db86ff-ccc6-4745-a381-8719bd5eb592",
   "metadata": {},
   "source": [
    "#### Visualization"
   ]
  },
  {
   "cell_type": "code",
   "execution_count": null,
   "id": "e9a3fa41-68b0-4c81-95a5-57bd4ff660c1",
   "metadata": {
    "tags": []
   },
   "outputs": [],
   "source": [
    "grp_columns = [\"PropertyType\",\"Duration\",\"OldNew\"]\n",
    "geo_col = [\"County\",\"District\",\"TownCity\",\"PostcodeArea\"]\n",
    "\n",
    "visualise_global(\n",
    "    normal_PriceWise_houses,\n",
    "    bins=100,\n",
    "    grp_columns=grp_columns,\n",
    "    geo_col=geo_col\n",
    ")"
   ]
  },
  {
   "cell_type": "code",
   "execution_count": null,
   "id": "de9ed3db-a3e6-4624-bb1d-9b7aa4d5d648",
   "metadata": {
    "tags": []
   },
   "outputs": [],
   "source": [
    "visualise_global(\n",
    "    expensive_PriceWise_houses,\n",
    "    grp_columns = [\"PropertyType\",\"Duration\",\"OldNew\"],\n",
    "    geo_col = [\"County\",\"District\",\"TownCity\"],\n",
    "    bins=100\n",
    ")"
   ]
  },
  {
   "cell_type": "markdown",
   "id": "c6f0949b-1b00-48bb-b16a-4879624501b0",
   "metadata": {
    "tags": []
   },
   "source": [
    "### houses_regulated"
   ]
  },
  {
   "cell_type": "markdown",
   "id": "cd198487-5f2a-4dd2-8d6a-5cc40fa25a0c",
   "metadata": {},
   "source": [
    "- 'outliers_regularisation_method', 'groupbycolumns' are declared in \"introduction\" section"
   ]
  },
  {
   "cell_type": "markdown",
   "id": "a014ad03-f157-488b-8551-618e818a00b4",
   "metadata": {},
   "source": [
    "#### option 1: Regulate \"expensive_PriceWise_houses\" and merge it with \"normal_PriceWise_houses\""
   ]
  },
  {
   "cell_type": "code",
   "execution_count": 28,
   "id": "9c7b39f3-2d70-47fd-8791-f2ca9e92eadc",
   "metadata": {},
   "outputs": [],
   "source": [
    "reg_expensive_PriceWise_houses = expensive_PriceWise_houses.copy()\n",
    "reg_expensive_PriceWise_houses['Price'] = regulate_outliers(\n",
    "    df_data = expensive_PriceWise_houses, \n",
    "    method=outliers_regularisation_method, \n",
    "    groupby = groupbycolumns,\n",
    "    bothsides=False,\n",
    "    maxmin=False,\n",
    "    df_reference=normal_PriceWise_houses\n",
    ")"
   ]
  },
  {
   "cell_type": "code",
   "execution_count": 29,
   "id": "c9d9c00a-5dbb-440a-b5f8-344352a4127e",
   "metadata": {},
   "outputs": [],
   "source": [
    "houses_regulated = pd.concat([normal_PriceWise_houses,reg_expensive_PriceWise_houses], axis=0)"
   ]
  },
  {
   "cell_type": "code",
   "execution_count": 30,
   "id": "7e8994d7-18d0-4708-ac2b-51935c551b93",
   "metadata": {},
   "outputs": [],
   "source": [
    "houses_regulated = houses_regulated.loc[houses_regulated.Price.notna(),:]"
   ]
  },
  {
   "cell_type": "code",
   "execution_count": 31,
   "id": "941f4127-ac00-4198-80a2-42074a0907b8",
   "metadata": {},
   "outputs": [],
   "source": [
    "houses_regulated.reset_index(drop=True,inplace=True)"
   ]
  },
  {
   "cell_type": "code",
   "execution_count": 32,
   "id": "aa724a53-cf87-482f-9f4b-5106d1de242f",
   "metadata": {},
   "outputs": [],
   "source": [
    "houses_regulated['Price'] = regulate_outliers(\n",
    "    df_data = houses_regulated, \n",
    "    method=outliers_regularisation_method, \n",
    "    groupby = groupbycolumns,\n",
    "    bothsides=False,\n",
    "    maxmin=False\n",
    ")"
   ]
  },
  {
   "cell_type": "markdown",
   "id": "56b15a92-257e-4bab-89d4-7eb86aa67db1",
   "metadata": {
    "jp-MarkdownHeadingCollapsed": true
   },
   "source": [
    "#### option 2: Regulate \"normal_PriceWise_houses\""
   ]
  },
  {
   "cell_type": "code",
   "execution_count": null,
   "id": "ea9852cc-e81a-4288-9fcc-be8ae2485bb9",
   "metadata": {
    "tags": []
   },
   "outputs": [],
   "source": [
    "houses_regulated = normal_PriceWise_houses.copy()\n",
    "houses_regulated['Price'] = regulate_outliers(\n",
    "    df_data = normal_PriceWise_houses, \n",
    "    method=outliers_regularisation_method, \n",
    "    groupby = groupbycolumns,\n",
    "    bothsides=False,\n",
    "    maxmin=False\n",
    ")"
   ]
  },
  {
   "cell_type": "markdown",
   "id": "75b0b6c8-68a4-48b9-802f-b6eaae01121f",
   "metadata": {},
   "source": [
    "#### Visualization"
   ]
  },
  {
   "cell_type": "code",
   "execution_count": null,
   "id": "c061f0e8-79e8-4c0d-8303-62ba8ec4f9b6",
   "metadata": {
    "tags": []
   },
   "outputs": [],
   "source": [
    "houses_regulated.describe()"
   ]
  },
  {
   "cell_type": "code",
   "execution_count": null,
   "id": "821d2af2-e076-4bca-ae05-b5fa16dc165a",
   "metadata": {
    "tags": []
   },
   "outputs": [],
   "source": [
    "visualise_global(\n",
    "    houses_regulated,\n",
    "    grp_columns = [\"PropertyType\",\"Duration\",\"OldNew\"],\n",
    "    geo_col = [\"County\",\"District\",\"TownCity\"]\n",
    ")"
   ]
  },
  {
   "cell_type": "markdown",
   "id": "25436013-e811-4e5c-8b36-2284742b2064",
   "metadata": {
    "tags": []
   },
   "source": [
    "### Houses"
   ]
  },
  {
   "cell_type": "code",
   "execution_count": null,
   "id": "b5a4e4e6-9789-49e4-a20d-d17e9fd36218",
   "metadata": {
    "tags": []
   },
   "outputs": [],
   "source": [
    "houses = houses_regulated.copy()\n",
    "houses.reset_index(drop=True,inplace=True)"
   ]
  },
  {
   "cell_type": "code",
   "execution_count": null,
   "id": "68166b90-5a2d-4b4a-ab6b-cd4db76d480e",
   "metadata": {
    "tags": []
   },
   "outputs": [],
   "source": [
    "houses.isna().sum()"
   ]
  },
  {
   "cell_type": "markdown",
   "id": "fee18932-b3dc-4359-9c07-86a0df4ea02c",
   "metadata": {},
   "source": [
    "#### \"Weights\" Feature"
   ]
  },
  {
   "cell_type": "code",
   "execution_count": null,
   "id": "0ac31858-3968-409c-8af1-451e5f27171e",
   "metadata": {
    "tags": []
   },
   "outputs": [],
   "source": [
    "weight_func = lambda x:x"
   ]
  },
  {
   "cell_type": "markdown",
   "id": "5e1fe087-a9bc-4c9b-8de4-c8e3502fbccf",
   "metadata": {},
   "source": [
    "##### County"
   ]
  },
  {
   "cell_type": "code",
   "execution_count": null,
   "id": "6b25c585-9d5f-4e5c-964f-77c4f4b53fe9",
   "metadata": {
    "tags": []
   },
   "outputs": [],
   "source": [
    "categorised_counties_data = categorise(\n",
    "    col=\"County\",\n",
    "    df_data=houses,\n",
    "    weight_func = weight_func\n",
    ")\n",
    "houses.loc[:,'CountyWeights'] = categorised_counties_data['CountyWeights']\n",
    "counties_weights = categorised_counties_data['categories_weights']"
   ]
  },
  {
   "cell_type": "markdown",
   "id": "25c5f0f9-5f86-4cd7-bb23-3f77bb6ad2ad",
   "metadata": {},
   "source": [
    "##### District"
   ]
  },
  {
   "cell_type": "code",
   "execution_count": null,
   "id": "88c4036c-5cca-42d1-a5f7-dc9c677c0e40",
   "metadata": {
    "tags": []
   },
   "outputs": [],
   "source": [
    "categorised_districts_data = categorise(\n",
    "    col=\"District\",\n",
    "    df_data=houses,\n",
    "    weight_func = weight_func\n",
    ")\n",
    "houses.loc[:,'DistrictWeights'] = categorised_districts_data['DistrictWeights']\n",
    "districts_weights = categorised_districts_data['categories_weights']"
   ]
  },
  {
   "cell_type": "markdown",
   "id": "d27b53a2-61b0-4b55-8dc9-1524fc3c37e7",
   "metadata": {},
   "source": [
    "##### TownCity"
   ]
  },
  {
   "cell_type": "code",
   "execution_count": null,
   "id": "fee30a52-5cac-4d0a-ac78-def8a2dded11",
   "metadata": {
    "tags": []
   },
   "outputs": [],
   "source": [
    "categorised_cities_data = categorise(\n",
    "    col=\"TownCity\",\n",
    "    df_data=houses,\n",
    "    weight_func = weight_func\n",
    ")\n",
    "houses.loc[:,'TownCityWeights'] = categorised_cities_data['TownCityWeights']\n",
    "cities_weights = categorised_cities_data['categories_weights']"
   ]
  },
  {
   "cell_type": "markdown",
   "id": "4777f95b-db1d-4ffe-9a15-8b0d55b0371c",
   "metadata": {},
   "source": [
    "##### Postcode"
   ]
  },
  {
   "cell_type": "code",
   "execution_count": null,
   "id": "247e2674-e744-4b8c-a156-a854be9172d3",
   "metadata": {
    "tags": []
   },
   "outputs": [],
   "source": [
    "categorised_PostcodeArea_data = categorise(\n",
    "    col=\"PostcodeArea\",\n",
    "    df_data=houses,\n",
    "    weight_func = weight_func\n",
    ")\n",
    "houses.loc[:,'PostcodeAreaWeights'] = categorised_PostcodeArea_data['PostcodeAreaWeights']\n",
    "PostcodeArea_weights = categorised_PostcodeArea_data['categories_weights']"
   ]
  },
  {
   "cell_type": "markdown",
   "id": "f93f5cee-87e1-4652-b0be-0dacd1c89928",
   "metadata": {},
   "source": [
    "##### Visualisation"
   ]
  },
  {
   "cell_type": "code",
   "execution_count": null,
   "id": "6fc720b7-6431-4492-9732-9f28048ac50b",
   "metadata": {},
   "outputs": [],
   "source": [
    "visualise_global(\n",
    "    houses,\n",
    "    bins=100,\n",
    "    scatter_col=[\n",
    "        \"CountyWeights\",\n",
    "        \"DistrictWeights\",\n",
    "        \"TownCityWeights\",\n",
    "        \"PostcodeAreaWeights\"\n",
    "    ]\n",
    ")"
   ]
  },
  {
   "cell_type": "markdown",
   "id": "ce437f41-dca9-4a09-be8c-2fd2ef19398c",
   "metadata": {},
   "source": [
    "#### Feature Transformation"
   ]
  },
  {
   "cell_type": "code",
   "execution_count": null,
   "id": "7032a3dd-d559-4db4-bd84-05ebf30f2f21",
   "metadata": {},
   "outputs": [],
   "source": [
    "houses_featured = houses.copy()\n",
    "col_scatter = []"
   ]
  },
  {
   "cell_type": "markdown",
   "id": "8ee97326-9b0c-4482-9136-e592a2fd99e6",
   "metadata": {},
   "source": [
    "##### option 1: ('transformation_func' for each column)"
   ]
  },
  {
   "cell_type": "code",
   "execution_count": null,
   "id": "e0248428-8ddb-469b-b6cd-914e9221af0a",
   "metadata": {},
   "outputs": [],
   "source": [
    "scatter_col = {\n",
    "    \"CountyWeights\":lambda x: x**3,\n",
    "    \"DistrictWeights\":lambda x: x**3,\n",
    "    \"TownCityWeights\":lambda x: x**3,\n",
    "    \"PostcodeAreaWeights\":lambda x: x**3\n",
    "}\n",
    "for k,v in scatter_col.items():\n",
    "    houses_featured = transform_feat(\n",
    "        df=houses_featured,\n",
    "        cols=[k],\n",
    "        func_transform=v\n",
    "    )"
   ]
  },
  {
   "cell_type": "markdown",
   "id": "3b76bb10-6cb6-4f36-83ce-8321629893be",
   "metadata": {
    "jp-MarkdownHeadingCollapsed": true
   },
   "source": [
    "##### option 2: ('transformation_func' for all)"
   ]
  },
  {
   "cell_type": "code",
   "execution_count": null,
   "id": "f1ec0ac4-c3bf-4cf8-8bce-8363d33abe9a",
   "metadata": {},
   "outputs": [],
   "source": [
    "# sigmoid\n",
    "transformation_func = lambda x: sp.special.expit(x)"
   ]
  },
  {
   "cell_type": "code",
   "execution_count": null,
   "id": "4f066a82-797a-4051-85b1-86d498074d7f",
   "metadata": {},
   "outputs": [],
   "source": [
    "scatter_col = [\n",
    "    \"CountyWeights\",\n",
    "    \"DistrictWeights\",\n",
    "    \"TownCityWeights\",\n",
    "    \"PostcodeAreaWeights\"\n",
    "]\n",
    "houses = transform_feat(\n",
    "    df=houses_featured,\n",
    "    cols=scatter_col,\n",
    "    func_transform=transformation_func\n",
    ")"
   ]
  },
  {
   "cell_type": "markdown",
   "id": "83002078-8f77-48e6-8dda-dd627cf85da4",
   "metadata": {},
   "source": [
    "##### Visualization"
   ]
  },
  {
   "cell_type": "code",
   "execution_count": null,
   "id": "188ee240-f0b9-4e8e-9980-32a9de830a70",
   "metadata": {},
   "outputs": [],
   "source": [
    "houses_featured"
   ]
  },
  {
   "cell_type": "code",
   "execution_count": null,
   "id": "021755c5-f9ff-4053-8b55-67a6feff1f6e",
   "metadata": {},
   "outputs": [],
   "source": [
    "col_scatter_list = scatter_col if type(scatter_col)==list else scatter_col.keys()\n",
    "col_scatter = [col+'Transf' for col in col_scatter_list]\n",
    "visualise_global(\n",
    "    houses_featured,\n",
    "    bins=100,\n",
    "    scatter_col=col_scatter\n",
    ")"
   ]
  },
  {
   "cell_type": "markdown",
   "id": "306e1456-43c3-4ec0-82c8-d6a1578336de",
   "metadata": {},
   "source": [
    "## Data Encoding"
   ]
  },
  {
   "cell_type": "markdown",
   "id": "8b3ead45-2bf8-4558-88aa-0dfac866d1b8",
   "metadata": {
    "tags": []
   },
   "source": [
    "### houses_selected"
   ]
  },
  {
   "cell_type": "code",
   "execution_count": null,
   "id": "77f3d12f-a92a-427e-8d3b-24be6e1ef0e7",
   "metadata": {
    "tags": []
   },
   "outputs": [],
   "source": [
    "selected_features = [\n",
    "    'Price',\n",
    "    \"PropertyType\",\n",
    "    \"OldNew\",\n",
    "    \"Duration\",\n",
    "    \"PPDCategoryType\",\n",
    "    \"TransferMonth\",\n",
    "    \"TransferDay\",\n",
    "    \"CountyWeights\",\n",
    "    \"DistrictWeights\",\n",
    "    \"TownCityWeights\",\n",
    "    \"PostcodeAreaWeights\",\n",
    "    *col_scatter\n",
    "]\n",
    "houses_selected = houses_featured.loc[:,selected_features].copy()\n",
    "houses_selected.reset_index(drop=True,inplace=True)"
   ]
  },
  {
   "cell_type": "code",
   "execution_count": null,
   "id": "ee1a9398-d9ec-4ba5-855c-c3cdc9a5b8b8",
   "metadata": {
    "tags": []
   },
   "outputs": [],
   "source": [
    "houses_selected"
   ]
  },
  {
   "cell_type": "markdown",
   "id": "8f9c61a7-b7e5-4012-8c7a-333b12431e74",
   "metadata": {
    "tags": []
   },
   "source": [
    "### houses_encoded"
   ]
  },
  {
   "cell_type": "code",
   "execution_count": null,
   "id": "b7511306-499e-4961-8590-37860a495e9c",
   "metadata": {
    "tags": []
   },
   "outputs": [],
   "source": [
    "houses_encoded = houses_selected.copy()"
   ]
  },
  {
   "cell_type": "markdown",
   "id": "710300fb-02fa-4bf7-8134-94792ed3100c",
   "metadata": {
    "tags": []
   },
   "source": [
    "#### Label encoding"
   ]
  },
  {
   "cell_type": "code",
   "execution_count": null,
   "id": "eb9ef6b3-4921-47c3-837c-101b5ace6c15",
   "metadata": {
    "tags": []
   },
   "outputs": [],
   "source": [
    "from sklearn.preprocessing import LabelEncoder\n",
    "label_encoder = LabelEncoder()\n",
    "houses_encoded['PPDCategoryType'] = label_encoder.fit_transform(houses_encoded['PPDCategoryType'])\n",
    "houses_encoded['OldNew'] = label_encoder.fit_transform(houses_encoded['OldNew'])\n",
    "houses_encoded['Duration'] = label_encoder.fit_transform(houses_encoded['Duration'])"
   ]
  },
  {
   "cell_type": "markdown",
   "id": "743502e7-a4ea-4ad4-b371-761b535b0bbd",
   "metadata": {
    "tags": []
   },
   "source": [
    "#### OneHotEncoding"
   ]
  },
  {
   "cell_type": "code",
   "execution_count": null,
   "id": "fdcad32e-1265-47c5-bd13-50e01a959a04",
   "metadata": {
    "tags": []
   },
   "outputs": [],
   "source": [
    "from sklearn.preprocessing import OneHotEncoder\n",
    "categ_features = [\n",
    "    \"PropertyType\",\n",
    "    \"TransferMonth\"\n",
    "]\n",
    "\n",
    "one_hot_encoder = OneHotEncoder(sparse_output=False) # feature_name_combiner=lambda x,y:str(x)+\"_\"+str(y)\n",
    "encoded_categ_features = one_hot_encoder.fit_transform(houses_encoded[categ_features])\n",
    "\n",
    "df_encoded_categ_features = pd.DataFrame(\n",
    "    encoded_categ_features, \n",
    "    columns = one_hot_encoder.get_feature_names_out(categ_features)\n",
    ")"
   ]
  },
  {
   "cell_type": "code",
   "execution_count": null,
   "id": "74c79216-f4c8-4a2b-bb77-6fa228e53839",
   "metadata": {
    "tags": []
   },
   "outputs": [],
   "source": [
    "houses_encoded = pd.concat([houses_encoded,df_encoded_categ_features], axis=1)\n",
    "houses_encoded"
   ]
  },
  {
   "cell_type": "markdown",
   "id": "1b3d46c6-5639-4699-9b17-4f3e1141835f",
   "metadata": {
    "tags": []
   },
   "source": [
    "#### fixing \"houses_encoded\""
   ]
  },
  {
   "cell_type": "code",
   "execution_count": null,
   "id": "b9bb845a-11cc-4781-ab4f-0f14cf0fbcfb",
   "metadata": {
    "tags": []
   },
   "outputs": [],
   "source": [
    "houses_encoded.drop(\n",
    "    [\n",
    "        \"PropertyType\",\n",
    "        \"TransferMonth\",\n",
    "        \"TransferDay\"\n",
    "    ],\n",
    "    axis=1,\n",
    "    inplace=True\n",
    ")"
   ]
  },
  {
   "cell_type": "code",
   "execution_count": null,
   "id": "88fceb13-61ca-4572-8f80-a3a5feb70b65",
   "metadata": {
    "tags": []
   },
   "outputs": [],
   "source": [
    "input_features_encoded = [k for k in houses_encoded.columns if (k != \"Price\") and not ('Weights' in k)]\n",
    "houses_encoded = houses_encoded.astype(\n",
    "    {\n",
    "        k:int for k in input_features_encoded\n",
    "    }\n",
    ")"
   ]
  },
  {
   "cell_type": "markdown",
   "id": "19848f39-ba6a-49f4-9b5d-479189cfb4d8",
   "metadata": {
    "tags": []
   },
   "source": [
    "#### show \"houses_encoded\""
   ]
  },
  {
   "cell_type": "code",
   "execution_count": null,
   "id": "b23faec9-cc00-4522-9f16-4f385f3ea34d",
   "metadata": {
    "tags": []
   },
   "outputs": [],
   "source": [
    "houses_encoded.info()"
   ]
  },
  {
   "cell_type": "code",
   "execution_count": null,
   "id": "41e0b0ed-dc03-4c52-8ec6-4ff84ac0af1c",
   "metadata": {
    "tags": []
   },
   "outputs": [],
   "source": [
    "houses_encoded.corr()['Price'].head(50)"
   ]
  },
  {
   "cell_type": "code",
   "execution_count": null,
   "id": "968de963-a273-4822-b593-216ad65d3d37",
   "metadata": {
    "tags": []
   },
   "outputs": [],
   "source": [
    "plt.figure(figsize = (25,25))\n",
    "sns.heatmap(houses_encoded.corr(), annot=True, cmap='coolwarm', fmt='.2f')\n",
    "plt.show()"
   ]
  },
  {
   "cell_type": "markdown",
   "id": "95a7e4ac-7d97-4a19-a921-9309f2e1037e",
   "metadata": {},
   "source": [
    "# Model Selection"
   ]
  },
  {
   "cell_type": "markdown",
   "id": "32ca6d23-d955-4162-a72d-3560169cf306",
   "metadata": {},
   "source": [
    "- for Model directory for saving and loading is stored in \"model_dir_location\""
   ]
  },
  {
   "cell_type": "code",
   "execution_count": null,
   "id": "4e5ae84d-838a-4d25-a0b1-2250c3824ac8",
   "metadata": {
    "tags": []
   },
   "outputs": [],
   "source": [
    "model_dir_location = f'./models/{outliers_regularisation_method}/'"
   ]
  },
  {
   "cell_type": "markdown",
   "id": "642417aa-c18b-4ce8-ad3c-75de150ed2f1",
   "metadata": {
    "tags": []
   },
   "source": [
    "## Data (for Modeling) & Data_Unseen (for test)"
   ]
  },
  {
   "cell_type": "code",
   "execution_count": null,
   "id": "de6ba40c-194b-45f5-aec9-7b5ca29c5bb9",
   "metadata": {
    "tags": []
   },
   "outputs": [],
   "source": [
    "data = stratified_sampling(\n",
    "    df=houses_encoded,\n",
    "    colname=\"PPDCategoryType\",\n",
    "    frac=0.95,\n",
    "    random_state=1\n",
    ")\n",
    "data_unseen = houses_encoded.drop(data.index)\n",
    "# drop index\n",
    "data.reset_index(inplace=True, drop=True)\n",
    "data_unseen.reset_index(inplace=True, drop=True)\n",
    "\n",
    "print('Data for Modeling: ' + str(data.shape))\n",
    "print('Unseen Data For Predictions: ' + str(data_unseen.shape))"
   ]
  },
  {
   "cell_type": "markdown",
   "id": "f594782e-d505-4b9a-8453-c4cc8309c962",
   "metadata": {
    "tags": []
   },
   "source": [
    "## Select Data_train"
   ]
  },
  {
   "cell_type": "code",
   "execution_count": null,
   "id": "e391e2fa-8fda-42a9-a265-2d504e71d22a",
   "metadata": {
    "tags": []
   },
   "outputs": [],
   "source": [
    "train_features = [k for k in data.columns if not ('Price' in k)] #or ('Month' in k))]\n",
    "target = 'Price'\n",
    "# inputs = [*train_features,target]\n",
    "inputs = [\n",
    "    'OldNew' ,  \n",
    "    'Duration' , \n",
    "    'PPDCategoryType',\n",
    "    # Month\n",
    "    *[k for k in data.columns if ('Month' in k)],\n",
    "    # Weights\n",
    "    # *[k for k in data.columns if ('Weights' in k) and (not (\"Transf\" in k))],\n",
    "    # # zscore\n",
    "    *[k for k in data.columns if ('WeightsTransf' in k)],\n",
    "    # PropertyType\n",
    "    *[k for k in data.columns if ('PropertyType' in k)],\n",
    "    # target\n",
    "    target\n",
    "]\n",
    "data_train = data.loc[:,inputs]"
   ]
  },
  {
   "cell_type": "code",
   "execution_count": null,
   "id": "409adfdb-034c-478b-8c3e-e7e03b9041a6",
   "metadata": {},
   "outputs": [],
   "source": [
    "inputs = [\n",
    "    # 'OldNew', \n",
    "    'Duration', \n",
    "    'PPDCategoryType', \n",
    "    'TransferMonth_1', \n",
    "    'TransferMonth_2', \n",
    "    'TransferMonth_3', \n",
    "    'TransferMonth_4', \n",
    "    'TransferMonth_5', \n",
    "    'TransferMonth_6', \n",
    "    'TransferMonth_7', \n",
    "    'TransferMonth_8', \n",
    "    'TransferMonth_9', \n",
    "    'TransferMonth_10', \n",
    "    'TransferMonth_11', \n",
    "    'TransferMonth_12', \n",
    "    'CountyWeights', \n",
    "    'DistrictWeights', \n",
    "    'TownCityWeights', \n",
    "    'PostcodeAreaWeights', \n",
    "    # 'CountyWeightsTransf', \n",
    "    # 'DistrictWeightsTransf', \n",
    "    # 'TownCityWeightsTransf',\n",
    "    # 'PostcodeAreaWeightsTransf',\n",
    "    'PropertyType_Detached', \n",
    "    'PropertyType_Flat', \n",
    "    'PropertyType_Other', \n",
    "    'PropertyType_SemiDetached', \n",
    "    'PropertyType_Terraced', \n",
    "    'Price'\n",
    "]\n",
    "data_train = data.loc[:,inputs]"
   ]
  },
  {
   "cell_type": "code",
   "execution_count": null,
   "id": "24625b7a-2cae-402a-a597-312d8d0cfeec",
   "metadata": {
    "tags": []
   },
   "outputs": [],
   "source": [
    "data_train.columns"
   ]
  },
  {
   "cell_type": "code",
   "execution_count": null,
   "id": "03a9acc8-bd2d-43f6-a4bb-a56107b25aad",
   "metadata": {
    "tags": []
   },
   "outputs": [],
   "source": [
    "print(inputs)\n",
    "print(data_train.shape)"
   ]
  },
  {
   "cell_type": "markdown",
   "id": "c0d149e9-f769-4c70-82a1-85c89a7217cb",
   "metadata": {},
   "source": [
    "### Modeling"
   ]
  },
  {
   "cell_type": "code",
   "execution_count": null,
   "id": "1c77f747-cc98-4ac1-abdc-9685e967dbd4",
   "metadata": {
    "scrolled": true,
    "tags": []
   },
   "outputs": [],
   "source": [
    "from pycaret.regression import *\n",
    "predictor = setup(\n",
    "    data = data_train, \n",
    "    target = 'Price', \n",
    "    normalize=True ,\n",
    "    session_id=123,\n",
    "    use_gpu=True\n",
    ")"
   ]
  },
  {
   "cell_type": "code",
   "execution_count": null,
   "id": "da6f1b45-be86-429f-b321-39ef879846d4",
   "metadata": {
    "tags": []
   },
   "outputs": [],
   "source": [
    "best_model = compare_models()"
   ]
  },
  {
   "cell_type": "code",
   "execution_count": null,
   "id": "9e067b06-afc1-4a9e-94eb-d359489c4d8c",
   "metadata": {},
   "outputs": [],
   "source": [
    "print(best_model)"
   ]
  },
  {
   "cell_type": "code",
   "execution_count": null,
   "id": "dcdf44ab-5cab-4ff1-8029-faf85b786273",
   "metadata": {
    "scrolled": true,
    "tags": []
   },
   "outputs": [],
   "source": [
    "models()"
   ]
  },
  {
   "cell_type": "markdown",
   "id": "ece211db-ece3-4f0f-abc8-cf591891167f",
   "metadata": {},
   "source": [
    "## plot"
   ]
  },
  {
   "cell_type": "code",
   "execution_count": null,
   "id": "645fb38b-7c70-4a2b-bf31-8521f94167b1",
   "metadata": {},
   "outputs": [],
   "source": [
    "plot_model(best_model, plot = 'residuals')"
   ]
  },
  {
   "cell_type": "code",
   "execution_count": null,
   "id": "2665477f-9a6a-41bb-a9ad-21fe01396290",
   "metadata": {
    "tags": []
   },
   "outputs": [],
   "source": [
    "plot_model(best_model, plot = 'error')"
   ]
  },
  {
   "cell_type": "code",
   "execution_count": null,
   "id": "642bd81c-a18b-46bb-b650-8e5d4583d75b",
   "metadata": {
    "tags": []
   },
   "outputs": [],
   "source": [
    "plot_model(best_model, plot = 'feature')"
   ]
  },
  {
   "cell_type": "markdown",
   "id": "f334326e-4501-4208-933f-9e26b748cb1d",
   "metadata": {},
   "source": [
    "## Model tuning"
   ]
  },
  {
   "cell_type": "code",
   "execution_count": null,
   "id": "3d656f61-1d39-43c8-8651-256d3df8dcc7",
   "metadata": {
    "scrolled": true,
    "tags": []
   },
   "outputs": [],
   "source": [
    "best_model_tuned = tune_model(best_model,optimize='R2')"
   ]
  },
  {
   "cell_type": "markdown",
   "id": "c55394ae-76b7-4589-9950-40fb14f0bad6",
   "metadata": {},
   "source": [
    "## predict tuned model"
   ]
  },
  {
   "cell_type": "code",
   "execution_count": null,
   "id": "a41c18df-08a2-4682-b6fb-0f8708c8159a",
   "metadata": {
    "tags": []
   },
   "outputs": [],
   "source": [
    "best_model_tuned"
   ]
  },
  {
   "cell_type": "code",
   "execution_count": null,
   "id": "cc782534-71aa-45a4-9b17-d8d1e0b90a03",
   "metadata": {
    "tags": []
   },
   "outputs": [],
   "source": [
    "[x for x in data_unseen.columns]"
   ]
  },
  {
   "cell_type": "code",
   "execution_count": null,
   "id": "7f93a45f-75a6-4ce4-808b-de78c9db3746",
   "metadata": {
    "tags": []
   },
   "outputs": [],
   "source": [
    "data_unseen_inputs = data_unseen.loc[:,[k for k in inputs if k!='Price']]\n",
    "data_unseen_output = data_unseen.loc[:,target]"
   ]
  },
  {
   "cell_type": "code",
   "execution_count": null,
   "id": "fe733275-f588-4391-8d0b-70e85ef97879",
   "metadata": {
    "tags": []
   },
   "outputs": [],
   "source": [
    "predictions = predict_model(best_model_tuned, data = data_unseen_inputs)"
   ]
  },
  {
   "cell_type": "code",
   "execution_count": null,
   "id": "5531484f-d9c6-4373-a725-f08561707cff",
   "metadata": {
    "tags": []
   },
   "outputs": [],
   "source": [
    "predictions.head()"
   ]
  },
  {
   "cell_type": "markdown",
   "id": "53d904eb-a25e-4fcb-8e7a-53baf3ffe092",
   "metadata": {},
   "source": [
    "## r2"
   ]
  },
  {
   "cell_type": "code",
   "execution_count": null,
   "id": "90cf803f-8bc7-49db-8a75-f1e9a060bd4f",
   "metadata": {
    "tags": []
   },
   "outputs": [],
   "source": [
    "from sklearn.metrics import r2_score\n",
    "\n",
    "r2_score(data_unseen_output, predictions['prediction_label'])"
   ]
  },
  {
   "cell_type": "markdown",
   "id": "d294e9e7-9cc6-474e-b6ca-53b30ecb8139",
   "metadata": {},
   "source": [
    "## finalise model"
   ]
  },
  {
   "cell_type": "code",
   "execution_count": null,
   "id": "db60db24-dce4-45d5-90aa-153f8d1675ba",
   "metadata": {
    "tags": []
   },
   "outputs": [],
   "source": [
    "house_predictor_model = finalize_model(best_model_tuned)"
   ]
  },
  {
   "cell_type": "code",
   "execution_count": null,
   "id": "e8889ca4-ed70-4c31-bf13-8386d83b74e3",
   "metadata": {
    "tags": []
   },
   "outputs": [],
   "source": [
    "predictions_finalised = predict_model(house_predictor_model, data = data_unseen_inputs)"
   ]
  },
  {
   "cell_type": "code",
   "execution_count": null,
   "id": "56d11a69-4c01-4e69-9ee2-ff2b2df6567f",
   "metadata": {
    "tags": []
   },
   "outputs": [],
   "source": [
    "from sklearn.metrics import r2_score\n",
    "\n",
    "r2_score(data_unseen_output, predictions_finalised['prediction_label'])"
   ]
  },
  {
   "cell_type": "markdown",
   "id": "eb51e770-3801-44ec-8319-7fa22a4ba926",
   "metadata": {},
   "source": [
    "## save model"
   ]
  },
  {
   "cell_type": "code",
   "execution_count": null,
   "id": "65d57bb1-f3cf-4a04-9edd-ada39105f820",
   "metadata": {},
   "outputs": [],
   "source": [
    "model_version = 'v2' "
   ]
  },
  {
   "cell_type": "code",
   "execution_count": null,
   "id": "5eb9def6-666a-4e3a-8410-cf8ba58a1c5c",
   "metadata": {
    "tags": []
   },
   "outputs": [],
   "source": [
    "name_model = model_dir_location + 'house_predictor_model' + '_' + model_version\n",
    "save_model(house_predictor_model, name_model)"
   ]
  },
  {
   "cell_type": "markdown",
   "id": "9ce1229a-fd20-4311-b42a-5c3b0b83ca2c",
   "metadata": {},
   "source": [
    "## load model"
   ]
  },
  {
   "cell_type": "code",
   "execution_count": null,
   "id": "1f4c0f8b-a738-4ac1-958b-32204dc3d53a",
   "metadata": {},
   "outputs": [],
   "source": [
    "model_version = 'v2' "
   ]
  },
  {
   "cell_type": "code",
   "execution_count": null,
   "id": "62bc361d-c802-4f74-a202-3ce1a51a2571",
   "metadata": {},
   "outputs": [],
   "source": [
    "name_model = model_dir_location + 'house_predictor_model' + \"_\" + model_version\n",
    "inputs = [\n",
    "    'OldNew' ,  \n",
    "    'Duration' , \n",
    "    'PPDCategoryType',\n",
    "    # Month\n",
    "    *[k for k in data.columns if ('Month' in k)],\n",
    "    # Weights\n",
    "    *[k for k in data.columns if ('Weights' in k) and (not (\"Transf\" in k))],\n",
    "    # # zscore\n",
    "    *[k for k in data.columns if ('WeightsTransf' in k)],\n",
    "    # PropertyType\n",
    "    *[k for k in data.columns if ('PropertyType' in k)],\n",
    "    # target\n",
    "    target\n",
    "]\n",
    "data_unseen_inputs = data_unseen.loc[:,[k for k in inputs if k!='Price']]"
   ]
  },
  {
   "cell_type": "code",
   "execution_count": null,
   "id": "68765bf8-f422-4635-8248-1d1ae8d5b5ff",
   "metadata": {
    "tags": []
   },
   "outputs": [],
   "source": [
    "house_predictor_model = load_model(name_model)"
   ]
  },
  {
   "cell_type": "code",
   "execution_count": null,
   "id": "08a00bb2-2e6a-4840-820a-de868aa2176c",
   "metadata": {
    "tags": []
   },
   "outputs": [],
   "source": [
    "predictions_mloaded = predict_model(house_predictor_model, data = data_unseen_inputs)"
   ]
  },
  {
   "cell_type": "code",
   "execution_count": null,
   "id": "ae8ee45e-4a04-4822-a467-716b3191f26f",
   "metadata": {
    "tags": []
   },
   "outputs": [],
   "source": [
    "from sklearn.metrics import r2_score\n",
    "\n",
    "r2_score(data_unseen_output, predictions_mloaded['prediction_label'])"
   ]
  },
  {
   "cell_type": "markdown",
   "id": "9700f36f-f5ce-48e0-a5fa-987df2352a84",
   "metadata": {},
   "source": [
    "### Selecting Features\n",
    "<a name='GDF'></a>\n",
    "Above, we knew that an $x^2$ term was required. It may not always be obvious which features are required. One could add a variety of potential features to try and find the most useful. For example, what if we had instead tried : $y=w_0x_0 + w_1x_1^2 + w_2x_2^3+b$ ? \n",
    "\n",
    "Run the next cells. "
   ]
  }
 ],
 "metadata": {
  "kernelspec": {
   "display_name": "pycaret3.0 (python 3.8)",
   "language": "python",
   "name": "pycaret3.0"
  },
  "language_info": {
   "codemirror_mode": {
    "name": "ipython",
    "version": 3
   },
   "file_extension": ".py",
   "mimetype": "text/x-python",
   "name": "python",
   "nbconvert_exporter": "python",
   "pygments_lexer": "ipython3",
   "version": "3.8.16"
  }
 },
 "nbformat": 4,
 "nbformat_minor": 5
}

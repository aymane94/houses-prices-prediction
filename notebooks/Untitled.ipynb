{
 "cells": [
  {
   "cell_type": "code",
   "execution_count": 1,
   "id": "2816422a-11dd-49e4-a1c4-1739e857c0fc",
   "metadata": {},
   "outputs": [],
   "source": [
    "matplotlib\n",
    "seaborn\n",
    "scikit-learn\n",
    "xgboost\n",
    "flask\n",
    "pycaret\n",
    "catboost"
   ]
  },
  {
   "cell_type": "code",
   "execution_count": 10,
   "id": "0f36577b-f430-40d5-b7b5-58f916750e38",
   "metadata": {},
   "outputs": [],
   "source": []
  },
  {
   "cell_type": "code",
   "execution_count": 3,
   "id": "3b9794f2-552a-4505-a74c-eea9104c9fb0",
   "metadata": {},
   "outputs": [
    {
     "name": "stdout",
     "output_type": "stream",
     "text": [
      "['Solarize_Light2', '_classic_test_patch', '_mpl-gallery', '_mpl-gallery-nogrid', 'bmh', 'classic', 'dark_background', 'fast', 'fivethirtyeight', 'ggplot', 'grayscale', 'seaborn-v0_8', 'seaborn-v0_8-bright', 'seaborn-v0_8-colorblind', 'seaborn-v0_8-dark', 'seaborn-v0_8-dark-palette', 'seaborn-v0_8-darkgrid', 'seaborn-v0_8-deep', 'seaborn-v0_8-muted', 'seaborn-v0_8-notebook', 'seaborn-v0_8-paper', 'seaborn-v0_8-pastel', 'seaborn-v0_8-poster', 'seaborn-v0_8-talk', 'seaborn-v0_8-ticks', 'seaborn-v0_8-white', 'seaborn-v0_8-whitegrid', 'tableau-colorblind10']\n"
     ]
    }
   ],
   "source": [
    "import bs4\n",
    "from sklearn.linear_model import LinearRegression\n",
    "import requests\n",
    "import matplotlib\n",
    "import xgboost\n",
    "import pycaret\n",
    "import catboost\n",
    "import flask\n",
    "import cudf\n",
    "import math \n",
    "import pandas as pd\n",
    "import numpy as np\n",
    "import matplotlib.pyplot as plt\n",
    "%matplotlib inline\n",
    "import seaborn as sns\n",
    "import re\n",
    "import scipy as sp\n",
    "pd.set_option('float_format', '{:f}'.format)\n",
    "plt.style.use('ggplot')\n",
    "\n",
    "import pickle\n",
    "import json\n",
    "from matplotlib import style \n",
    "print(plt.style.available)"
   ]
  },
  {
   "cell_type": "code",
   "execution_count": 4,
   "id": "1878f39a-13e4-448b-b1cf-e3062c9fdbb2",
   "metadata": {},
   "outputs": [
    {
     "data": {
      "text/plain": [
       "dict_keys(['areaIncome', 'county', 'city', 'district', 'postcodeArea'])"
      ]
     },
     "execution_count": 4,
     "metadata": {},
     "output_type": "execute_result"
    }
   ],
   "source": [
    "extra_data = {\n",
    "\"areaIncome\" : 12,\n",
    "\"county\": 13,\n",
    "\"city\": 25,\n",
    "\"district\": 26,\n",
    "\"postcodeArea\": 56,\n",
    "}\n",
    "extra_data.keys()"
   ]
  }
 ],
 "metadata": {
  "kernelspec": {
   "display_name": "cudf-rapids (python 3.10)",
   "language": "python",
   "name": "cudf-rapids"
  },
  "language_info": {
   "codemirror_mode": {
    "name": "ipython",
    "version": 3
   },
   "file_extension": ".py",
   "mimetype": "text/x-python",
   "name": "python",
   "nbconvert_exporter": "python",
   "pygments_lexer": "ipython3",
   "version": "3.10.13"
  }
 },
 "nbformat": 4,
 "nbformat_minor": 5
}

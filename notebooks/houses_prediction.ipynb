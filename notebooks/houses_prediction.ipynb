{
 "cells": [
  {
   "cell_type": "markdown",
   "id": "96bb1395-fde1-4855-b14b-a772314d30bd",
   "metadata": {
    "jp-MarkdownHeadingCollapsed": true,
    "tags": []
   },
   "source": [
    "# tests"
   ]
  },
  {
   "cell_type": "code",
   "execution_count": null,
   "id": "49f3f445-fd38-4689-ac70-fedc460d731b",
   "metadata": {
    "tags": []
   },
   "outputs": [],
   "source": [
    "import numpy as np\n",
    "import pandas as pd"
   ]
  },
  {
   "cell_type": "code",
   "execution_count": null,
   "id": "1b82341e-27b9-4390-baaf-7013d7089dae",
   "metadata": {
    "tags": []
   },
   "outputs": [],
   "source": [
    "df = pd.DataFrame({\n",
    "    \"vp\": [6,3,6,5,10], \n",
    "    \"p\": [4,4,2,12,23], \n",
    "    'n': [5,14,1,32,12],\n",
    "    'r': [3,7,3,27,5],\n",
    "    'vr': [2,6,0,18,14],\n",
    "})"
   ]
  },
  {
   "cell_type": "code",
   "execution_count": null,
   "id": "676dabd5-008b-4781-8057-fa1fc4c4c44e",
   "metadata": {
    "tags": []
   },
   "outputs": [],
   "source": [
    "df"
   ]
  },
  {
   "cell_type": "code",
   "execution_count": null,
   "id": "36d826fc-c7e8-4024-9304-4a49385c3054",
   "metadata": {
    "tags": []
   },
   "outputs": [],
   "source": [
    "df.apply(lambda x:x/x.sum(),axis=1)"
   ]
  },
  {
   "cell_type": "markdown",
   "id": "2fa5b91a-d269-459e-9ed7-ac57ea9b1cca",
   "metadata": {},
   "source": [
    "# Introduction"
   ]
  },
  {
   "cell_type": "markdown",
   "id": "7bbb7659-f6db-46da-bed1-30a838fc3a27",
   "metadata": {},
   "source": [
    "- outliers regularisation method = mean\n",
    "- mean regularisation columns = [\n",
    "    \"PropertyType\",\n",
    "    'County',\n",
    "    \"PostcodeArea\",\n",
    "    'District',\n",
    "    'TownCity',\n",
    "]\n",
    "- \"isLog\" : True,\n",
    "- 'classify_outliers_cycle': 2\n",
    "\n",
    "--> r2 = 0.74"
   ]
  },
  {
   "cell_type": "markdown",
   "id": "8bceb249-bf86-4197-a47c-f9c689c9aa61",
   "metadata": {},
   "source": [
    "## Configs"
   ]
  },
  {
   "cell_type": "code",
   "execution_count": null,
   "id": "1531b677-768a-42ae-9de6-65e110d2487b",
   "metadata": {},
   "outputs": [],
   "source": [
    "config_processing = {\n",
    "    # ----- default\n",
    "    # \"\"\"\n",
    "    #     r2 = 0.6827\n",
    "    #     inputs = [\n",
    "    #         'OldNew' ,  \n",
    "    #         'Duration' , \n",
    "    #         'PPDCategoryType',\n",
    "    #         # Month\n",
    "    #         *[k for k in data.columns if ('Month' in k)],\n",
    "    #         # Weights\n",
    "    #         *[k for k in data.columns if ('Weights' in k) and (not (\"Transf\" in k))],\n",
    "    #         # # zscore\n",
    "    #         *[k for k in data.columns if ('WeightsTransf' in k)],\n",
    "    #         # PropertyType\n",
    "    #         *[k for k in data.columns if ('PropertyType' in k)],\n",
    "    #         # target\n",
    "    #         target\n",
    "    #     ]\n",
    "    # \"\"\"\n",
    "    \"default\" : {\n",
    "        \"method\" : \"mean\",\n",
    "        \"groupby\" : [\n",
    "            \"PPDCategoryType\",\n",
    "            \"PropertyType\",\n",
    "            \"Duration\",\n",
    "            'District',\n",
    "            'TownCity',\n",
    "        ],\n",
    "        \"isLog\" : False,\n",
    "        'classify_outliers_cycle': 2\n",
    "    },\n",
    "    # ----- v1\n",
    "    # \"\"\"\n",
    "    #     r2 = 0.6813    \n",
    "    #     inputs = [\n",
    "    #         'OldNew' ,  \n",
    "    #         'Duration' , \n",
    "    #         'PPDCategoryType',\n",
    "    #         # Month\n",
    "    #         *[k for k in data.columns if ('Month' in k)],\n",
    "    #         # Weights\n",
    "    #         *[k for k in data.columns if ('Weights' in k) and (not (\"Transf\" in k))],\n",
    "    #         # PropertyType\n",
    "    #         *[k for k in data.columns if ('PropertyType' in k)],\n",
    "    #         # target\n",
    "    #         target\n",
    "    #     ]\n",
    "    # \"\"\"\n",
    "    \"version 1\" : {\n",
    "        \"method\" : \"mean\",\n",
    "        \"groupby\" : [\n",
    "            \"PropertyType\",\n",
    "            \"Duration\",\n",
    "            'County',\n",
    "            'District',\n",
    "            'TownCity',\n",
    "        ],\n",
    "        \"isLog\" : False,\n",
    "        'classify_outliers_cycle': 2\n",
    "    },\n",
    "    # ----- v2 \n",
    "    # \"\"\"\n",
    "    #     r2 = 0.6964    \n",
    "    #     inputs = [\n",
    "    #         'OldNew' ,  \n",
    "    #         'Duration' , \n",
    "    #         'PPDCategoryType',\n",
    "    #         # Month\n",
    "    #         *[k for k in data.columns if ('Month' in k)],\n",
    "    #         # Weights\n",
    "    #         *[k for k in data.columns if ('Weights' in k) and (not (\"Transf\" in k))],\n",
    "    #         # PropertyType\n",
    "    #         *[k for k in data.columns if ('PropertyType' in k)],\n",
    "    #         # target\n",
    "    #         target\n",
    "    #     ]\n",
    "    # \"\"\"\n",
    "    \"version 2\" : {\n",
    "        \"method\" : \"mean\",\n",
    "        \"groupby\" : [\n",
    "            # --- current model\n",
    "            # \"PropertyType\",\n",
    "            # 'County',\n",
    "            # \"PostcodeArea\",\n",
    "            # 'District',\n",
    "            # 'TownCity',\n",
    "            # --- test,\n",
    "            \"PropertyType\",\n",
    "            'County',\n",
    "            'TownCity',\n",
    "            \"PostcodeArea\",\n",
    "            'District',\n",
    "            \n",
    "        ],\n",
    "        \"isLog\" : True,\n",
    "        'classify_outliers_cycle': 2\n",
    "    },\n",
    "    # ----- v3 \n",
    "    # \"\"\"\n",
    "    #     r2 = ??    \n",
    "    #     inputs = [\n",
    "    #         'OldNew' ,  \n",
    "    #         'Duration' , \n",
    "    #         'PPDCategoryType',\n",
    "    #         # Month\n",
    "    #         *[k for k in data.columns if ('Month' in k)],\n",
    "    #         # Weights\n",
    "    #         *[k for k in data.columns if ('Weights' in k) and (not (\"Transf\" in k))],\n",
    "    #         # PropertyType\n",
    "    #         *[k for k in data.columns if ('PropertyType' in k)],\n",
    "    #         # target\n",
    "    #         target\n",
    "    #     ]\n",
    "    # \"\"\"\n",
    "    \"version 3\" : {\n",
    "        \"method\" : \"mean\",\n",
    "        \"groupby\" : [\n",
    "            \"PropertyType\",\n",
    "            \"Duration\",\n",
    "            'County',\n",
    "            \"PostcodeArea\",\n",
    "            'District',\n",
    "            'TownCity',\n",
    "            \n",
    "        ],\n",
    "        \"isLog\" : False,\n",
    "        'classify_outliers_cycle': 2\n",
    "    },\n",
    "}"
   ]
  },
  {
   "cell_type": "code",
   "execution_count": null,
   "id": "9cd5733b-30f9-47ea-8c3d-a66187595dc4",
   "metadata": {
    "tags": []
   },
   "outputs": [],
   "source": [
    "choosed_version = \"version 2\"\n",
    "# ----- define elements\n",
    "outliers_regularisation_method = config_processing[choosed_version][\"method\"]\n",
    "groupbycolumns = config_processing[choosed_version][\"groupby\"]\n",
    "logoutlierfence= config_processing[choosed_version][\"isLog\"]\n",
    "classify_outliers_cycle= config_processing[choosed_version][\"classify_outliers_cycle\"]"
   ]
  },
  {
   "cell_type": "markdown",
   "id": "7d1753db-15c9-4249-b5a6-bd22c4b5379d",
   "metadata": {},
   "source": [
    "## Paths & Folders"
   ]
  },
  {
   "cell_type": "markdown",
   "id": "4c4498a7-1917-40fe-b1ab-55a708a2be2f",
   "metadata": {},
   "source": [
    "- for Model directory for saving and loading is stored in \"model_dir_location\""
   ]
  },
  {
   "cell_type": "code",
   "execution_count": 1,
   "id": "5938a763-5dbf-4dcf-8b54-a9b5b815c2d4",
   "metadata": {},
   "outputs": [],
   "source": [
    "model_name = 'model_xgboost_withIncomeArea'"
   ]
  },
  {
   "cell_type": "code",
   "execution_count": 2,
   "id": "5913c46a-7e77-48cf-8e54-57d0a812142a",
   "metadata": {},
   "outputs": [],
   "source": [
    "model_dir_location = f'../models/{model_name}'"
   ]
  },
  {
   "cell_type": "markdown",
   "id": "5cd3b72c-d9b9-4068-8f43-960a9d84aee2",
   "metadata": {
    "tags": []
   },
   "source": [
    "# Load data"
   ]
  },
  {
   "cell_type": "code",
   "execution_count": 3,
   "id": "0df41ba9-0432-43aa-be59-2befc40bd25e",
   "metadata": {
    "tags": []
   },
   "outputs": [
    {
     "name": "stdout",
     "output_type": "stream",
     "text": [
      "['Solarize_Light2', '_classic_test_patch', '_mpl-gallery', '_mpl-gallery-nogrid', 'bmh', 'classic', 'dark_background', 'fast', 'fivethirtyeight', 'ggplot', 'grayscale', 'seaborn-v0_8', 'seaborn-v0_8-bright', 'seaborn-v0_8-colorblind', 'seaborn-v0_8-dark', 'seaborn-v0_8-dark-palette', 'seaborn-v0_8-darkgrid', 'seaborn-v0_8-deep', 'seaborn-v0_8-muted', 'seaborn-v0_8-notebook', 'seaborn-v0_8-paper', 'seaborn-v0_8-pastel', 'seaborn-v0_8-poster', 'seaborn-v0_8-talk', 'seaborn-v0_8-ticks', 'seaborn-v0_8-white', 'seaborn-v0_8-whitegrid', 'tableau-colorblind10']\n"
     ]
    }
   ],
   "source": [
    "# %load_ext cudf.pandas\n",
    "import math \n",
    "import pandas as pd\n",
    "import numpy as np\n",
    "import matplotlib.pyplot as plt\n",
    "%matplotlib inline\n",
    "import seaborn as sns\n",
    "import re\n",
    "import scipy as sp\n",
    "pd.set_option('float_format', '{:f}'.format)\n",
    "plt.style.use('ggplot')\n",
    "\n",
    "import pickle\n",
    "import json\n",
    "from matplotlib import style \n",
    "print(plt.style.available)"
   ]
  },
  {
   "cell_type": "code",
   "execution_count": 4,
   "id": "eb5f6789-c246-400e-a71a-b53f41910cbe",
   "metadata": {
    "tags": []
   },
   "outputs": [],
   "source": [
    "columns = [\n",
    "    'Id',\n",
    "    'Price',\n",
    "    'TransferDate',\n",
    "    'Postcode',\n",
    "    'PropertyType',\n",
    "    'OldNew',\n",
    "    'Duration',\n",
    "    'PAON',\n",
    "    'SAON',\n",
    "    'Street',\n",
    "    'Locality' ,\n",
    "    'TownCity',\n",
    "    'District',\n",
    "    'County',\n",
    "    'PPDCategoryType',\n",
    "    'RecordStatus',\n",
    "]\n",
    "houses_loaded = pd.read_csv('../data/pp-2021.csv',names=columns)"
   ]
  },
  {
   "cell_type": "markdown",
   "id": "aa368f72-7cab-498c-87fc-8a2766001350",
   "metadata": {
    "tags": []
   },
   "source": [
    "# Functions"
   ]
  },
  {
   "cell_type": "markdown",
   "id": "2008b986-8fa1-4763-b788-997aacd65b86",
   "metadata": {
    "tags": []
   },
   "source": [
    "## visualization"
   ]
  },
  {
   "cell_type": "code",
   "execution_count": 5,
   "id": "662cebe0-991f-4eee-8561-5bf542031f42",
   "metadata": {
    "tags": []
   },
   "outputs": [],
   "source": [
    "def find_df_name(df):\n",
    "   name = [name for name, obj in globals().items() if id(obj) == id(df)]\n",
    "   return name[0] if name else None\n",
    "\n",
    "def bar_catg_feature(col_name,df_data):\n",
    "    fig, axes = plt.subplots(nrows=1, ncols=2, figsize=(20, 6))\n",
    "    # data\n",
    "    df_feature = df_data.loc[:,[col_name,\"Price\"]]\n",
    "\n",
    "    df_grouped = df_feature.groupby(col_name)[\"Price\"].mean()\n",
    "    # first plot\n",
    "    sns.barplot(\n",
    "        x=df_grouped.index, \n",
    "        y=df_grouped.values, \n",
    "        ax=axes[0]\n",
    "    )\n",
    "    # second plot\n",
    "    values = df_feature[col_name].value_counts(dropna=False)\n",
    "    sns.barplot(\n",
    "        x=values.index, \n",
    "        y=values.values,\n",
    "        ax=axes[1]\n",
    "    )\n",
    "    # Add titles\n",
    "    axes[0].set_title(f'Average Price by {col_name} (data={find_df_name(df_data)})')\n",
    "    axes[1].set_title(f'distribution of {col_name} (data={find_df_name(df_data)})')\n",
    "    # show\n",
    "    plt.tight_layout()\n",
    "    plt.show()\n",
    "\n",
    "def bar_catg_pairfeature(colname1,colname2,colname3='Price',df_data=None):\n",
    "    fig, axes = plt.subplots(nrows=1, ncols=1, figsize=(20, 6))\n",
    "    # data\n",
    "    df_feature = df_data.loc[:,[colname1,colname2,colname3]]\n",
    "    sns.barplot(\n",
    "        data = df_feature,\n",
    "        x=colname2, \n",
    "        y=colname3,\n",
    "        hue=colname1,\n",
    "        ax=axes\n",
    "    )\n",
    "    # Add titles\n",
    "    axes.set_title(f'Average Price by {colname1}, {colname2} (data={find_df_name(df_data)})')\n",
    "    # show\n",
    "    plt.tight_layout()\n",
    "    plt.show()\n",
    "\n",
    "def bar_geo_feature(colname1,colname2='Price',df_data = None,ascending=False,method='mean'):\n",
    "    fig, axes = plt.subplots(nrows=1, ncols=1, figsize=(20, 12))\n",
    "    # data\n",
    "    if method=='mean':\n",
    "        df_feature = df_data.groupby(colname1)[colname2].mean().sort_values(ascending=ascending)[:50]\n",
    "    elif method=='median':\n",
    "        df_feature = df_data.groupby(colname1)[colname2].median().sort_values(ascending=ascending)[:50]\n",
    "    sns.barplot(\n",
    "        x=df_feature.index, \n",
    "        y=df_feature.values,\n",
    "        ax=axes\n",
    "    )\n",
    "    # Add titles\n",
    "    axes.tick_params(axis='x', rotation=90)\n",
    "    axes.set_title(f'{method} of {colname2} by {colname1} (data={find_df_name(df_data)})')\n",
    "    # show\n",
    "    # plt.tight_layout()\n",
    "    plt.show()\n",
    "\n",
    "def box_geo_feature(colname1,colname2='Price',df_data = None,method='mean'):\n",
    "    fig, axes = plt.subplots(nrows=1, ncols=1, figsize=(10, 6))\n",
    "    if method=='mean':\n",
    "        df_grouped_mean = df_data.groupby(colname1)[colname2].mean().sort_values(ascending=False)\n",
    "    elif method=='median':\n",
    "        df_grouped_mean = df_data.groupby(colname1)[colname2].median().sort_values(ascending=False)\n",
    "    sns.boxplot(df_grouped_mean)\n",
    "    plt.title(f'Distribution of {method} of {colname2} by {colname1} (data={find_df_name(df_data)})')\n",
    "    plt.show()\n",
    "\n",
    "def price_distribution(df,bins=100,kind='bar',transform_log=0):\n",
    "    if transform_log==0:\n",
    "        price = df['Price']  \n",
    "    else:\n",
    "        price = df['Price']\n",
    "        for i in range(transform_log):\n",
    "            price = np.log1p(price)\n",
    "    price.value_counts(bins=bins).sort_index().plot(kind=kind,figsize=(20,16))\n",
    "    # show\n",
    "    plt.tight_layout()\n",
    "    plt.show()\n",
    "\n",
    "def price_boxplot(df,col_name=None,isLog=False):\n",
    "    kwargs = {\n",
    "        'y' : np.log(df['Price']) if isLog else df['Price']\n",
    "    }\n",
    "    if col_name: kwargs['x'] = df[col_name]  \n",
    "    ax = sns.boxplot(**kwargs)\n",
    "    title = f'Price by {col_name}' if col_name!= None else 'Price' \n",
    "    ax.set_title(title + f' :(log={isLog},data={find_df_name(df)})',fontsize=10)\n",
    "    plt.show()\n",
    "\n",
    "def price_scatterplot(df,col_name=None,isColDivided=False,isLog=False):\n",
    "    \n",
    "    if isColDivided:\n",
    "        # -- inputs\n",
    "        vv = df[col_name].value_counts().index\n",
    "        ncols = 2\n",
    "        nrows = len(vv)//ncols + len(vv)%ncols\n",
    "        # -- canvas\n",
    "        fig, ax = plt.subplots(\n",
    "            nrows = nrows,\n",
    "            ncols = ncols, \n",
    "            figsize=(10*ncols,8*nrows)\n",
    "        )\n",
    "        # -- draw\n",
    "        i=j=0\n",
    "        for ptype in vv:\n",
    "            dd = df.loc[df[col_name] == ptype,['Price',col_name]]\n",
    "            if nrows == 1:\n",
    "                sns.scatterplot(\n",
    "                    x = dd[col_name],\n",
    "                    y = np.log(dd.Price) if isLog else dd.Price,\n",
    "                    ax = ax[j]\n",
    "                ).set(title=f'{col_name} ({ptype})')\n",
    "                # ax[j].plot(dd)\n",
    "                # ax[j].title.set_text(f'{col_name}({ptype})')\n",
    "            else : \n",
    "                sns.scatterplot(\n",
    "                    x = dd[col_name],\n",
    "                    y = np.log(dd.Price) if isLog else dd.Price,\n",
    "                    ax=ax[i, j]\n",
    "                ).set(title=f'{col_name} ({ptype})')\n",
    "                # ax[i, j].plot(dd)\n",
    "                # ax[i, j].title.set_text(f'{col_name}({ptype})')\n",
    "            if j == 1:\n",
    "                i += 1\n",
    "                j=0\n",
    "            else: j+=1\n",
    "        fig.suptitle(f'Price by {col_name} :(log={isLog},data={find_df_name(df)})')\n",
    "    else:\n",
    "        kwargs = {\n",
    "            'y' : np.log(df['Price']) if isLog else df['Price']\n",
    "        }\n",
    "        if col_name: kwargs['x'] = df[col_name] \n",
    "        ax = sns.scatterplot(**kwargs)\n",
    "        title = f'Price by {col_name}' if col_name!= None else 'Price' \n",
    "        ax.set_title(title + f' :(log={isLog},data={find_df_name(df)})',fontsize=10)\n",
    "    plt.show()\n",
    "\n",
    "def visualise_grps_bycol(df,col_name,ncols=2):\n",
    "    vv = df[col_name].value_counts().index\n",
    "    nrows = len(vv)//ncols + len(vv)%ncols\n",
    "    fig , ax = plt.subplots(\n",
    "        nrows = nrows,\n",
    "        ncols = ncols,\n",
    "        figsize=(10*ncols,8*nrows)\n",
    "    )\n",
    "    i = j = 0\n",
    "    for ptype in vv:\n",
    "        print(f\"{ptype} : ({i},{j})\")\n",
    "        dd = df.loc[df[col_name] == ptype,'Price']\n",
    "        if nrows == 1:\n",
    "            ax[j].plot(dd)\n",
    "            ax[j].title.set_text(f'{col_name}({ptype})')\n",
    "        else : \n",
    "            ax[i, j].plot(dd)\n",
    "            ax[i, j].title.set_text(f'{col_name}({ptype})')\n",
    "        if j == 1:\n",
    "            i += 1\n",
    "            j=0\n",
    "        else: j+=1\n",
    "    plt.show()\n",
    "\n",
    "def visualise_grps(df,col_name,ncols=2):\n",
    "    bar_catg_feature(col_name,df_data = df)\n",
    "    box_geo_feature(col_name,df_data = df)\n",
    "    price_boxplot(df,col_name=col_name,isLog=False)\n",
    "    price_boxplot(df,col_name=col_name,isLog=True)\n",
    "    visualise_grps_bycol(df,col_name,ncols=ncols)\n",
    "\n",
    "def visualise_global(df,ncols=2,bins=100,grp_columns = [],geo_col = [],scatter_col=[]):\n",
    "    \"\"\"\n",
    "        grp_columns = [\"PropertyType\",\"Duration\",\"OldNew\"]\n",
    "        geo_col = [\"County\",\"District\",\"TownCity\"]\n",
    "    \"\"\"\n",
    "    # -- Price\n",
    "    print(\"###################################################### Price ######################################################\")\n",
    "    price_distribution(df,bins=bins,kind='bar')\n",
    "    price_boxplot(df,col_name=None,isLog=False)\n",
    "    price_boxplot(df,col_name=None,isLog=True)\n",
    "    \n",
    "    # -- grp_columns\n",
    "    for col in grp_columns:\n",
    "        print(f\"###################################################### {col} ######################################################\")\n",
    "        visualise_grps(df,col,ncols)\n",
    "    \n",
    "    # -- geo_col\n",
    "    for col in geo_col:\n",
    "        print(f\"###################################################### {col} ######################################################\")\n",
    "        box_geo_feature(col,df_data = df)\n",
    "        bar_geo_feature(col,colname2='Price',df_data = df,ascending=False,method='mean')\n",
    "    \n",
    "    # -- scatterplot\n",
    "    for col in scatter_col:\n",
    "        print(f\"###################################################### {col} ######################################################\")\n",
    "        price_scatterplot(df,col_name=col,isColDivided=False,isLog=False)"
   ]
  },
  {
   "cell_type": "markdown",
   "id": "9cca2d24-407d-4e69-8843-78a64dd855ab",
   "metadata": {
    "tags": []
   },
   "source": [
    "## aggs & transformation"
   ]
  },
  {
   "cell_type": "code",
   "execution_count": 6,
   "id": "4a22f764-f940-4724-a13c-741e7fe4fc6f",
   "metadata": {
    "tags": []
   },
   "outputs": [],
   "source": [
    "# function to add to JSON\n",
    "def write_json(new_data, filename='features_data/data.json',isNew=False):\n",
    "    if isNew:\n",
    "        with open(filename, 'x') as f:\n",
    "            json.dump({\"data\":new_data},f)\n",
    "    else:\n",
    "        with open(filename,'r+') as file:\n",
    "              # First we load existing data into a dict.\n",
    "            file_data = json.load(file)\n",
    "            # Join new_data with file_data inside emp_details\n",
    "            file_data[\"data\"].update(new_data)\n",
    "            # Sets file's current position at offset.\n",
    "            file.seek(0)\n",
    "            # convert back to json.\n",
    "            json.dump(file_data, file, indent = 4)\n",
    "\n",
    "def load_json(data_name=None, filename='features_data/data.json'):\n",
    "    with open(filename,'r') as file:\n",
    "        file_data = json.load(file)\n",
    "        data = file_data[\"data\"] if data_name==None else file_data[\"data\"][data_name]\n",
    "    return data\n",
    "\n",
    "def fix_dfHouses(df):\n",
    "    def clean(x):\n",
    "        if type(x)==str:\n",
    "            return x.strip()\n",
    "        elif x==None : return np.nan\n",
    "        elif math.isnan(x): return np.nan\n",
    "        else: return x\n",
    "    for col in df.select_dtypes(include=['object']).columns:\n",
    "        df[col] = df[col].apply(clean)\n",
    "    # PropertyType : D = Detached, S = Semi-Detached, T = Terraced, F = Flats/Maisonettes, O = Other\n",
    "    df.loc[df['PropertyType']=='T','PropertyType'] = 'Terraced'\n",
    "    df.loc[df['PropertyType']=='S','PropertyType'] = 'SemiDetached'\n",
    "    df.loc[df['PropertyType']=='D','PropertyType'] = 'Detached'\n",
    "    df.loc[df['PropertyType']=='F','PropertyType'] = 'Flat'\n",
    "    df.loc[df['PropertyType']=='O','PropertyType'] = 'Other'\n",
    "    # OldNew : Y = New, N = Old\n",
    "    df.loc[df['OldNew']=='Y','OldNew'] = 'New'\n",
    "    df.loc[df['OldNew']=='N','OldNew'] = 'Old'\n",
    "    # Duration : F = Freehold, L= Leasehold\n",
    "    df.loc[df['Duration']=='F','Duration'] = 'Freehold'\n",
    "    df.loc[df['Duration']=='L','Duration'] = 'Leasehold'\n",
    "    # PPDCategoryType : A = StandardPrice (Standard Price Paid entry) ,  B = AdditionalPrice (Additional Price Paid)\n",
    "    df.loc[df['PPDCategoryType']=='A','PPDCategoryType'] = 'StandardPrice'\n",
    "    df.loc[df['PPDCategoryType']=='B','PPDCategoryType'] = 'AdditionalPrice'\n",
    "    # TransferDate --> Day, Month\n",
    "    df['TransferDate'] = pd.to_datetime(df['TransferDate'])\n",
    "    df['TransferMonth'] = df['TransferDate'].dt.month\n",
    "    df['TransferDay'] = df['TransferDate'].dt.day\n",
    "    return df\n",
    "\n",
    "def categorise(col,df_data,weight_func = lambda x:x):\n",
    "    cat_col = df_data.groupby(col)['Price'].mean()\n",
    "    # Calculate the quartiles:\n",
    "    q25 = np.percentile(cat_col, 25)\n",
    "    q75 = np.percentile(cat_col, 75)\n",
    "    max_q = min(cat_col.max(),q75+1.5*(q75-q25))\n",
    "    min_q = max(cat_col.min(),q25-1.5*(q75-q25))\n",
    "    # caterg\n",
    "    def col_cat(x,min_q,q25,q75,max_q):\n",
    "        if x[\"Price\"] < min_q : return \"Very Poor\"\n",
    "        elif (x[\"Price\"] >= min_q) and (x[\"Price\"] <= q25) : return \"Poor\"\n",
    "        elif (x[\"Price\"] > q25) and (x[\"Price\"] <= q75) : return \"Normal\"\n",
    "        elif(x[\"Price\"] > q75) and (x[\"Price\"] <= max_q) : return \"Rich\"\n",
    "        else: return \"Very Rich\"\n",
    "    def coef_calc(x,coltype,coef):\n",
    "        return coef_types[x[coltype]]*x['counts']\n",
    "    # def cat_dfdata(df,col,weights):\n",
    "    #     df_cp = df.copy()\n",
    "    #     df_cp.loc[:,col+'Weights'] = df_cp.apply(lambda x:weights[x[col]],axis=1)\n",
    "    #     return df_cp\n",
    "    # caterg\n",
    "    coltype = col+'Type'\n",
    "    houses_categorised = pd.DataFrame(df_data.apply(lambda x: col_cat(x,min_q=min_q,q25=q25,q75=q75,max_q=max_q),axis=1),columns = [coltype])\n",
    "    houses_categorised = pd.concat([df_data,houses_categorised], axis=1)\n",
    "    houses_categorised_byType = houses_categorised.loc[:,[col,coltype]].groupby([col,coltype]).agg(\n",
    "        counts = pd.NamedAgg(column=coltype, aggfunc=lambda x:x.count()),\n",
    "    )\n",
    "    coef_types_weights = {\n",
    "        'Normal' : 0,\n",
    "        'Poor': -2,\n",
    "        'Rich': 2,\n",
    "        'Very Poor': -4,\n",
    "        'Very Rich': 4,\n",
    "    }\n",
    "    coef_types = {k:weight_func(v) for k,v in coef_types_weights.items()}\n",
    "    houses_categorised_byType = houses_categorised_byType.groupby(level=[col],group_keys=False).apply(lambda x:x/x.sum()).reset_index()\n",
    "    houses_categorised_byType['weights'] = houses_categorised_byType.apply(lambda x: coef_calc(x,coltype,coef_types),axis=1)\n",
    "    categories_weights = houses_categorised_byType.groupby(col)['weights'].sum()\n",
    "    \n",
    "    return {\n",
    "        'categories_weights':categories_weights,\n",
    "        col+'Weights': df_data.apply(lambda x:categories_weights[x[col]],axis=1)\n",
    "    }\n",
    "\n",
    "def classify_outliers(df_data,colname='Price',by_log=False):\n",
    "    # target\n",
    "    if not by_log:\n",
    "        target_col = df_data[colname]\n",
    "        target_metrics = target_col.describe()\n",
    "    else:\n",
    "        target_col = np.log(df_data[colname].astype(float))\n",
    "        target_metrics = target_col.describe()\n",
    "    # metrics \n",
    "    price_q25= target_metrics[\"25%\"]\n",
    "    price_q50= target_metrics[\"50%\"]\n",
    "    price_q75= target_metrics[\"75%\"]\n",
    "    price_IQR = price_q75 - price_q25\n",
    "    price_max= min(target_metrics[\"max\"],price_q75+1.5*price_IQR)\n",
    "    price_min= max(target_metrics[\"min\"],price_q25-1.5*price_IQR)\n",
    "    mask = np.logical_and((target_col <= price_max), (target_col >= price_min))\n",
    "    normal_PriceWise_df = df_data.loc[mask,:]\n",
    "    expensive_PriceWise_df = df_data.loc[~mask,:]\n",
    "    return {\n",
    "        \"q25\":price_q25,\n",
    "        \"q50\":price_q50,\n",
    "        \"q75\":price_q75,\n",
    "        \"IQR\":price_IQR,\n",
    "        \"max\":price_max,\n",
    "        \"min\":price_min,\n",
    "        \"normal_PriceWise_df\":normal_PriceWise_df,\n",
    "        \"expensive_PriceWise_df\":expensive_PriceWise_df\n",
    "    }\n",
    "\n",
    "def regulate_outliers(df_data, method='mean', groupby=None,bothsides=False,maxmin=False,df_reference=pd.DataFrame()):\n",
    "    \"\"\"\n",
    "        1- expl:\n",
    "            maxmin: \n",
    "                - x>outliser_bar_max ---> x=outliser_bar_max\n",
    "                - x<outliser_bar_min ---> x=outliser_bar_min\n",
    "            bothsides:\n",
    "                - (x>outliser_bar_max) or (x<outliser_bar_min) ---> x=groupby(method)\n",
    "            groupby:\n",
    "                - name of column of group by\n",
    "                - list or str\n",
    "            \n",
    "        2- Notes:\n",
    "            - \"maxmin\" is prioritised over \"bothsides\" \n",
    "    \"\"\"\n",
    "    data = df_data.copy()\n",
    "    df_data_reference = df_reference.copy() if not df_reference.empty else data\n",
    "    if groupby != None:\n",
    "        df_data_grps = df_data_reference.groupby(groupby).agg(\n",
    "            min = pd.NamedAgg(column='Price',aggfunc='min'),\n",
    "            outlier_bar_Min = pd.NamedAgg(column='Price',aggfunc=lambda x:max(min(x),np.percentile(x,25) - 1.5*(np.percentile(x,75)-np.percentile(x,25)))),\n",
    "            q25 = pd.NamedAgg(column='Price',aggfunc=lambda x:np.percentile(x,25)),\n",
    "            q50 = pd.NamedAgg(column='Price',aggfunc=lambda x:np.percentile(x,50)),\n",
    "            q75 = pd.NamedAgg(column='Price',aggfunc=lambda x:np.percentile(x,75)),\n",
    "            outlier_bar_Max = pd.NamedAgg(column='Price',aggfunc=lambda x:min(max(x),np.percentile(x,75) + 1.5*(np.percentile(x,75)-np.percentile(x,25)))),\n",
    "            max = pd.NamedAgg(column='Price',aggfunc='max'),\n",
    "            median = pd.NamedAgg(column='Price',aggfunc='median'),\n",
    "            mean = pd.NamedAgg(column='Price',aggfunc='mean'),\n",
    "        )\n",
    "        def fix_outliers(x,df_data_grps,method,groupby,bothsides):\n",
    "            # print(x)\n",
    "            if not (tuple(x[groupby]) in df_data_grps.index): return np.nan \n",
    "            s_x = df_data_grps.loc[tuple(x[groupby]),:]\n",
    "            if x['Price']<s_x['outlier_bar_Min']: \n",
    "                if maxmin or (not bothsides): return s_x['outlier_bar_Min'] \n",
    "                else: return s_x[method]\n",
    "            elif x['Price']>s_x['outlier_bar_Max']: \n",
    "                if maxmin: return s_x['outlier_bar_Max'] \n",
    "                else: return s_x[method]\n",
    "            else : return x['Price']\n",
    "        kwargs = {\n",
    "            'df_data_grps':df_data_grps,\n",
    "            'method':method,\n",
    "            'groupby':groupby,\n",
    "            'bothsides':bothsides,\n",
    "        } \n",
    "    else:\n",
    "        metric_method = df_data_reference.Price.agg(method)\n",
    "        df_data_grps = df_data_reference.Price.describe()\n",
    "        \n",
    "        def fix_outliers(x,df_data_grps,metric_method,bothsides):\n",
    "            # -- metrics\n",
    "            min_p = df_data_grps['min']\n",
    "            max_p = df_data_grps['max']\n",
    "            q25_p = df_data_grps['25%']\n",
    "            q75_p = df_data_grps['75%']\n",
    "            bar_max = min(max_p,q75_p + 1.5*(q75_p-q25_p))\n",
    "            bar_min = max(min_p,q25_p - 1.5*(q75_p-q25_p))\n",
    "            # -- regulate\n",
    "            if x['Price']<bar_min:\n",
    "                if maxmin or (not bothsides): return bar_min \n",
    "                else: return metric_method\n",
    "            elif x['Price']>bar_max: \n",
    "                if maxmin: return bar_max \n",
    "                else: return metric_method\n",
    "            else : return x['Price']\n",
    "        kwargs = {\n",
    "            'df_data_grps':df_data_grps,\n",
    "            'metric_method':metric_method,\n",
    "            'bothsides':bothsides\n",
    "        }\n",
    "    return data.apply(lambda x:fix_outliers(x,**kwargs),axis=1)\n",
    "\n",
    "def stratified_sampling(df,colname,frac,random_state=None):\n",
    "    sampling_options = {\n",
    "        \"frac\":frac\n",
    "    }\n",
    "    if random_state!= None : sampling_options['random_state']=random_state\n",
    "    return df.groupby(colname, group_keys=False).apply(lambda x: x.sample(**sampling_options))\n",
    "\n",
    "def transform_feat(df,cols=[],func_transform=lambda x:x):\n",
    "    df_cp = df.copy()\n",
    "    for col in cols:\n",
    "        df_cp[col+\"Transf\"] = df_cp[col].apply(func_transform)\n",
    "    return df_cp"
   ]
  },
  {
   "cell_type": "markdown",
   "id": "6272ccc1-8b67-4605-bc80-dc8a94d9a1f9",
   "metadata": {
    "tags": []
   },
   "source": [
    "# Discovery"
   ]
  },
  {
   "cell_type": "markdown",
   "id": "b843242e-1cc8-4b43-a41a-d3161a6826d1",
   "metadata": {
    "tags": []
   },
   "source": [
    "## Exploration"
   ]
  },
  {
   "cell_type": "code",
   "execution_count": null,
   "id": "acff1929-f1a5-46ef-a975-65bca15daa66",
   "metadata": {
    "tags": []
   },
   "outputs": [],
   "source": [
    "houses_loaded.info()"
   ]
  },
  {
   "cell_type": "code",
   "execution_count": null,
   "id": "50b1d6bc-f14b-4033-a706-783cfeb44d52",
   "metadata": {
    "tags": []
   },
   "outputs": [],
   "source": [
    "houses_loaded.describe()"
   ]
  },
  {
   "cell_type": "markdown",
   "id": "389e7548-fd6f-447f-b202-613a00e09d93",
   "metadata": {},
   "source": [
    "## Cleaning"
   ]
  },
  {
   "cell_type": "code",
   "execution_count": 7,
   "id": "aeb30fa6-e565-44fc-9267-0be31784091b",
   "metadata": {
    "tags": []
   },
   "outputs": [],
   "source": [
    "houses_loaded = fix_dfHouses(houses_loaded)"
   ]
  },
  {
   "cell_type": "code",
   "execution_count": null,
   "id": "fc126d83-bd64-42ea-9831-e4e310bd0ae9",
   "metadata": {
    "scrolled": true,
    "tags": []
   },
   "outputs": [],
   "source": [
    "cat_features = [\n",
    "    'PropertyType',\n",
    "    'OldNew',\n",
    "    'Duration',\n",
    "    'TownCity',\n",
    "    'District',\n",
    "    'County',\n",
    "    'PPDCategoryType',\n",
    "    'RecordStatus',\n",
    "]\n",
    "for col in cat_features:\n",
    "    print(\"Number of categories of Feature '{0}' is : {1} \".format(col, len(houses_loaded[col].unique())))\n",
    "    print(houses_loaded[col].value_counts(dropna=False).index.tolist())\n",
    "    print('--------------------------------------------------------------------------------------------')"
   ]
  },
  {
   "cell_type": "code",
   "execution_count": 8,
   "id": "216d1ed5-a74d-423e-af31-0a09f774e36f",
   "metadata": {
    "tags": []
   },
   "outputs": [
    {
     "data": {
      "text/html": [
       "<div>\n",
       "<style scoped>\n",
       "    .dataframe tbody tr th:only-of-type {\n",
       "        vertical-align: middle;\n",
       "    }\n",
       "\n",
       "    .dataframe tbody tr th {\n",
       "        vertical-align: top;\n",
       "    }\n",
       "\n",
       "    .dataframe thead th {\n",
       "        text-align: right;\n",
       "    }\n",
       "</style>\n",
       "<table border=\"1\" class=\"dataframe\">\n",
       "  <thead>\n",
       "    <tr style=\"text-align: right;\">\n",
       "      <th></th>\n",
       "      <th>Id</th>\n",
       "      <th>Price</th>\n",
       "      <th>TransferDate</th>\n",
       "      <th>Postcode</th>\n",
       "      <th>PropertyType</th>\n",
       "      <th>OldNew</th>\n",
       "      <th>Duration</th>\n",
       "      <th>PAON</th>\n",
       "      <th>SAON</th>\n",
       "      <th>Street</th>\n",
       "      <th>Locality</th>\n",
       "      <th>TownCity</th>\n",
       "      <th>District</th>\n",
       "      <th>County</th>\n",
       "      <th>PPDCategoryType</th>\n",
       "      <th>RecordStatus</th>\n",
       "      <th>TransferMonth</th>\n",
       "      <th>TransferDay</th>\n",
       "    </tr>\n",
       "  </thead>\n",
       "  <tbody>\n",
       "    <tr>\n",
       "      <th>0</th>\n",
       "      <td>{CB0035E6-3546-58AE-E053-6B04A8C091AF}</td>\n",
       "      <td>630000</td>\n",
       "      <td>2021-04-29</td>\n",
       "      <td>BN13 3AH</td>\n",
       "      <td>Detached</td>\n",
       "      <td>Old</td>\n",
       "      <td>Freehold</td>\n",
       "      <td>3</td>\n",
       "      <td>NaN</td>\n",
       "      <td>HIGHLANDS CLOSE</td>\n",
       "      <td>NaN</td>\n",
       "      <td>WORTHING</td>\n",
       "      <td>WORTHING</td>\n",
       "      <td>WEST SUSSEX</td>\n",
       "      <td>StandardPrice</td>\n",
       "      <td>A</td>\n",
       "      <td>4</td>\n",
       "      <td>29</td>\n",
       "    </tr>\n",
       "    <tr>\n",
       "      <th>1</th>\n",
       "      <td>{CB0035E6-3547-58AE-E053-6B04A8C091AF}</td>\n",
       "      <td>477000</td>\n",
       "      <td>2021-05-10</td>\n",
       "      <td>BN16 2PQ</td>\n",
       "      <td>Detached</td>\n",
       "      <td>Old</td>\n",
       "      <td>Freehold</td>\n",
       "      <td>10</td>\n",
       "      <td>NaN</td>\n",
       "      <td>CHAUCER AVENUE</td>\n",
       "      <td>RUSTINGTON</td>\n",
       "      <td>LITTLEHAMPTON</td>\n",
       "      <td>ARUN</td>\n",
       "      <td>WEST SUSSEX</td>\n",
       "      <td>StandardPrice</td>\n",
       "      <td>A</td>\n",
       "      <td>5</td>\n",
       "      <td>10</td>\n",
       "    </tr>\n",
       "    <tr>\n",
       "      <th>2</th>\n",
       "      <td>{CB0035E6-3548-58AE-E053-6B04A8C091AF}</td>\n",
       "      <td>370000</td>\n",
       "      <td>2021-05-06</td>\n",
       "      <td>BN2 4HZ</td>\n",
       "      <td>Terraced</td>\n",
       "      <td>Old</td>\n",
       "      <td>Freehold</td>\n",
       "      <td>6</td>\n",
       "      <td>NaN</td>\n",
       "      <td>DARTMOUTH CLOSE</td>\n",
       "      <td>NaN</td>\n",
       "      <td>BRIGHTON</td>\n",
       "      <td>BRIGHTON AND HOVE</td>\n",
       "      <td>BRIGHTON AND HOVE</td>\n",
       "      <td>StandardPrice</td>\n",
       "      <td>A</td>\n",
       "      <td>5</td>\n",
       "      <td>6</td>\n",
       "    </tr>\n",
       "    <tr>\n",
       "      <th>3</th>\n",
       "      <td>{CB0035E6-3549-58AE-E053-6B04A8C091AF}</td>\n",
       "      <td>462500</td>\n",
       "      <td>2021-04-28</td>\n",
       "      <td>BN2 0GP</td>\n",
       "      <td>Terraced</td>\n",
       "      <td>Old</td>\n",
       "      <td>Freehold</td>\n",
       "      <td>18</td>\n",
       "      <td>NaN</td>\n",
       "      <td>STANLEY STREET</td>\n",
       "      <td>NaN</td>\n",
       "      <td>BRIGHTON</td>\n",
       "      <td>BRIGHTON AND HOVE</td>\n",
       "      <td>BRIGHTON AND HOVE</td>\n",
       "      <td>StandardPrice</td>\n",
       "      <td>A</td>\n",
       "      <td>4</td>\n",
       "      <td>28</td>\n",
       "    </tr>\n",
       "    <tr>\n",
       "      <th>4</th>\n",
       "      <td>{CB0035E6-354A-58AE-E053-6B04A8C091AF}</td>\n",
       "      <td>433000</td>\n",
       "      <td>2021-08-06</td>\n",
       "      <td>BN8 4LS</td>\n",
       "      <td>Detached</td>\n",
       "      <td>Old</td>\n",
       "      <td>Freehold</td>\n",
       "      <td>11</td>\n",
       "      <td>NaN</td>\n",
       "      <td>POWELL ROAD</td>\n",
       "      <td>NEWICK</td>\n",
       "      <td>LEWES</td>\n",
       "      <td>LEWES</td>\n",
       "      <td>EAST SUSSEX</td>\n",
       "      <td>StandardPrice</td>\n",
       "      <td>A</td>\n",
       "      <td>8</td>\n",
       "      <td>6</td>\n",
       "    </tr>\n",
       "  </tbody>\n",
       "</table>\n",
       "</div>"
      ],
      "text/plain": [
       "                                       Id   Price TransferDate  Postcode  \\\n",
       "0  {CB0035E6-3546-58AE-E053-6B04A8C091AF}  630000   2021-04-29  BN13 3AH   \n",
       "1  {CB0035E6-3547-58AE-E053-6B04A8C091AF}  477000   2021-05-10  BN16 2PQ   \n",
       "2  {CB0035E6-3548-58AE-E053-6B04A8C091AF}  370000   2021-05-06   BN2 4HZ   \n",
       "3  {CB0035E6-3549-58AE-E053-6B04A8C091AF}  462500   2021-04-28   BN2 0GP   \n",
       "4  {CB0035E6-354A-58AE-E053-6B04A8C091AF}  433000   2021-08-06   BN8 4LS   \n",
       "\n",
       "  PropertyType OldNew  Duration PAON SAON           Street    Locality  \\\n",
       "0     Detached    Old  Freehold    3  NaN  HIGHLANDS CLOSE         NaN   \n",
       "1     Detached    Old  Freehold   10  NaN   CHAUCER AVENUE  RUSTINGTON   \n",
       "2     Terraced    Old  Freehold    6  NaN  DARTMOUTH CLOSE         NaN   \n",
       "3     Terraced    Old  Freehold   18  NaN   STANLEY STREET         NaN   \n",
       "4     Detached    Old  Freehold   11  NaN      POWELL ROAD      NEWICK   \n",
       "\n",
       "        TownCity           District             County PPDCategoryType  \\\n",
       "0       WORTHING           WORTHING        WEST SUSSEX   StandardPrice   \n",
       "1  LITTLEHAMPTON               ARUN        WEST SUSSEX   StandardPrice   \n",
       "2       BRIGHTON  BRIGHTON AND HOVE  BRIGHTON AND HOVE   StandardPrice   \n",
       "3       BRIGHTON  BRIGHTON AND HOVE  BRIGHTON AND HOVE   StandardPrice   \n",
       "4          LEWES              LEWES        EAST SUSSEX   StandardPrice   \n",
       "\n",
       "  RecordStatus  TransferMonth  TransferDay  \n",
       "0            A              4           29  \n",
       "1            A              5           10  \n",
       "2            A              5            6  \n",
       "3            A              4           28  \n",
       "4            A              8            6  "
      ]
     },
     "execution_count": 8,
     "metadata": {},
     "output_type": "execute_result"
    }
   ],
   "source": [
    "houses_loaded.head()"
   ]
  },
  {
   "cell_type": "code",
   "execution_count": 22,
   "id": "c550843f-96a5-48fc-9775-49351c4d170d",
   "metadata": {},
   "outputs": [
    {
     "data": {
      "text/plain": [
       "BN2 3PJ     15\n",
       "BN1 4QG     14\n",
       "BN2 0EE     11\n",
       "BN1 8EQ     10\n",
       "BN2 8RQ     10\n",
       "            ..\n",
       "BN42 4YB     1\n",
       "BN41 1PW     1\n",
       "BN1 1NH      1\n",
       "BN42 4HT     1\n",
       "BN45 7EB     1\n",
       "Name: Postcode, Length: 1944, dtype: int64"
      ]
     },
     "execution_count": 22,
     "metadata": {},
     "output_type": "execute_result"
    }
   ],
   "source": [
    "houses_loaded.loc[houses_loaded.Postcode== 'BRIGHTON',:].Postcode.value_counts()"
   ]
  },
  {
   "cell_type": "markdown",
   "id": "21b9cbb6-4fe4-42a2-a2e1-71c4c847154f",
   "metadata": {
    "tags": []
   },
   "source": [
    "## Visualisation"
   ]
  },
  {
   "cell_type": "code",
   "execution_count": null,
   "id": "d03fa7f5-2d86-45f7-baaf-98d52f9edc07",
   "metadata": {
    "tags": []
   },
   "outputs": [],
   "source": [
    "visualise_global(\n",
    "    houses_loaded,\n",
    "    grp_columns = [\"PropertyType\",\"Duration\",\"OldNew\"],\n",
    "    geo_col = [\"County\",\"District\",\"TownCity\"]\n",
    ")"
   ]
  },
  {
   "cell_type": "markdown",
   "id": "e9f81b22-3ea3-40d9-a670-82cfc13f06c4",
   "metadata": {},
   "source": [
    "# Preprocessing"
   ]
  },
  {
   "cell_type": "markdown",
   "id": "fcad2bae-42ef-450b-8ae4-a9258a66e67a",
   "metadata": {},
   "source": [
    "### PostcodeArea"
   ]
  },
  {
   "cell_type": "code",
   "execution_count": null,
   "id": "7e97bf40-e147-401f-9958-d00fbc471a82",
   "metadata": {
    "tags": []
   },
   "outputs": [],
   "source": [
    "regex_postcode = r'(\\S+)'     #r'([a-z]+)'\n",
    "houses_loaded['PostcodeArea'] = houses_loaded.Postcode.str.extract(regex_postcode,flags=re.I)"
   ]
  },
  {
   "cell_type": "code",
   "execution_count": null,
   "id": "d46afa14-3a32-43c2-a88d-900446cf34bc",
   "metadata": {
    "tags": []
   },
   "outputs": [],
   "source": [
    "mask_pc = houses_loaded.PostcodeArea.isna()\n",
    "town_city_PostCodesArea = houses_loaded.groupby('TownCity')[\"PostcodeArea\"].apply(lambda x:pd.Series(list(set(x))).dropna().tolist()[0])\n",
    "houses_loaded.loc[mask_pc,'PostcodeArea']= houses_loaded.loc[(mask_pc),['PostcodeArea',\"TownCity\"]].apply(lambda x:town_city_PostCodesArea[x[\"TownCity\"]],axis=1)"
   ]
  },
  {
   "cell_type": "code",
   "execution_count": null,
   "id": "d4348935-c265-4902-9411-310add1e2d8a",
   "metadata": {
    "tags": []
   },
   "outputs": [],
   "source": [
    "houses_loaded.PostcodeArea.value_counts(dropna=True)"
   ]
  },
  {
   "cell_type": "markdown",
   "id": "ce5153dc-976d-4c6e-b6e6-a3d626ae4630",
   "metadata": {
    "tags": []
   },
   "source": [
    "### normal_PriceWise_houses && expensive_PriceWise_houses"
   ]
  },
  {
   "cell_type": "markdown",
   "id": "b1e67da0-2740-43ca-b834-f9df2229c75a",
   "metadata": {},
   "source": [
    "- 'logoutlierfence' is declared in \"introduction\" section"
   ]
  },
  {
   "cell_type": "markdown",
   "id": "f2640926-b169-4e39-b023-d3eda108257e",
   "metadata": {},
   "source": [
    "#### Outlier Treatement"
   ]
  },
  {
   "cell_type": "code",
   "execution_count": null,
   "id": "5e01421b-3d39-45c1-a0ad-866e782ac925",
   "metadata": {},
   "outputs": [],
   "source": [
    "normal_PriceWise_houses = houses_loaded.copy()\n",
    "for i in range(classify_outliers_cycle):\n",
    "    classified_houses = classify_outliers(\n",
    "        df_data=normal_PriceWise_houses,\n",
    "        colname='Price',\n",
    "        by_log = logoutlierfence\n",
    "    )\n",
    "    expensive_PriceWise_houses = classified_houses[\"expensive_PriceWise_df\"]\n",
    "    normal_PriceWise_houses = classified_houses[\"normal_PriceWise_df\"]\n",
    "    logoutlierfence = not logoutlierfence"
   ]
  },
  {
   "cell_type": "markdown",
   "id": "13db86ff-ccc6-4745-a381-8719bd5eb592",
   "metadata": {},
   "source": [
    "#### Visualization"
   ]
  },
  {
   "cell_type": "code",
   "execution_count": null,
   "id": "e9a3fa41-68b0-4c81-95a5-57bd4ff660c1",
   "metadata": {
    "tags": []
   },
   "outputs": [],
   "source": [
    "grp_columns = [\"PropertyType\",\"Duration\",\"OldNew\"]\n",
    "geo_col = [\"County\",\"District\",\"TownCity\",\"PostcodeArea\"]\n",
    "\n",
    "visualise_global(\n",
    "    normal_PriceWise_houses,\n",
    "    bins=100,\n",
    "    grp_columns=grp_columns,\n",
    "    geo_col=geo_col\n",
    ")"
   ]
  },
  {
   "cell_type": "code",
   "execution_count": null,
   "id": "de9ed3db-a3e6-4624-bb1d-9b7aa4d5d648",
   "metadata": {
    "tags": []
   },
   "outputs": [],
   "source": [
    "visualise_global(\n",
    "    expensive_PriceWise_houses,\n",
    "    grp_columns = [\"PropertyType\",\"Duration\",\"OldNew\"],\n",
    "    geo_col = [\"County\",\"District\",\"TownCity\"],\n",
    "    bins=100\n",
    ")"
   ]
  },
  {
   "cell_type": "markdown",
   "id": "c6f0949b-1b00-48bb-b16a-4879624501b0",
   "metadata": {
    "tags": []
   },
   "source": [
    "### houses_regulated"
   ]
  },
  {
   "cell_type": "markdown",
   "id": "cd198487-5f2a-4dd2-8d6a-5cc40fa25a0c",
   "metadata": {},
   "source": [
    "- 'outliers_regularisation_method', 'groupbycolumns' are declared in \"introduction\" section"
   ]
  },
  {
   "cell_type": "markdown",
   "id": "a014ad03-f157-488b-8551-618e818a00b4",
   "metadata": {},
   "source": [
    "#### Regulate \"expensive_PriceWise_houses\" and merge it with \"normal_PriceWise_houses\""
   ]
  },
  {
   "cell_type": "code",
   "execution_count": null,
   "id": "9c7b39f3-2d70-47fd-8791-f2ca9e92eadc",
   "metadata": {},
   "outputs": [],
   "source": [
    "reg_expensive_PriceWise_houses = expensive_PriceWise_houses.copy()\n",
    "reg_expensive_PriceWise_houses['Price'] = regulate_outliers(\n",
    "    df_data = expensive_PriceWise_houses, \n",
    "    method=outliers_regularisation_method, \n",
    "    groupby = groupbycolumns,\n",
    "    bothsides=False,\n",
    "    maxmin=False,\n",
    "    df_reference=normal_PriceWise_houses\n",
    ")"
   ]
  },
  {
   "cell_type": "code",
   "execution_count": null,
   "id": "c9d9c00a-5dbb-440a-b5f8-344352a4127e",
   "metadata": {},
   "outputs": [],
   "source": [
    "houses_regulated = pd.concat([normal_PriceWise_houses,reg_expensive_PriceWise_houses], axis=0)"
   ]
  },
  {
   "cell_type": "code",
   "execution_count": null,
   "id": "7e8994d7-18d0-4708-ac2b-51935c551b93",
   "metadata": {},
   "outputs": [],
   "source": [
    "houses_regulated = houses_regulated.loc[houses_regulated.Price.notna(),:]"
   ]
  },
  {
   "cell_type": "code",
   "execution_count": null,
   "id": "941f4127-ac00-4198-80a2-42074a0907b8",
   "metadata": {},
   "outputs": [],
   "source": [
    "houses_regulated.reset_index(drop=True,inplace=True)"
   ]
  },
  {
   "cell_type": "code",
   "execution_count": null,
   "id": "aa724a53-cf87-482f-9f4b-5106d1de242f",
   "metadata": {},
   "outputs": [],
   "source": [
    "houses_regulated['Price'] = regulate_outliers(\n",
    "    df_data = houses_regulated, \n",
    "    method=outliers_regularisation_method, \n",
    "    groupby = groupbycolumns,\n",
    "    bothsides=False,\n",
    "    maxmin=False\n",
    ")"
   ]
  },
  {
   "cell_type": "markdown",
   "id": "75b0b6c8-68a4-48b9-802f-b6eaae01121f",
   "metadata": {},
   "source": [
    "#### Visualization"
   ]
  },
  {
   "cell_type": "code",
   "execution_count": null,
   "id": "c061f0e8-79e8-4c0d-8303-62ba8ec4f9b6",
   "metadata": {
    "tags": []
   },
   "outputs": [],
   "source": [
    "houses_regulated.describe()"
   ]
  },
  {
   "cell_type": "code",
   "execution_count": null,
   "id": "821d2af2-e076-4bca-ae05-b5fa16dc165a",
   "metadata": {
    "tags": []
   },
   "outputs": [],
   "source": [
    "visualise_global(\n",
    "    houses_regulated,\n",
    "    grp_columns = [\"PropertyType\",\"Duration\",\"OldNew\"],\n",
    "    geo_col = [\"County\",\"District\",\"TownCity\"]\n",
    ")"
   ]
  },
  {
   "cell_type": "code",
   "execution_count": null,
   "id": "7149ee25-20fb-4a43-b38a-dc9f51bcd4fe",
   "metadata": {},
   "outputs": [],
   "source": [
    "price_distribution(houses_regulated,bins=100,kind='bar',transform_log=1)"
   ]
  },
  {
   "cell_type": "markdown",
   "id": "25436013-e811-4e5c-8b36-2284742b2064",
   "metadata": {
    "tags": []
   },
   "source": [
    "### Houses"
   ]
  },
  {
   "cell_type": "code",
   "execution_count": null,
   "id": "b5a4e4e6-9789-49e4-a20d-d17e9fd36218",
   "metadata": {
    "tags": []
   },
   "outputs": [],
   "source": [
    "houses = houses_regulated.copy()\n",
    "houses.reset_index(drop=True,inplace=True)"
   ]
  },
  {
   "cell_type": "code",
   "execution_count": null,
   "id": "68166b90-5a2d-4b4a-ab6b-cd4db76d480e",
   "metadata": {
    "tags": []
   },
   "outputs": [],
   "source": [
    "houses.isna().sum()"
   ]
  },
  {
   "cell_type": "markdown",
   "id": "fee18932-b3dc-4359-9c07-86a0df4ea02c",
   "metadata": {},
   "source": [
    "#### \"Weights\" Feature"
   ]
  },
  {
   "cell_type": "code",
   "execution_count": null,
   "id": "0ac31858-3968-409c-8af1-451e5f27171e",
   "metadata": {
    "tags": []
   },
   "outputs": [],
   "source": [
    "weight_func = lambda x:x"
   ]
  },
  {
   "cell_type": "markdown",
   "id": "7ffbdf2a-b160-4355-a632-a9c3f707eec9",
   "metadata": {
    "jp-MarkdownHeadingCollapsed": true
   },
   "source": [
    "##### Categorise Features weights"
   ]
  },
  {
   "cell_type": "markdown",
   "id": "5e1fe087-a9bc-4c9b-8de4-c8e3502fbccf",
   "metadata": {},
   "source": [
    "###### County"
   ]
  },
  {
   "cell_type": "code",
   "execution_count": null,
   "id": "6b25c585-9d5f-4e5c-964f-77c4f4b53fe9",
   "metadata": {
    "tags": []
   },
   "outputs": [],
   "source": [
    "categorised_counties_data = categorise(\n",
    "    col=\"County\",\n",
    "    df_data=houses,\n",
    "    weight_func = weight_func\n",
    ")\n",
    "houses.loc[:,'CountyWeights'] = categorised_counties_data['CountyWeights']\n",
    "counties_weights = categorised_counties_data['categories_weights']"
   ]
  },
  {
   "cell_type": "code",
   "execution_count": null,
   "id": "fef873fb-4433-4ccb-a2ec-02079ca3d0f9",
   "metadata": {},
   "outputs": [],
   "source": [
    "data_counties_weights = {\n",
    "    \"counties_weights\" : counties_weights.to_dict()\n",
    "}\n",
    "write_json(data_counties_weights,isNew=True)"
   ]
  },
  {
   "cell_type": "markdown",
   "id": "25c5f0f9-5f86-4cd7-bb23-3f77bb6ad2ad",
   "metadata": {},
   "source": [
    "###### District"
   ]
  },
  {
   "cell_type": "code",
   "execution_count": null,
   "id": "88c4036c-5cca-42d1-a5f7-dc9c677c0e40",
   "metadata": {
    "tags": []
   },
   "outputs": [],
   "source": [
    "categorised_districts_data = categorise(\n",
    "    col=\"District\",\n",
    "    df_data=houses,\n",
    "    weight_func = weight_func\n",
    ")\n",
    "houses.loc[:,'DistrictWeights'] = categorised_districts_data['DistrictWeights']\n",
    "districts_weights = categorised_districts_data['categories_weights']"
   ]
  },
  {
   "cell_type": "code",
   "execution_count": null,
   "id": "14e60a6a-e125-45cb-bf2e-4661d3430df3",
   "metadata": {},
   "outputs": [],
   "source": [
    "data_districts_weights = {\n",
    "    \"districts_weights\" : districts_weights.to_dict()\n",
    "}\n",
    "write_json(data_districts_weights)"
   ]
  },
  {
   "cell_type": "markdown",
   "id": "d27b53a2-61b0-4b55-8dc9-1524fc3c37e7",
   "metadata": {},
   "source": [
    "###### TownCity"
   ]
  },
  {
   "cell_type": "code",
   "execution_count": null,
   "id": "fee30a52-5cac-4d0a-ac78-def8a2dded11",
   "metadata": {
    "tags": []
   },
   "outputs": [],
   "source": [
    "categorised_cities_data = categorise(\n",
    "    col=\"TownCity\",\n",
    "    df_data=houses,\n",
    "    weight_func = weight_func\n",
    ")\n",
    "houses.loc[:,'TownCityWeights'] = categorised_cities_data['TownCityWeights']\n",
    "cities_weights = categorised_cities_data['categories_weights']"
   ]
  },
  {
   "cell_type": "code",
   "execution_count": null,
   "id": "da8a5277-7edb-4e70-8e1b-e610de0a47b8",
   "metadata": {},
   "outputs": [],
   "source": [
    "data_cities_weights = {\n",
    "    \"cities_weights\" : cities_weights.to_dict()\n",
    "}\n",
    "write_json(data_cities_weights)"
   ]
  },
  {
   "cell_type": "markdown",
   "id": "4777f95b-db1d-4ffe-9a15-8b0d55b0371c",
   "metadata": {},
   "source": [
    "###### Postcode"
   ]
  },
  {
   "cell_type": "code",
   "execution_count": null,
   "id": "247e2674-e744-4b8c-a156-a854be9172d3",
   "metadata": {
    "tags": []
   },
   "outputs": [],
   "source": [
    "categorised_PostcodeArea_data = categorise(\n",
    "    col=\"PostcodeArea\",\n",
    "    df_data=houses,\n",
    "    weight_func = weight_func\n",
    ")\n",
    "houses.loc[:,'PostcodeAreaWeights'] = categorised_PostcodeArea_data['PostcodeAreaWeights']\n",
    "PostcodeArea_weights = categorised_PostcodeArea_data['categories_weights']"
   ]
  },
  {
   "cell_type": "code",
   "execution_count": null,
   "id": "607d8cbc-0848-4254-9f96-c424d0c9f5b3",
   "metadata": {},
   "outputs": [],
   "source": [
    "data_PostcodeArea_weights = {\n",
    "    \"PostcodeArea_weights\" : PostcodeArea_weights.to_dict()\n",
    "}\n",
    "write_json(data_PostcodeArea_weights)"
   ]
  },
  {
   "cell_type": "markdown",
   "id": "3f9cb6d7-b997-4b8c-9f50-7f59998404f6",
   "metadata": {},
   "source": [
    "##### Load Features weights"
   ]
  },
  {
   "cell_type": "code",
   "execution_count": null,
   "id": "4cc6ab78-7cbc-428a-9592-d11286d07751",
   "metadata": {},
   "outputs": [],
   "source": [
    "weights_data = load_json()\n",
    "weights_dicts = {\n",
    "    'PostcodeArea' : weights_data[\"PostcodeArea_weights\"],\n",
    "    'TownCity' : weights_data[\"cities_weights\"],\n",
    "    'District' : weights_data[\"districts_weights\"],\n",
    "    'County' : weights_data[\"counties_weights\"]\n",
    "}\n",
    "\n",
    "for k,v in weights_dicts.items():\n",
    "    houses.loc[:,k+'Weights'] = houses.apply(lambda x:v[x[k]],axis=1)"
   ]
  },
  {
   "cell_type": "markdown",
   "id": "f93f5cee-87e1-4652-b0be-0dacd1c89928",
   "metadata": {},
   "source": [
    "##### Visualisation"
   ]
  },
  {
   "cell_type": "code",
   "execution_count": null,
   "id": "6fc720b7-6431-4492-9732-9f28048ac50b",
   "metadata": {},
   "outputs": [],
   "source": [
    "visualise_global(\n",
    "    houses,\n",
    "    bins=100,\n",
    "    scatter_col=[\n",
    "        \"CountyWeights\",\n",
    "        \"DistrictWeights\",\n",
    "        \"TownCityWeights\",\n",
    "        \"PostcodeAreaWeights\"\n",
    "    ]\n",
    ")"
   ]
  },
  {
   "cell_type": "markdown",
   "id": "ce437f41-dca9-4a09-be8c-2fd2ef19398c",
   "metadata": {},
   "source": [
    "#### Feature Transformation"
   ]
  },
  {
   "cell_type": "code",
   "execution_count": null,
   "id": "7032a3dd-d559-4db4-bd84-05ebf30f2f21",
   "metadata": {},
   "outputs": [],
   "source": [
    "houses_featured = houses.copy()\n",
    "col_scatter = []"
   ]
  },
  {
   "cell_type": "markdown",
   "id": "8ee97326-9b0c-4482-9136-e592a2fd99e6",
   "metadata": {},
   "source": [
    "##### 'transformation_func' for each column"
   ]
  },
  {
   "cell_type": "code",
   "execution_count": null,
   "id": "e0248428-8ddb-469b-b6cd-914e9221af0a",
   "metadata": {},
   "outputs": [],
   "source": [
    "scatter_col = {\n",
    "    \"CountyWeights\":lambda x: x**3,   #sigmoid : transformation_func = lambda x: sp.special.expit(x)\n",
    "    \"DistrictWeights\":lambda x: x**3,\n",
    "    \"TownCityWeights\":lambda x: x**3,\n",
    "    \"PostcodeAreaWeights\":lambda x: x**3\n",
    "}\n",
    "col_scatter_list = scatter_col if type(scatter_col)==list else scatter_col.keys()\n",
    "col_scatter = [col+'Transf' for col in col_scatter_list]\n",
    "for k,v in scatter_col.items():\n",
    "    houses_featured = transform_feat(\n",
    "        df=houses_featured,\n",
    "        cols=[k],\n",
    "        func_transform=v\n",
    "    )"
   ]
  },
  {
   "cell_type": "markdown",
   "id": "bb03f5ec-14f4-404b-bc23-aa79b8a94456",
   "metadata": {},
   "source": [
    "##### get 'income_area' features from api based on 'postcode'"
   ]
  },
  {
   "cell_type": "code",
   "execution_count": null,
   "id": "72c4e557-cdb5-45e1-a10f-467dc26dabe0",
   "metadata": {},
   "outputs": [],
   "source": [
    "import requests\n",
    "from bs4 import BeautifulSoup\n",
    "\n",
    "def get_incomeByPostcode(x):\n",
    "    if type(x) == str:\n",
    "        postcode_payload = x.strip().replace(r\"\\s+\",\"+\")\n",
    "        url = f\"https://townnames.co.uk/search/postcode-income-results?search={postcode_payload}\"\n",
    "        # scrap data\n",
    "        response = requests.get(url)\n",
    "        if response.status_code == 200:\n",
    "            soup = BeautifulSoup(response.content, \"html.parser\")\n",
    "            table = soup.find(\"table\",{\"id\":\"myTable\"})\n",
    "            tbody = table.find(\"tbody\")\n",
    "            data_list = [i.find_all(\"td\")[1].text for i in tbody.find_all(\"tr\")]\n",
    "        # get area_income\n",
    "            regexp = re.compile(r\"\\d+\")\n",
    "            data = [int(re.search(regexp,income).group()) for income in data_list]\n",
    "            if len(data)==0: return np.nan\n",
    "            return round(sum(data) / len(data), 2) #f\"{sum(data) / len(data):.2f}\" #float(\"%.2f\"%(sum(data) / len(data)))\n",
    "    elif math.isnan(x): return np.nan\n",
    "\n",
    "def postcodearea_averageincome(x,postcodes_income):\n",
    "    return np.nan if not (x in postcodes_income) else postcodes_income[x]\n",
    "\n",
    "def fix_incomearea(x,area_incomes_mean):\n",
    "    if not math.isnan(x[\"area_income\"]): return x[\"area_income\"]\n",
    "    elif not math.isnan(area_incomes_mean[x[\"postcode_group\"]]) : return area_incomes_mean[x[\"postcode_group\"]] \n",
    "    else: return area_incomes_mean.mean()"
   ]
  },
  {
   "cell_type": "markdown",
   "id": "58f9ed1e-a8d4-49cb-b1b4-d456bfd9f604",
   "metadata": {
    "jp-MarkdownHeadingCollapsed": true
   },
   "source": [
    "###### option 1 : Scrap data"
   ]
  },
  {
   "cell_type": "code",
   "execution_count": null,
   "id": "67a9a4cd-aa54-40ff-ac43-777081acfac1",
   "metadata": {},
   "outputs": [],
   "source": [
    "df_postcodes_income = pd.DataFrame(houses_featured['PostcodeArea'].value_counts().index,columns= [\"postcode\"])\n",
    "df_postcodes_income[\"area_income\"] = df_postcodes_income[\"postcode\"].apply(get_incomeByPostcode)"
   ]
  },
  {
   "cell_type": "code",
   "execution_count": null,
   "id": "9ed04ba6-1387-4905-bb9b-bc16a9cfe3ea",
   "metadata": {},
   "outputs": [],
   "source": [
    "postcodes_income = df_postcodes_income.copy()"
   ]
  },
  {
   "cell_type": "code",
   "execution_count": null,
   "id": "cd36ff40-6f4b-4d42-9a2d-aa4ce19c0764",
   "metadata": {},
   "outputs": [],
   "source": [
    "postcodes_income['postcode_group'] = postcodes_income.postcode.str.extract(r'([a-z]+)',flags=re.I)"
   ]
  },
  {
   "cell_type": "code",
   "execution_count": null,
   "id": "1d1106e2-3327-415d-af51-24a85f54755c",
   "metadata": {},
   "outputs": [],
   "source": [
    "area_incomes_mean = postcodes_income.groupby('postcode_group')[\"area_income\"].mean()\n",
    "postcodes_income[\"fixed_income\"] = postcodes_income.apply(lambda x:fix_incomearea(x,area_incomes_mean=area_incomes_mean),axis=1)"
   ]
  },
  {
   "cell_type": "code",
   "execution_count": null,
   "id": "a70db023-5606-4ba3-96c5-7e0c05aee4bb",
   "metadata": {},
   "outputs": [],
   "source": [
    "postcodes_income_dict = postcodes_income.set_index('postcode').to_dict()[\"fixed_income\"]"
   ]
  },
  {
   "cell_type": "code",
   "execution_count": null,
   "id": "a7111b92-7ba8-465d-bcfd-b5682bd78b73",
   "metadata": {},
   "outputs": [],
   "source": [
    "data_area_income = {\n",
    "    \"income_ByPostcode\" : postcodes_income_dict\n",
    "}\n",
    "write_json(data_area_income)"
   ]
  },
  {
   "cell_type": "markdown",
   "id": "0e2726ec-6747-47e1-aef7-6f0aa6e5216b",
   "metadata": {},
   "source": [
    "###### option 2 : load data"
   ]
  },
  {
   "cell_type": "code",
   "execution_count": null,
   "id": "1f6fadcb-1e4b-4d32-8224-8c924c4dd897",
   "metadata": {},
   "outputs": [],
   "source": [
    "postcodes_income_dict = load_json(data_name=\"income_ByPostcode\")"
   ]
  },
  {
   "cell_type": "markdown",
   "id": "e67da109-4d6a-47d4-b6d2-5aa82ac2c673",
   "metadata": {},
   "source": [
    "###### \"income_area\" feature"
   ]
  },
  {
   "cell_type": "code",
   "execution_count": null,
   "id": "e49cccd3-5b18-4a6c-9188-c69cdef5d8ce",
   "metadata": {},
   "outputs": [],
   "source": [
    "houses_featured['income_area'] = houses_featured['PostcodeArea'].apply(lambda x: postcodearea_averageincome(x,postcodes_income=postcodes_income_dict))"
   ]
  },
  {
   "cell_type": "code",
   "execution_count": null,
   "id": "e3f8ef28-134d-4dcc-93f8-ce082b4e9098",
   "metadata": {},
   "outputs": [],
   "source": [
    "houses_featured['income_area'].value_counts(dropna=False)"
   ]
  },
  {
   "cell_type": "markdown",
   "id": "29fa6500-09d7-460e-be70-940481a4a25f",
   "metadata": {},
   "source": [
    "###### \"income_area\" feature zscore"
   ]
  },
  {
   "cell_type": "code",
   "execution_count": null,
   "id": "6efbd66d-02f4-48c9-be05-d6fae9e03572",
   "metadata": {},
   "outputs": [],
   "source": [
    "from scipy import stats\n",
    "houses_featured['income_area_zscore'] = stats.zscore(houses_featured['income_area'])"
   ]
  },
  {
   "cell_type": "markdown",
   "id": "0a8cc039-765d-4422-8eca-5dc640543f29",
   "metadata": {},
   "source": [
    "##### Target : Price"
   ]
  },
  {
   "cell_type": "code",
   "execution_count": null,
   "id": "23dd755a-a4e8-4e00-8003-07c19e912051",
   "metadata": {},
   "outputs": [],
   "source": [
    "# f-1 : np.expm1(np.log1p(houses_featured.Price))\n",
    "houses_featured['Price'] = np.log1p(houses_featured.Price)"
   ]
  },
  {
   "cell_type": "markdown",
   "id": "83002078-8f77-48e6-8dda-dd627cf85da4",
   "metadata": {},
   "source": [
    "##### Visualization"
   ]
  },
  {
   "cell_type": "code",
   "execution_count": null,
   "id": "188ee240-f0b9-4e8e-9980-32a9de830a70",
   "metadata": {},
   "outputs": [],
   "source": [
    "houses_featured"
   ]
  },
  {
   "cell_type": "code",
   "execution_count": null,
   "id": "021755c5-f9ff-4053-8b55-67a6feff1f6e",
   "metadata": {
    "scrolled": true
   },
   "outputs": [],
   "source": [
    "visualise_global(\n",
    "    houses_featured,\n",
    "    bins=100,\n",
    "    scatter_col=col_scatter\n",
    ")"
   ]
  },
  {
   "cell_type": "markdown",
   "id": "306e1456-43c3-4ec0-82c8-d6a1578336de",
   "metadata": {},
   "source": [
    "## Data Encoding"
   ]
  },
  {
   "cell_type": "markdown",
   "id": "8b3ead45-2bf8-4558-88aa-0dfac866d1b8",
   "metadata": {
    "tags": []
   },
   "source": [
    "### houses_selected"
   ]
  },
  {
   "cell_type": "code",
   "execution_count": null,
   "id": "77f3d12f-a92a-427e-8d3b-24be6e1ef0e7",
   "metadata": {
    "tags": []
   },
   "outputs": [],
   "source": [
    "selected_features = [\n",
    "    'Price',\n",
    "    \"PropertyType\",\n",
    "    \"OldNew\",\n",
    "    \"Duration\",\n",
    "    \"PPDCategoryType\",\n",
    "    \"TransferMonth\",\n",
    "    \"TransferDay\",\n",
    "    \"CountyWeights\",\n",
    "    \"DistrictWeights\",\n",
    "    \"TownCityWeights\",\n",
    "    \"PostcodeAreaWeights\",\n",
    "    *[i for i in houses_featured.columns if 'income' in i],\n",
    "    *col_scatter\n",
    "]\n",
    "houses_selected = houses_featured.loc[:,selected_features].copy()\n",
    "houses_selected.reset_index(drop=True,inplace=True)"
   ]
  },
  {
   "cell_type": "code",
   "execution_count": null,
   "id": "ee1a9398-d9ec-4ba5-855c-c3cdc9a5b8b8",
   "metadata": {
    "tags": []
   },
   "outputs": [],
   "source": [
    "houses_selected"
   ]
  },
  {
   "cell_type": "markdown",
   "id": "8f9c61a7-b7e5-4012-8c7a-333b12431e74",
   "metadata": {
    "tags": []
   },
   "source": [
    "### houses_encoded"
   ]
  },
  {
   "cell_type": "code",
   "execution_count": null,
   "id": "b7511306-499e-4961-8590-37860a495e9c",
   "metadata": {
    "tags": []
   },
   "outputs": [],
   "source": [
    "houses_encoded = houses_selected.copy()"
   ]
  },
  {
   "cell_type": "markdown",
   "id": "710300fb-02fa-4bf7-8134-94792ed3100c",
   "metadata": {
    "tags": []
   },
   "source": [
    "#### Label encoding"
   ]
  },
  {
   "cell_type": "code",
   "execution_count": null,
   "id": "53461e32-89bb-4381-9317-60376fff776f",
   "metadata": {},
   "outputs": [],
   "source": [
    "from sklearn.preprocessing import LabelEncoder"
   ]
  },
  {
   "cell_type": "markdown",
   "id": "2619374a-0024-4708-a490-9b96e785719a",
   "metadata": {
    "jp-MarkdownHeadingCollapsed": true
   },
   "source": [
    "##### PPDCategoryType"
   ]
  },
  {
   "cell_type": "code",
   "execution_count": null,
   "id": "4b22b535-6be7-4aa5-88b5-f79f4ddbcb9c",
   "metadata": {},
   "outputs": [],
   "source": [
    "PPDCategoryType_encoder_dir = f'{model_dir_location}/label-encoders/'+'PPDCategoryType.npy'"
   ]
  },
  {
   "cell_type": "markdown",
   "id": "19f3801c-cb56-48d0-a8d1-cbfb74805c9b",
   "metadata": {
    "jp-MarkdownHeadingCollapsed": true
   },
   "source": [
    "###### Save"
   ]
  },
  {
   "cell_type": "code",
   "execution_count": null,
   "id": "eb9ef6b3-4921-47c3-837c-101b5ace6c15",
   "metadata": {
    "tags": []
   },
   "outputs": [],
   "source": [
    "PPDCategoryType_encoder = LabelEncoder()\n",
    "PPDCategoryType_encoder.fit(houses_encoded['PPDCategoryType'])\n",
    "np.save(PPDCategoryType_encoder_dir, PPDCategoryType_encoder.classes_)"
   ]
  },
  {
   "cell_type": "code",
   "execution_count": null,
   "id": "3b16cf9c-4161-4dad-8333-fd73adfd16e1",
   "metadata": {},
   "outputs": [],
   "source": [
    "houses_encoded['PPDCategoryType'] = PPDCategoryType_encoder.transform(houses_encoded['PPDCategoryType'])"
   ]
  },
  {
   "cell_type": "markdown",
   "id": "86f54ac5-d532-4964-8f2a-83d6c0dfcc47",
   "metadata": {
    "jp-MarkdownHeadingCollapsed": true
   },
   "source": [
    "###### Load"
   ]
  },
  {
   "cell_type": "code",
   "execution_count": null,
   "id": "8f96c26a-532d-48fc-bcc0-7a5a5328726b",
   "metadata": {},
   "outputs": [],
   "source": [
    "PPDCategoryType_encoder = LabelEncoder()\n",
    "PPDCategoryType_encoder.classes_ = np.load(PPDCategoryType_encoder_dir,allow_pickle=True)"
   ]
  },
  {
   "cell_type": "code",
   "execution_count": null,
   "id": "4e612eef-2d8e-4e1b-a2cf-a41f55bf8a4c",
   "metadata": {},
   "outputs": [],
   "source": [
    "houses_encoded['PPDCategoryType'] = PPDCategoryType_encoder.transform(houses_encoded['PPDCategoryType'])"
   ]
  },
  {
   "cell_type": "code",
   "execution_count": null,
   "id": "4a38a49f-401e-42de-9a72-59e0a3277c4d",
   "metadata": {},
   "outputs": [],
   "source": [
    "# PPDCategoryType_encoder.inverse_transform(houses_encoded['PPDCategoryType'])"
   ]
  },
  {
   "cell_type": "markdown",
   "id": "fdf115ab-3782-4a7e-b6e3-f920ec9bd18c",
   "metadata": {
    "jp-MarkdownHeadingCollapsed": true
   },
   "source": [
    "##### OldNew"
   ]
  },
  {
   "cell_type": "code",
   "execution_count": null,
   "id": "99f27633-d3c7-4862-bbb4-7eb74498fa0e",
   "metadata": {},
   "outputs": [],
   "source": [
    "OldNew_encoder_dir = f'{model_dir_location}/label-encoders/'+'OldNew.npy'"
   ]
  },
  {
   "cell_type": "markdown",
   "id": "18855a84-979c-4d14-aa2d-e6cd47e48879",
   "metadata": {
    "jp-MarkdownHeadingCollapsed": true
   },
   "source": [
    "###### Save"
   ]
  },
  {
   "cell_type": "code",
   "execution_count": null,
   "id": "a0073734-3497-460a-ba3e-c981bca36cad",
   "metadata": {},
   "outputs": [],
   "source": [
    "OldNew_encoder = LabelEncoder()\n",
    "OldNew_encoder.fit(houses_encoded['OldNew'])\n",
    "np.save(OldNew_encoder_dir, OldNew_encoder.classes_)"
   ]
  },
  {
   "cell_type": "code",
   "execution_count": null,
   "id": "aba82dc6-3616-4c31-bc19-914e05262730",
   "metadata": {},
   "outputs": [],
   "source": [
    "houses_encoded['OldNew'] = OldNew_encoder.transform(houses_encoded['OldNew'])"
   ]
  },
  {
   "cell_type": "markdown",
   "id": "e2bf88be-61ce-4fd8-9c64-af683ae9692c",
   "metadata": {
    "jp-MarkdownHeadingCollapsed": true
   },
   "source": [
    "###### Load"
   ]
  },
  {
   "cell_type": "code",
   "execution_count": null,
   "id": "4b74ba6c-f925-4c2a-a7ef-01f1c250bbb3",
   "metadata": {},
   "outputs": [],
   "source": [
    "OldNew_encoder = LabelEncoder()\n",
    "OldNew_encoder.classes_ = np.load(OldNew_encoder_dir,allow_pickle=True)"
   ]
  },
  {
   "cell_type": "code",
   "execution_count": null,
   "id": "b97f8d1a-04d9-4f33-a592-2dec6bee82e9",
   "metadata": {},
   "outputs": [],
   "source": [
    "houses_encoded['OldNew'] = OldNew_encoder.transform(houses_encoded['OldNew'])"
   ]
  },
  {
   "cell_type": "markdown",
   "id": "35467183-fc5c-4bad-a2f7-ea10aac1ba31",
   "metadata": {},
   "source": [
    "##### Duration"
   ]
  },
  {
   "cell_type": "code",
   "execution_count": null,
   "id": "b9717837-a2fd-4065-9a08-339305445836",
   "metadata": {},
   "outputs": [],
   "source": [
    "Duration_encoder_dir = f'{model_dir_location}/label-encoders/'+'Duration.npy'"
   ]
  },
  {
   "cell_type": "markdown",
   "id": "3af03c2b-565d-4cfe-9010-8dfdc07d025a",
   "metadata": {
    "jp-MarkdownHeadingCollapsed": true
   },
   "source": [
    "###### Save"
   ]
  },
  {
   "cell_type": "code",
   "execution_count": null,
   "id": "e101d90b-2fac-42ef-a4d2-425eb7df0925",
   "metadata": {},
   "outputs": [],
   "source": [
    "Duration_encoder = LabelEncoder()\n",
    "Duration_encoder.fit(houses_encoded['Duration'])\n",
    "np.save(Duration_encoder_dir, Duration_encoder.classes_)"
   ]
  },
  {
   "cell_type": "code",
   "execution_count": null,
   "id": "e28650c7-ae95-4c0f-ac1f-a1d49b8954bc",
   "metadata": {},
   "outputs": [],
   "source": [
    "houses_encoded['Duration'] = Duration_encoder.transform(houses_encoded['Duration'])"
   ]
  },
  {
   "cell_type": "markdown",
   "id": "6d61b51b-cdac-40d8-b386-68e2a75021e3",
   "metadata": {
    "jp-MarkdownHeadingCollapsed": true
   },
   "source": [
    "###### Load"
   ]
  },
  {
   "cell_type": "code",
   "execution_count": null,
   "id": "bef6cad6-158a-4b12-a0f3-2b912a43a6f4",
   "metadata": {},
   "outputs": [],
   "source": [
    "Duration_encoder = LabelEncoder()\n",
    "Duration_encoder.classes_ = np.load(Duration_encoder_dir,allow_pickle=True)"
   ]
  },
  {
   "cell_type": "code",
   "execution_count": null,
   "id": "6f09c680-5141-4865-ba60-fd4277772aa4",
   "metadata": {},
   "outputs": [],
   "source": [
    "houses_encoded['Duration'] = Duration_encoder.transform(houses_encoded['Duration'])"
   ]
  },
  {
   "cell_type": "markdown",
   "id": "743502e7-a4ea-4ad4-b371-761b535b0bbd",
   "metadata": {
    "tags": []
   },
   "source": [
    "#### OneHotEncoding"
   ]
  },
  {
   "cell_type": "code",
   "execution_count": null,
   "id": "0a97fcd8-b041-4f19-8b1c-cb1c06ec0550",
   "metadata": {},
   "outputs": [],
   "source": [
    "from sklearn.preprocessing import OneHotEncoder\n",
    "onehot_encoder_dir = f'{model_dir_location}/onhot-encoders/'"
   ]
  },
  {
   "cell_type": "markdown",
   "id": "750d33e4-220e-46fc-897c-13e6cc3e8fdd",
   "metadata": {},
   "source": [
    "##### PropretyType"
   ]
  },
  {
   "cell_type": "code",
   "execution_count": null,
   "id": "b608dd7e-3ae7-4450-bc3b-dd77cb1a8c07",
   "metadata": {},
   "outputs": [],
   "source": [
    "PropertyType_ohe_dir = f'{onehot_encoder_dir}/PropertyType_ohe'"
   ]
  },
  {
   "cell_type": "markdown",
   "id": "8e38f4ed-2cd9-4551-a098-158db6c60a88",
   "metadata": {},
   "source": [
    "###### Save"
   ]
  },
  {
   "cell_type": "code",
   "execution_count": null,
   "id": "fdcad32e-1265-47c5-bd13-50e01a959a04",
   "metadata": {
    "tags": []
   },
   "outputs": [],
   "source": [
    "PropertyType_ohe = OneHotEncoder(sparse_output=False) # feature_name_combiner=lambda x,y:str(x)+\"_\"+str(y)\n",
    "PropertyType_ohe.fit(houses_encoded[[\"PropertyType\"]])\n",
    "with open(PropertyType_ohe_dir, \"wb\") as f: \n",
    "    pickle.dump(PropertyType_ohe,f)"
   ]
  },
  {
   "cell_type": "markdown",
   "id": "ff150d77-8850-4ec3-a3b6-f4340f6b7981",
   "metadata": {},
   "source": [
    "###### Load"
   ]
  },
  {
   "cell_type": "code",
   "execution_count": null,
   "id": "f6200da5-2ece-48e4-ba2e-a1ea10ac7aff",
   "metadata": {},
   "outputs": [],
   "source": [
    "with open(PropertyType_ohe_dir, 'rb') as f:\n",
    "    PropertyType_ohe = pickle.load(f)"
   ]
  },
  {
   "cell_type": "markdown",
   "id": "4ff82f41-6a70-4fa5-847e-3ed106559aaf",
   "metadata": {},
   "source": [
    "###### Transform"
   ]
  },
  {
   "cell_type": "code",
   "execution_count": null,
   "id": "f7c94766-2478-491a-9b36-41bd80119337",
   "metadata": {},
   "outputs": [],
   "source": [
    "PropertyType_features = PropertyType_ohe.transform(houses_encoded[[\"PropertyType\"]])\n",
    "df_PropertyType_features = pd.DataFrame(\n",
    "    PropertyType_features, \n",
    "    columns = PropertyType_ohe.get_feature_names_out()\n",
    ")\n",
    "df_PropertyType_features"
   ]
  },
  {
   "cell_type": "code",
   "execution_count": null,
   "id": "74c79216-f4c8-4a2b-bb77-6fa228e53839",
   "metadata": {
    "tags": []
   },
   "outputs": [],
   "source": [
    "houses_encoded = pd.concat([houses_encoded,df_PropertyType_features], axis=1)"
   ]
  },
  {
   "cell_type": "markdown",
   "id": "3bd1c5a9-48f7-4175-9be0-3e4f455e088d",
   "metadata": {},
   "source": [
    "##### Month"
   ]
  },
  {
   "cell_type": "code",
   "execution_count": null,
   "id": "8c32ac1f-c967-4ca9-874e-de008216785e",
   "metadata": {},
   "outputs": [],
   "source": [
    "Month_ohe_dir = f'{onehot_encoder_dir}/Month_ohe'"
   ]
  },
  {
   "cell_type": "markdown",
   "id": "5e951f87-0b5f-47c8-a1cf-7648f33dd74c",
   "metadata": {},
   "source": [
    "###### Save"
   ]
  },
  {
   "cell_type": "code",
   "execution_count": null,
   "id": "ef6b71a3-39ad-42cd-859f-37bed522a61d",
   "metadata": {},
   "outputs": [],
   "source": [
    "Month_ohe = OneHotEncoder(sparse_output=False) # feature_name_combiner=lambda x,y:str(x)+\"_\"+str(y)\n",
    "Month_ohe.fit(houses_encoded[[\"TransferMonth\"]])\n",
    "with open(Month_ohe_dir, \"wb\") as f: \n",
    "    pickle.dump(Month_ohe,f)"
   ]
  },
  {
   "cell_type": "markdown",
   "id": "8471ae9b-4911-4ce6-862f-7e0d6677655d",
   "metadata": {},
   "source": [
    "###### Load"
   ]
  },
  {
   "cell_type": "code",
   "execution_count": null,
   "id": "97b092a3-3eed-4915-bd01-9d9ae48711ad",
   "metadata": {},
   "outputs": [],
   "source": [
    "with open(Month_ohe_dir, 'rb') as f:\n",
    "    Month_ohe = pickle.load(f)"
   ]
  },
  {
   "cell_type": "markdown",
   "id": "34a4f9bb-096e-4727-989a-71cf4dbb8153",
   "metadata": {},
   "source": [
    "###### Transform"
   ]
  },
  {
   "cell_type": "code",
   "execution_count": null,
   "id": "40a3a9ee-28e3-49d4-b7fa-427f9e09b4e8",
   "metadata": {},
   "outputs": [],
   "source": [
    "Month_features = Month_ohe.transform(houses_encoded[[\"TransferMonth\"]])\n",
    "df_Month_features = pd.DataFrame(\n",
    "    Month_features, \n",
    "    columns = Month_ohe.get_feature_names_out()\n",
    ")\n",
    "df_Month_features"
   ]
  },
  {
   "cell_type": "code",
   "execution_count": null,
   "id": "9dc6b6c0-9027-4314-a552-ae00236badcd",
   "metadata": {},
   "outputs": [],
   "source": [
    "houses_encoded = pd.concat([houses_encoded,df_Month_features], axis=1)"
   ]
  },
  {
   "cell_type": "markdown",
   "id": "1b3d46c6-5639-4699-9b17-4f3e1141835f",
   "metadata": {
    "tags": []
   },
   "source": [
    "#### fixing \"houses_encoded\""
   ]
  },
  {
   "cell_type": "code",
   "execution_count": null,
   "id": "b9bb845a-11cc-4781-ab4f-0f14cf0fbcfb",
   "metadata": {
    "tags": []
   },
   "outputs": [],
   "source": [
    "houses_encoded.drop(\n",
    "    [\n",
    "        \"PropertyType\",\n",
    "        \"TransferMonth\",\n",
    "        \"TransferDay\"\n",
    "    ],\n",
    "    axis=1,\n",
    "    inplace=True\n",
    ")"
   ]
  },
  {
   "cell_type": "code",
   "execution_count": null,
   "id": "88fceb13-61ca-4572-8f80-a3a5feb70b65",
   "metadata": {
    "tags": []
   },
   "outputs": [],
   "source": [
    "input_features_encoded = [k for k in houses_encoded.columns if not (k in (\"Price\",'income_area')) and not ('Weights' in k)]\n",
    "houses_encoded = houses_encoded.astype(\n",
    "    {\n",
    "        k:int for k in input_features_encoded\n",
    "    }\n",
    ")"
   ]
  },
  {
   "cell_type": "markdown",
   "id": "19848f39-ba6a-49f4-9b5d-479189cfb4d8",
   "metadata": {
    "tags": []
   },
   "source": [
    "#### show \"houses_encoded\""
   ]
  },
  {
   "cell_type": "code",
   "execution_count": null,
   "id": "b23faec9-cc00-4522-9f16-4f385f3ea34d",
   "metadata": {
    "tags": []
   },
   "outputs": [],
   "source": [
    "houses_encoded.info()"
   ]
  },
  {
   "cell_type": "code",
   "execution_count": null,
   "id": "41e0b0ed-dc03-4c52-8ec6-4ff84ac0af1c",
   "metadata": {
    "tags": []
   },
   "outputs": [],
   "source": [
    "houses_encoded.corr()['Price'].head(50)"
   ]
  },
  {
   "cell_type": "code",
   "execution_count": null,
   "id": "968de963-a273-4822-b593-216ad65d3d37",
   "metadata": {
    "tags": []
   },
   "outputs": [],
   "source": [
    "plt.figure(figsize = (25,25))\n",
    "sns.heatmap(houses_encoded.corr(), annot=True, cmap='coolwarm', fmt='.2f')\n",
    "plt.show()"
   ]
  },
  {
   "cell_type": "markdown",
   "id": "95a7e4ac-7d97-4a19-a921-9309f2e1037e",
   "metadata": {},
   "source": [
    "# Model Selection"
   ]
  },
  {
   "cell_type": "markdown",
   "id": "642417aa-c18b-4ce8-ad3c-75de150ed2f1",
   "metadata": {
    "tags": []
   },
   "source": [
    "## Data (for Modeling) & Data_Unseen (for test)"
   ]
  },
  {
   "cell_type": "code",
   "execution_count": null,
   "id": "de6ba40c-194b-45f5-aec9-7b5ca29c5bb9",
   "metadata": {
    "tags": []
   },
   "outputs": [],
   "source": [
    "data = stratified_sampling(\n",
    "    df=houses_encoded,\n",
    "    colname=\"PPDCategoryType\",\n",
    "    frac=0.95,\n",
    "    random_state=1\n",
    ")\n",
    "data_unseen = houses_encoded.drop(data.index)\n",
    "# drop index\n",
    "data.reset_index(inplace=True, drop=True)\n",
    "data_unseen.reset_index(inplace=True, drop=True)\n",
    "\n",
    "print('Data for Modeling: ' + str(data.shape))\n",
    "print('Unseen Data For Predictions: ' + str(data_unseen.shape))"
   ]
  },
  {
   "cell_type": "markdown",
   "id": "f594782e-d505-4b9a-8453-c4cc8309c962",
   "metadata": {
    "tags": []
   },
   "source": [
    "## Select Data_train"
   ]
  },
  {
   "cell_type": "code",
   "execution_count": null,
   "id": "e391e2fa-8fda-42a9-a265-2d504e71d22a",
   "metadata": {
    "tags": []
   },
   "outputs": [],
   "source": [
    "train_features = [k for k in data.columns if not ('Price' in k)] #or ('Month' in k))]\n",
    "target = 'Price'\n",
    "# inputs = [*train_features,target]\n",
    "inputs = [\n",
    "    'OldNew' ,  \n",
    "    'Duration' , \n",
    "    'PPDCategoryType',\n",
    "    # Month\n",
    "    *[k for k in data.columns if ('Month' in k)],\n",
    "    # Weights\n",
    "    # *[k for k in data.columns if ('Weights' in k) and (not (\"Transf\" in k))],\n",
    "    # # zscore\n",
    "    *[k for k in data.columns if ('WeightsTransf' in k)],\n",
    "    # PropertyType\n",
    "    *[k for k in data.columns if ('PropertyType' in k)],\n",
    "    # score\n",
    "    *[i for i in data.columns if 'income' in i],\n",
    "    # target\n",
    "    target\n",
    "]\n",
    "data_train = data.loc[:,inputs]"
   ]
  },
  {
   "cell_type": "code",
   "execution_count": null,
   "id": "03a9acc8-bd2d-43f6-a4bb-a56107b25aad",
   "metadata": {
    "tags": []
   },
   "outputs": [],
   "source": [
    "print(data_train.columns)\n",
    "print(data_train.shape)"
   ]
  },
  {
   "cell_type": "markdown",
   "id": "c0d149e9-f769-4c70-82a1-85c89a7217cb",
   "metadata": {},
   "source": [
    "### Modeling"
   ]
  },
  {
   "cell_type": "markdown",
   "id": "22f9d6e3-242c-4456-b098-302e6d8e68c4",
   "metadata": {},
   "source": [
    "#### Option 1: Sklearn"
   ]
  },
  {
   "cell_type": "code",
   "execution_count": null,
   "id": "ba0c09b4-0874-48ee-8771-e5328213a327",
   "metadata": {},
   "outputs": [],
   "source": [
    "from sklearn.metrics import r2_score\n",
    "from sklearn.model_selection import train_test_split"
   ]
  },
  {
   "cell_type": "code",
   "execution_count": null,
   "id": "f8b7f790-cbcc-4002-bd29-bc7ef5583a45",
   "metadata": {},
   "outputs": [],
   "source": [
    "inputs = [\n",
    "    'OldNew' ,  \n",
    "    'Duration' , \n",
    "    'PPDCategoryType',\n",
    "    # Month\n",
    "    *[k for k in data.columns if ('Month' in k)],\n",
    "    # Weights\n",
    "    *[k for k in data.columns if ('Weights' in k) and (not (\"Transf\" in k))],\n",
    "    # # zscore\n",
    "    # *[k for k in data.columns if ('WeightsTransf' in k)],\n",
    "    # PropertyType\n",
    "    *[k for k in data.columns if ('PropertyType' in k)],\n",
    "    # score\n",
    "    'income_area',\n",
    "    # 'income_area_zscore',\n",
    "    # *[i for i in data.columns if 'income' in i],\n",
    "    # target\n",
    "    target\n",
    "]\n",
    "data = houses_encoded.loc[:,inputs]"
   ]
  },
  {
   "cell_type": "code",
   "execution_count": null,
   "id": "031fdb83-afc1-40e9-8abf-9dd0240e96eb",
   "metadata": {},
   "outputs": [],
   "source": [
    "X_train, X_test, y_train, y_test = train_test_split(\n",
    "    data.loc[:,[i for i in data.columns if i!='Price']], \n",
    "    data.Price, \n",
    "    test_size=0.1, \n",
    "    random_state=13\n",
    ")"
   ]
  },
  {
   "cell_type": "markdown",
   "id": "87421e5d-75f2-4e02-95e7-6f5fed511ecd",
   "metadata": {
    "jp-MarkdownHeadingCollapsed": true
   },
   "source": [
    "##### HistGradientBoostingRegressor"
   ]
  },
  {
   "cell_type": "code",
   "execution_count": null,
   "id": "bedea485-262f-4045-a9d5-be1a1c131d58",
   "metadata": {},
   "outputs": [],
   "source": [
    "from sklearn.ensemble import HistGradientBoostingRegressor\n",
    "model = HistGradientBoostingRegressor().fit(X_train, y_train)"
   ]
  },
  {
   "cell_type": "code",
   "execution_count": null,
   "id": "8bf6e2cd-520f-43f1-8b0b-865beb6d2de0",
   "metadata": {},
   "outputs": [],
   "source": [
    "model.score(X_train, y_train)"
   ]
  },
  {
   "cell_type": "code",
   "execution_count": null,
   "id": "4b775d77-cf25-4aa9-81fa-fea6776c964d",
   "metadata": {},
   "outputs": [],
   "source": [
    "from sklearn.metrics import r2_score\n",
    "y_predictions = model.predict(X_test)\n",
    "r2_score(y_test, y_predictions)"
   ]
  },
  {
   "cell_type": "markdown",
   "id": "45bcde22-69a2-406d-a0d4-27ec0f54aa85",
   "metadata": {},
   "source": [
    "##### xgboost"
   ]
  },
  {
   "cell_type": "markdown",
   "id": "9f94c887-54ce-4a51-bbd1-194ec3f0f22f",
   "metadata": {},
   "source": [
    "###### option 1:"
   ]
  },
  {
   "cell_type": "code",
   "execution_count": null,
   "id": "140e26b6-e980-4569-b2c8-b868b1d91334",
   "metadata": {},
   "outputs": [],
   "source": [
    "from xgboost import XGBRegressor\n",
    "from sklearn.model_selection import RepeatedKFold, cross_val_score\n",
    "model = XGBRegressor(\n",
    "    n_estimators=1000, \n",
    "    max_depth=7, \n",
    "    eta=0.1, \n",
    "    subsample=0.7, \n",
    "    colsample_bytree=0.8,\n",
    "    device=\"cuda\"\n",
    ")\n",
    "cv = RepeatedKFold(\n",
    "    n_splits=10, \n",
    "    n_repeats=3, \n",
    "    random_state=1\n",
    ")\n",
    "scores = cross_val_score(\n",
    "    model, \n",
    "    X_train, \n",
    "    y_train, \n",
    "    scoring= 'r2',  #'neg_mean_squared_error', #'r2', \n",
    "    cv=cv, \n",
    "    n_jobs=-1\n",
    ")\n",
    "model.fit(X_train, y_train)\n",
    "model"
   ]
  },
  {
   "cell_type": "code",
   "execution_count": null,
   "id": "adf29bd2-372b-49d1-a123-868acbbe4fc5",
   "metadata": {},
   "outputs": [],
   "source": [
    "model.score(X_train, y_train)"
   ]
  },
  {
   "cell_type": "code",
   "execution_count": null,
   "id": "73de90f0-e1c4-49d0-aaf0-06c8f1e4636f",
   "metadata": {},
   "outputs": [],
   "source": [
    "y_predictions = model.predict(X_test)\n",
    "r2_score(y_test, y_predictions)"
   ]
  },
  {
   "cell_type": "code",
   "execution_count": null,
   "id": "081b1378-4d52-4b05-95b2-75cdb3fefaee",
   "metadata": {},
   "outputs": [],
   "source": [
    "filename = model_dir_location + 'model.sav'"
   ]
  },
  {
   "cell_type": "code",
   "execution_count": null,
   "id": "2d5a8921-2122-43b7-9752-36e5d52ec8cf",
   "metadata": {
    "scrolled": true
   },
   "outputs": [],
   "source": [
    "# save the model to disk\n",
    "pickle.dump(model, open(filename, 'wb'))"
   ]
  },
  {
   "cell_type": "code",
   "execution_count": null,
   "id": "64d908c6-62a7-4d03-940b-04098a519b99",
   "metadata": {},
   "outputs": [],
   "source": [
    "order_features = [\n",
    "    'OldNew', \n",
    "    'Duration', \n",
    "    'PPDCategoryType', \n",
    "    'TransferMonth_1', \n",
    "    'TransferMonth_2', \n",
    "    'TransferMonth_3', \n",
    "    'TransferMonth_4', \n",
    "    'TransferMonth_5', \n",
    "    'TransferMonth_6', \n",
    "    'TransferMonth_7', \n",
    "    'TransferMonth_8', \n",
    "    'TransferMonth_9', \n",
    "    'TransferMonth_10', \n",
    "    'TransferMonth_11', \n",
    "    'TransferMonth_12', \n",
    "    'CountyWeights', \n",
    "    'DistrictWeights', \n",
    "    'TownCityWeights', \n",
    "    'PostcodeAreaWeights', \n",
    "    'PropertyType_Detached', \n",
    "    'PropertyType_Flat', \n",
    "    'PropertyType_Other', \n",
    "    'PropertyType_SemiDetached', \n",
    "    'PropertyType_Terraced',\n",
    "    'income_area'\n",
    "] "
   ]
  },
  {
   "cell_type": "code",
   "execution_count": null,
   "id": "18980f8c-e14c-47f8-8d07-ab493d64dda1",
   "metadata": {},
   "outputs": [],
   "source": [
    "# load the model from disk\n",
    "loaded_model = pickle.load(open(filename, 'rb'))\n",
    "result = loaded_model.score(X_test.loc[:,order_features], y_test)\n",
    "print(result)"
   ]
  },
  {
   "cell_type": "markdown",
   "id": "a9d815d2-5e27-4a8a-a41f-7a7b452dd5b0",
   "metadata": {},
   "source": [
    "###### test"
   ]
  },
  {
   "cell_type": "code",
   "execution_count": null,
   "id": "41121f02-122e-427d-9fa0-50b6ce98aae7",
   "metadata": {},
   "outputs": [],
   "source": [
    "X_test.iloc[0].tolist()"
   ]
  },
  {
   "cell_type": "code",
   "execution_count": null,
   "id": "2fc9d309-d059-457d-874b-927c7dd3af8c",
   "metadata": {},
   "outputs": [],
   "source": [
    "input_tst= {\n",
    "    'OldNew' : \"Old\", \n",
    "    'Duration': \"Freehold\", \n",
    "    'PPDCategoryType': \"AdditionalPrice\", \n",
    "    \"Month\" : 1,\n",
    "    'CountyWeights': 2.61,\n",
    "    'DistrictWeights':2.246, \n",
    "    'TownCityWeights':2.015, \n",
    "    'PostcodeAreaWeights':1.85,\n",
    "    \"PropertyType\" : \"Flat\",\n",
    "    \"income_area\": 44363.99\n",
    "}\n",
    "feature_oldnew =  OldNew_encoder.transform([input_tst['OldNew']])\n",
    "feature_PPDCategoryType =  PPDCategoryType_encoder.transform([input_tst['PPDCategoryType']])\n",
    "feature_Duration =  Duration_encoder.transform([input_tst['Duration']])\n",
    "feature_PropertyType = PropertyType_ohe.transform([[input_tst['PropertyType']]])\n",
    "feature_Month = Month_ohe.transform([[input_tst['Month']]])"
   ]
  },
  {
   "cell_type": "code",
   "execution_count": null,
   "id": "92343ef6-7b4d-4693-b9e5-0a9d914f4ca0",
   "metadata": {},
   "outputs": [],
   "source": [
    "feature_Month"
   ]
  },
  {
   "cell_type": "code",
   "execution_count": null,
   "id": "a19c62bd-940a-41fd-b1c4-70e0f017708f",
   "metadata": {},
   "outputs": [],
   "source": [
    "features = [\n",
    "    *feature_oldnew,\n",
    "    *feature_Duration,\n",
    "    *feature_PPDCategoryType,\n",
    "    *feature_Month[0],\n",
    "    *[input_tst['CountyWeights'],input_tst['DistrictWeights'],input_tst['TownCityWeights'],input_tst['PostcodeAreaWeights']],\n",
    "    *feature_PropertyType[0],\n",
    "    *[input_tst['income_area']]\n",
    "]\n",
    "features"
   ]
  },
  {
   "cell_type": "code",
   "execution_count": null,
   "id": "0e0575d3-f60d-4dbc-aef9-5b089c1c45fc",
   "metadata": {},
   "outputs": [],
   "source": [
    "loaded_model = pickle.load(open(filename, 'rb'))\n",
    "y_predictions = loaded_model.predict([features])\n",
    "y_predictions[0]"
   ]
  },
  {
   "cell_type": "markdown",
   "id": "00dc5543-3b2a-4a07-8279-937c39644344",
   "metadata": {
    "jp-MarkdownHeadingCollapsed": true
   },
   "source": [
    "###### option 2:"
   ]
  },
  {
   "cell_type": "code",
   "execution_count": null,
   "id": "01caf63b-2ae2-4183-b1aa-556c3ede2625",
   "metadata": {
    "scrolled": true
   },
   "outputs": [],
   "source": [
    "from sklearn.metrics import get_scorer_names\n",
    "get_scorer_names()"
   ]
  },
  {
   "cell_type": "code",
   "execution_count": null,
   "id": "248346b9-2bb9-4b77-a36f-ef0fc5cf4106",
   "metadata": {},
   "outputs": [],
   "source": [
    "from xgboost import XGBRegressor\n",
    "from sklearn.model_selection import RepeatedKFold, cross_val_score, RandomizedSearchCV\n",
    "model = XGBRegressor(\n",
    "    n_estimators=1000, \n",
    "    max_depth=7, \n",
    "    eta=0.1, \n",
    "    subsample=0.7, \n",
    "    colsample_bytree=0.8,\n",
    "    device=\"cuda\"\n",
    ")\n",
    "log_params = {'penalty': ['l1', 'l2'], 'C': [1E-7, 1E-6, 1E-6, 1E-4, 1E-3]}\n",
    "search = RandomizedSearchCV(\n",
    "    model, \n",
    "    scoring='average_precision', \n",
    "    cv=10,\n",
    "    n_iter=10, \n",
    "    param_distributions=log_params,\n",
    "    refit=True, \n",
    "    n_jobs=-1\n",
    ")\n",
    "search.fit(X_train, y_train)\n",
    "model = search.best_estimator_"
   ]
  },
  {
   "cell_type": "markdown",
   "id": "ab30ddd8-d527-4dc6-9414-672642cfa537",
   "metadata": {},
   "source": [
    "##### linear regression:"
   ]
  },
  {
   "cell_type": "code",
   "execution_count": null,
   "id": "87beee39-4335-4f9e-ac0b-6483a89a2538",
   "metadata": {},
   "outputs": [],
   "source": [
    "from sklearn.linear_model import LinearRegression\n",
    "lr_model = LinearRegression()\n",
    "lr_model.fit(X_train, y_train)"
   ]
  },
  {
   "cell_type": "code",
   "execution_count": null,
   "id": "7313b989-03c2-4ef0-a98b-4116597a33cb",
   "metadata": {},
   "outputs": [],
   "source": [
    "lr_model.score(X_train, y_train)"
   ]
  },
  {
   "cell_type": "code",
   "execution_count": null,
   "id": "4fd3b63a-8d63-44fa-8a06-bb741b733017",
   "metadata": {},
   "outputs": [],
   "source": [
    "y_predictions = lr_model.predict(X_test)\n",
    "r2_score(y_test, y_predictions)"
   ]
  },
  {
   "cell_type": "markdown",
   "id": "2e9a98ba-b502-46f2-9354-0ab122c87b67",
   "metadata": {},
   "source": [
    "##### SVM:"
   ]
  },
  {
   "cell_type": "code",
   "execution_count": null,
   "id": "0e9355bc-e80b-4f61-85d1-d37be8c199f5",
   "metadata": {},
   "outputs": [],
   "source": [
    "from sklearn import svm\n",
    "svm_model = svm.SVR()\n",
    "svm_model.fit(X_train, y_train)"
   ]
  },
  {
   "cell_type": "code",
   "execution_count": null,
   "id": "32cb23dd-73d4-4b5d-837c-49510a72d8a4",
   "metadata": {},
   "outputs": [],
   "source": [
    "svm_model.score(X_train, y_train)"
   ]
  },
  {
   "cell_type": "code",
   "execution_count": null,
   "id": "3695df09-ed0b-4fba-b3c4-d9a6cf79c9c7",
   "metadata": {},
   "outputs": [],
   "source": [
    "y_predictions = svm_model.predict(X_test)\n",
    "r2_score(y_test, y_predictions)"
   ]
  },
  {
   "cell_type": "markdown",
   "id": "0cfa59ef-6be3-47a0-adf8-d049b69531cf",
   "metadata": {
    "jp-MarkdownHeadingCollapsed": true
   },
   "source": [
    "#### Option 2: Pycaret"
   ]
  },
  {
   "cell_type": "markdown",
   "id": "b5d87dd8-9ade-48c3-8ef2-a738a3c626bc",
   "metadata": {
    "jp-MarkdownHeadingCollapsed": true
   },
   "source": [
    "##### Training"
   ]
  },
  {
   "cell_type": "code",
   "execution_count": null,
   "id": "51bde707-9df5-42de-8520-06c0d3aa7704",
   "metadata": {
    "scrolled": true
   },
   "outputs": [],
   "source": [
    "from pycaret.regression import *\n",
    "predictor = setup(\n",
    "    data = data_train, \n",
    "    target = 'Price', \n",
    "    normalize=True ,\n",
    "    session_id=123,\n",
    "    use_gpu=True\n",
    ")"
   ]
  },
  {
   "cell_type": "code",
   "execution_count": null,
   "id": "e6aaf382-a7b2-4b3b-bdc0-7ed2f4918c26",
   "metadata": {
    "scrolled": true
   },
   "outputs": [],
   "source": [
    "models()"
   ]
  },
  {
   "cell_type": "code",
   "execution_count": null,
   "id": "d979cdff-f9de-4e8d-a382-a6684405c33e",
   "metadata": {},
   "outputs": [],
   "source": [
    "best_model = compare_models()"
   ]
  },
  {
   "cell_type": "code",
   "execution_count": null,
   "id": "7d4ad662-309e-461a-a700-c51f05d33b36",
   "metadata": {},
   "outputs": [],
   "source": [
    "print(best_model)"
   ]
  },
  {
   "cell_type": "markdown",
   "id": "ece211db-ece3-4f0f-abc8-cf591891167f",
   "metadata": {
    "jp-MarkdownHeadingCollapsed": true
   },
   "source": [
    "##### plot"
   ]
  },
  {
   "cell_type": "code",
   "execution_count": null,
   "id": "645fb38b-7c70-4a2b-bf31-8521f94167b1",
   "metadata": {},
   "outputs": [],
   "source": [
    "plot_model(best_model, plot = 'residuals')"
   ]
  },
  {
   "cell_type": "code",
   "execution_count": null,
   "id": "2665477f-9a6a-41bb-a9ad-21fe01396290",
   "metadata": {
    "tags": []
   },
   "outputs": [],
   "source": [
    "plot_model(best_model, plot = 'error')"
   ]
  },
  {
   "cell_type": "code",
   "execution_count": null,
   "id": "642bd81c-a18b-46bb-b650-8e5d4583d75b",
   "metadata": {
    "tags": []
   },
   "outputs": [],
   "source": [
    "plot_model(best_model, plot = 'feature')"
   ]
  },
  {
   "cell_type": "markdown",
   "id": "f334326e-4501-4208-933f-9e26b748cb1d",
   "metadata": {},
   "source": [
    "##### Model tuning"
   ]
  },
  {
   "cell_type": "code",
   "execution_count": null,
   "id": "3d656f61-1d39-43c8-8651-256d3df8dcc7",
   "metadata": {
    "scrolled": true,
    "tags": []
   },
   "outputs": [],
   "source": [
    "best_model_tuned = tune_model(best_model,optimize='R2')"
   ]
  },
  {
   "cell_type": "markdown",
   "id": "c55394ae-76b7-4589-9950-40fb14f0bad6",
   "metadata": {},
   "source": [
    "##### predict tuned model"
   ]
  },
  {
   "cell_type": "code",
   "execution_count": null,
   "id": "a41c18df-08a2-4682-b6fb-0f8708c8159a",
   "metadata": {
    "tags": []
   },
   "outputs": [],
   "source": [
    "best_model_tuned"
   ]
  },
  {
   "cell_type": "code",
   "execution_count": null,
   "id": "cc782534-71aa-45a4-9b17-d8d1e0b90a03",
   "metadata": {
    "tags": []
   },
   "outputs": [],
   "source": [
    "[x for x in data_unseen.columns]"
   ]
  },
  {
   "cell_type": "code",
   "execution_count": null,
   "id": "7f93a45f-75a6-4ce4-808b-de78c9db3746",
   "metadata": {
    "tags": []
   },
   "outputs": [],
   "source": [
    "data_unseen_inputs = data_unseen.loc[:,[k for k in data_unseen.columns if k!='Price']]\n",
    "data_unseen_output = data_unseen.loc[:,target]"
   ]
  },
  {
   "cell_type": "code",
   "execution_count": null,
   "id": "fe733275-f588-4391-8d0b-70e85ef97879",
   "metadata": {
    "tags": []
   },
   "outputs": [],
   "source": [
    "predictions = predict_model(best_model_tuned, data = data_unseen_inputs)"
   ]
  },
  {
   "cell_type": "code",
   "execution_count": null,
   "id": "5531484f-d9c6-4373-a725-f08561707cff",
   "metadata": {
    "tags": []
   },
   "outputs": [],
   "source": [
    "predictions.head()"
   ]
  },
  {
   "cell_type": "markdown",
   "id": "53d904eb-a25e-4fcb-8e7a-53baf3ffe092",
   "metadata": {},
   "source": [
    "##### r2"
   ]
  },
  {
   "cell_type": "code",
   "execution_count": null,
   "id": "90cf803f-8bc7-49db-8a75-f1e9a060bd4f",
   "metadata": {
    "tags": []
   },
   "outputs": [],
   "source": [
    "from sklearn.metrics import r2_score\n",
    "\n",
    "r2_score(data_unseen_output, predictions['prediction_label'])"
   ]
  },
  {
   "cell_type": "markdown",
   "id": "d294e9e7-9cc6-474e-b6ca-53b30ecb8139",
   "metadata": {},
   "source": [
    "##### finalise model"
   ]
  },
  {
   "cell_type": "code",
   "execution_count": null,
   "id": "db60db24-dce4-45d5-90aa-153f8d1675ba",
   "metadata": {
    "tags": []
   },
   "outputs": [],
   "source": [
    "house_predictor_model = finalize_model(best_model_tuned)"
   ]
  },
  {
   "cell_type": "code",
   "execution_count": null,
   "id": "e8889ca4-ed70-4c31-bf13-8386d83b74e3",
   "metadata": {
    "tags": []
   },
   "outputs": [],
   "source": [
    "predictions_finalised = predict_model(house_predictor_model, data = data_unseen_inputs)"
   ]
  },
  {
   "cell_type": "code",
   "execution_count": null,
   "id": "56d11a69-4c01-4e69-9ee2-ff2b2df6567f",
   "metadata": {
    "tags": []
   },
   "outputs": [],
   "source": [
    "from sklearn.metrics import r2_score\n",
    "\n",
    "r2_score(data_unseen_output, predictions_finalised['prediction_label'])"
   ]
  },
  {
   "cell_type": "markdown",
   "id": "eb51e770-3801-44ec-8319-7fa22a4ba926",
   "metadata": {},
   "source": [
    "##### save model"
   ]
  },
  {
   "cell_type": "code",
   "execution_count": null,
   "id": "65d57bb1-f3cf-4a04-9edd-ada39105f820",
   "metadata": {},
   "outputs": [],
   "source": [
    "model_version = 'v2' "
   ]
  },
  {
   "cell_type": "code",
   "execution_count": null,
   "id": "5eb9def6-666a-4e3a-8410-cf8ba58a1c5c",
   "metadata": {
    "tags": []
   },
   "outputs": [],
   "source": [
    "name_model = model_dir_location + 'house_predictor_model_withIncomeArea' + '_' + model_version\n",
    "save_model(house_predictor_model, name_model)"
   ]
  },
  {
   "cell_type": "markdown",
   "id": "9ce1229a-fd20-4311-b42a-5c3b0b83ca2c",
   "metadata": {},
   "source": [
    "##### load model"
   ]
  },
  {
   "cell_type": "code",
   "execution_count": null,
   "id": "1f4c0f8b-a738-4ac1-958b-32204dc3d53a",
   "metadata": {},
   "outputs": [],
   "source": [
    "model_version = 'v2' "
   ]
  },
  {
   "cell_type": "code",
   "execution_count": null,
   "id": "62bc361d-c802-4f74-a202-3ce1a51a2571",
   "metadata": {},
   "outputs": [],
   "source": [
    "name_model = model_dir_location + 'house_predictor_model' + \"_\" + model_version\n",
    "inputs = [\n",
    "    'OldNew' ,  \n",
    "    'Duration' , \n",
    "    'PPDCategoryType',\n",
    "    # Month\n",
    "    *[k for k in data.columns if ('Month' in k)],\n",
    "    # Weights\n",
    "    *[k for k in data.columns if ('Weights' in k) and (not (\"Transf\" in k))],\n",
    "    # # zscore\n",
    "    *[k for k in data.columns if ('WeightsTransf' in k)],\n",
    "    # PropertyType\n",
    "    *[k for k in data.columns if ('PropertyType' in k)],\n",
    "    # target\n",
    "    target\n",
    "]\n",
    "data_unseen_inputs = data_unseen.loc[:,[k for k in inputs if k!='Price']]"
   ]
  },
  {
   "cell_type": "code",
   "execution_count": null,
   "id": "68765bf8-f422-4635-8248-1d1ae8d5b5ff",
   "metadata": {
    "tags": []
   },
   "outputs": [],
   "source": [
    "house_predictor_model = load_model(name_model)"
   ]
  },
  {
   "cell_type": "code",
   "execution_count": null,
   "id": "08a00bb2-2e6a-4840-820a-de868aa2176c",
   "metadata": {
    "tags": []
   },
   "outputs": [],
   "source": [
    "predictions_mloaded = predict_model(house_predictor_model, data = data_unseen_inputs)"
   ]
  },
  {
   "cell_type": "code",
   "execution_count": null,
   "id": "ae8ee45e-4a04-4822-a467-716b3191f26f",
   "metadata": {
    "tags": []
   },
   "outputs": [],
   "source": [
    "from sklearn.metrics import r2_score\n",
    "\n",
    "r2_score(data_unseen_output, predictions_mloaded['prediction_label'])"
   ]
  },
  {
   "cell_type": "markdown",
   "id": "9700f36f-f5ce-48e0-a5fa-987df2352a84",
   "metadata": {},
   "source": [
    "### Selecting Features\n",
    "<a name='GDF'></a>\n",
    "Above, we knew that an $x^2$ term was required. It may not always be obvious which features are required. One could add a variety of potential features to try and find the most useful. For example, what if we had instead tried : $y=w_0x_0 + w_1x_1^2 + w_2x_2^3+b$ ? \n",
    "\n",
    "Run the next cells. "
   ]
  }
 ],
 "metadata": {
  "kernelspec": {
   "display_name": "pycaret3.0 (python 3.8)",
   "language": "python",
   "name": "pycaret3.0"
  },
  "language_info": {
   "codemirror_mode": {
    "name": "ipython",
    "version": 3
   },
   "file_extension": ".py",
   "mimetype": "text/x-python",
   "name": "python",
   "nbconvert_exporter": "python",
   "pygments_lexer": "ipython3",
   "version": "3.8.16"
  }
 },
 "nbformat": 4,
 "nbformat_minor": 5
}
